{
  "nbformat": 4,
  "nbformat_minor": 0,
  "metadata": {
    "colab": {
      "name": "annotate_split.ipynb",
      "provenance": [],
      "collapsed_sections": []
    },
    "kernelspec": {
      "name": "python3",
      "display_name": "Python 3"
    },
    "language_info": {
      "name": "python"
    }
  },
  "cells": [
    {
      "cell_type": "code",
      "metadata": {
        "colab": {
          "base_uri": "https://localhost:8080/",
          "height": 417
        },
        "id": "O_B_SEOgeGFY",
        "outputId": "900a2125-7ab7-4d05-98b2-751f3d154752"
      },
      "source": [
        "import pandas as pd\n",
        "\n",
        "df = pd.read_csv('result.csv')\n",
        "df.head()"
      ],
      "execution_count": 1,
      "outputs": [
        {
          "output_type": "execute_result",
          "data": {
            "text/html": [
              "<div>\n",
              "<style scoped>\n",
              "    .dataframe tbody tr th:only-of-type {\n",
              "        vertical-align: middle;\n",
              "    }\n",
              "\n",
              "    .dataframe tbody tr th {\n",
              "        vertical-align: top;\n",
              "    }\n",
              "\n",
              "    .dataframe thead th {\n",
              "        text-align: right;\n",
              "    }\n",
              "</style>\n",
              "<table border=\"1\" class=\"dataframe\">\n",
              "  <thead>\n",
              "    <tr style=\"text-align: right;\">\n",
              "      <th></th>\n",
              "      <th>id</th>\n",
              "      <th>author_id</th>\n",
              "      <th>like_count</th>\n",
              "      <th>quote_count</th>\n",
              "      <th>reply_count</th>\n",
              "      <th>retweet_count</th>\n",
              "      <th>text</th>\n",
              "    </tr>\n",
              "  </thead>\n",
              "  <tbody>\n",
              "    <tr>\n",
              "      <th>0</th>\n",
              "      <td>1389953924879110144</td>\n",
              "      <td>814294274950905856</td>\n",
              "      <td>0</td>\n",
              "      <td>0</td>\n",
              "      <td>0</td>\n",
              "      <td>0</td>\n",
              "      <td>abis minum kopi perasaan mesti gelisah gatau k...</td>\n",
              "    </tr>\n",
              "    <tr>\n",
              "      <th>1</th>\n",
              "      <td>1389952303407329283</td>\n",
              "      <td>716482703596474368</td>\n",
              "      <td>0</td>\n",
              "      <td>0</td>\n",
              "      <td>0</td>\n",
              "      <td>0</td>\n",
              "      <td>sumpah ya dari pagi rasanya gelisah terus</td>\n",
              "    </tr>\n",
              "    <tr>\n",
              "      <th>2</th>\n",
              "      <td>1389952181676122116</td>\n",
              "      <td>2681164664</td>\n",
              "      <td>0</td>\n",
              "      <td>0</td>\n",
              "      <td>0</td>\n",
              "      <td>0</td>\n",
              "      <td>Catia hari sabtu.Presntasi Statin hari sabtu.....</td>\n",
              "    </tr>\n",
              "    <tr>\n",
              "      <th>3</th>\n",
              "      <td>1389951640610902020</td>\n",
              "      <td>1125186137042014208</td>\n",
              "      <td>0</td>\n",
              "      <td>0</td>\n",
              "      <td>0</td>\n",
              "      <td>0</td>\n",
              "      <td>tbtb gelisah 🤕</td>\n",
              "    </tr>\n",
              "    <tr>\n",
              "      <th>4</th>\n",
              "      <td>1389950790266023936</td>\n",
              "      <td>1225259720623058948</td>\n",
              "      <td>0</td>\n",
              "      <td>0</td>\n",
              "      <td>2</td>\n",
              "      <td>0</td>\n",
              "      <td>Memasuki jam jam rawan... Seliweran mulu di ga...</td>\n",
              "    </tr>\n",
              "  </tbody>\n",
              "</table>\n",
              "</div>"
            ],
            "text/plain": [
              "                    id  ...                                               text\n",
              "0  1389953924879110144  ...  abis minum kopi perasaan mesti gelisah gatau k...\n",
              "1  1389952303407329283  ...          sumpah ya dari pagi rasanya gelisah terus\n",
              "2  1389952181676122116  ...  Catia hari sabtu.Presntasi Statin hari sabtu.....\n",
              "3  1389951640610902020  ...                                     tbtb gelisah 🤕\n",
              "4  1389950790266023936  ...  Memasuki jam jam rawan... Seliweran mulu di ga...\n",
              "\n",
              "[5 rows x 7 columns]"
            ]
          },
          "metadata": {
            "tags": []
          },
          "execution_count": 1
        }
      ]
    },
    {
      "cell_type": "code",
      "metadata": {
        "colab": {
          "base_uri": "https://localhost:8080/",
          "height": 206
        },
        "id": "vHkzcuwReZb8",
        "outputId": "c1318316-9af8-4c30-e551-1ede70f31e88"
      },
      "source": [
        "df = df.filter(['id', 'text'])\n",
        "df = df[df['text'].map(lambda x: len(x.split()) >= 3)]\n",
        "df.head()"
      ],
      "execution_count": 2,
      "outputs": [
        {
          "output_type": "execute_result",
          "data": {
            "text/html": [
              "<div>\n",
              "<style scoped>\n",
              "    .dataframe tbody tr th:only-of-type {\n",
              "        vertical-align: middle;\n",
              "    }\n",
              "\n",
              "    .dataframe tbody tr th {\n",
              "        vertical-align: top;\n",
              "    }\n",
              "\n",
              "    .dataframe thead th {\n",
              "        text-align: right;\n",
              "    }\n",
              "</style>\n",
              "<table border=\"1\" class=\"dataframe\">\n",
              "  <thead>\n",
              "    <tr style=\"text-align: right;\">\n",
              "      <th></th>\n",
              "      <th>id</th>\n",
              "      <th>text</th>\n",
              "    </tr>\n",
              "  </thead>\n",
              "  <tbody>\n",
              "    <tr>\n",
              "      <th>0</th>\n",
              "      <td>1389953924879110144</td>\n",
              "      <td>abis minum kopi perasaan mesti gelisah gatau k...</td>\n",
              "    </tr>\n",
              "    <tr>\n",
              "      <th>1</th>\n",
              "      <td>1389952303407329283</td>\n",
              "      <td>sumpah ya dari pagi rasanya gelisah terus</td>\n",
              "    </tr>\n",
              "    <tr>\n",
              "      <th>2</th>\n",
              "      <td>1389952181676122116</td>\n",
              "      <td>Catia hari sabtu.Presntasi Statin hari sabtu.....</td>\n",
              "    </tr>\n",
              "    <tr>\n",
              "      <th>3</th>\n",
              "      <td>1389951640610902020</td>\n",
              "      <td>tbtb gelisah 🤕</td>\n",
              "    </tr>\n",
              "    <tr>\n",
              "      <th>4</th>\n",
              "      <td>1389950790266023936</td>\n",
              "      <td>Memasuki jam jam rawan... Seliweran mulu di ga...</td>\n",
              "    </tr>\n",
              "  </tbody>\n",
              "</table>\n",
              "</div>"
            ],
            "text/plain": [
              "                    id                                               text\n",
              "0  1389953924879110144  abis minum kopi perasaan mesti gelisah gatau k...\n",
              "1  1389952303407329283          sumpah ya dari pagi rasanya gelisah terus\n",
              "2  1389952181676122116  Catia hari sabtu.Presntasi Statin hari sabtu.....\n",
              "3  1389951640610902020                                     tbtb gelisah 🤕\n",
              "4  1389950790266023936  Memasuki jam jam rawan... Seliweran mulu di ga..."
            ]
          },
          "metadata": {
            "tags": []
          },
          "execution_count": 2
        }
      ]
    },
    {
      "cell_type": "code",
      "metadata": {
        "colab": {
          "base_uri": "https://localhost:8080/"
        },
        "id": "xqey667YesF3",
        "outputId": "f4073f9b-0ef2-4b24-d84d-cf8f828b16fd"
      },
      "source": [
        "len(df)"
      ],
      "execution_count": 3,
      "outputs": [
        {
          "output_type": "execute_result",
          "data": {
            "text/plain": [
              "2751"
            ]
          },
          "metadata": {
            "tags": []
          },
          "execution_count": 3
        }
      ]
    },
    {
      "cell_type": "code",
      "metadata": {
        "colab": {
          "base_uri": "https://localhost:8080/"
        },
        "id": "dfboMHSVhRrs",
        "outputId": "168084d6-5d60-4743-d020-386333f1bd5b"
      },
      "source": [
        "df = df.head(1000)\n",
        "len(df)"
      ],
      "execution_count": 4,
      "outputs": [
        {
          "output_type": "execute_result",
          "data": {
            "text/plain": [
              "1000"
            ]
          },
          "metadata": {
            "tags": []
          },
          "execution_count": 4
        }
      ]
    },
    {
      "cell_type": "code",
      "metadata": {
        "colab": {
          "base_uri": "https://localhost:8080/",
          "height": 424
        },
        "id": "SC8zBHRdhbEN",
        "outputId": "bd8b9c4d-beec-447d-8cb3-276d11cf7312"
      },
      "source": [
        "df"
      ],
      "execution_count": 5,
      "outputs": [
        {
          "output_type": "execute_result",
          "data": {
            "text/html": [
              "<div>\n",
              "<style scoped>\n",
              "    .dataframe tbody tr th:only-of-type {\n",
              "        vertical-align: middle;\n",
              "    }\n",
              "\n",
              "    .dataframe tbody tr th {\n",
              "        vertical-align: top;\n",
              "    }\n",
              "\n",
              "    .dataframe thead th {\n",
              "        text-align: right;\n",
              "    }\n",
              "</style>\n",
              "<table border=\"1\" class=\"dataframe\">\n",
              "  <thead>\n",
              "    <tr style=\"text-align: right;\">\n",
              "      <th></th>\n",
              "      <th>id</th>\n",
              "      <th>text</th>\n",
              "    </tr>\n",
              "  </thead>\n",
              "  <tbody>\n",
              "    <tr>\n",
              "      <th>0</th>\n",
              "      <td>1389953924879110144</td>\n",
              "      <td>abis minum kopi perasaan mesti gelisah gatau k...</td>\n",
              "    </tr>\n",
              "    <tr>\n",
              "      <th>1</th>\n",
              "      <td>1389952303407329283</td>\n",
              "      <td>sumpah ya dari pagi rasanya gelisah terus</td>\n",
              "    </tr>\n",
              "    <tr>\n",
              "      <th>2</th>\n",
              "      <td>1389952181676122116</td>\n",
              "      <td>Catia hari sabtu.Presntasi Statin hari sabtu.....</td>\n",
              "    </tr>\n",
              "    <tr>\n",
              "      <th>3</th>\n",
              "      <td>1389951640610902020</td>\n",
              "      <td>tbtb gelisah 🤕</td>\n",
              "    </tr>\n",
              "    <tr>\n",
              "      <th>4</th>\n",
              "      <td>1389950790266023936</td>\n",
              "      <td>Memasuki jam jam rawan... Seliweran mulu di ga...</td>\n",
              "    </tr>\n",
              "    <tr>\n",
              "      <th>...</th>\n",
              "      <td>...</td>\n",
              "      <td>...</td>\n",
              "    </tr>\n",
              "    <tr>\n",
              "      <th>1019</th>\n",
              "      <td>1389076387684700162</td>\n",
              "      <td>Moots kalau berusaha tidur hadap kanan, hadap ...</td>\n",
              "    </tr>\n",
              "    <tr>\n",
              "      <th>1020</th>\n",
              "      <td>1389075326664286209</td>\n",
              "      <td>aku diem aja mbak nya cemas gmn kl aku gerak d...</td>\n",
              "    </tr>\n",
              "    <tr>\n",
              "      <th>1021</th>\n",
              "      <td>1389074928893267971</td>\n",
              "      <td>Tenang saja, semua akan baik baik saja. Tidak ...</td>\n",
              "    </tr>\n",
              "    <tr>\n",
              "      <th>1022</th>\n",
              "      <td>1389074441762611201</td>\n",
              "      <td>Tak sukanya orang beli baju berebut ni lepastu...</td>\n",
              "    </tr>\n",
              "    <tr>\n",
              "      <th>1023</th>\n",
              "      <td>1389074401883086850</td>\n",
              "      <td>Kalau pagi2 resah, gelisah, anxious itu tanda ...</td>\n",
              "    </tr>\n",
              "  </tbody>\n",
              "</table>\n",
              "<p>1000 rows × 2 columns</p>\n",
              "</div>"
            ],
            "text/plain": [
              "                       id                                               text\n",
              "0     1389953924879110144  abis minum kopi perasaan mesti gelisah gatau k...\n",
              "1     1389952303407329283          sumpah ya dari pagi rasanya gelisah terus\n",
              "2     1389952181676122116  Catia hari sabtu.Presntasi Statin hari sabtu.....\n",
              "3     1389951640610902020                                     tbtb gelisah 🤕\n",
              "4     1389950790266023936  Memasuki jam jam rawan... Seliweran mulu di ga...\n",
              "...                   ...                                                ...\n",
              "1019  1389076387684700162  Moots kalau berusaha tidur hadap kanan, hadap ...\n",
              "1020  1389075326664286209  aku diem aja mbak nya cemas gmn kl aku gerak d...\n",
              "1021  1389074928893267971  Tenang saja, semua akan baik baik saja. Tidak ...\n",
              "1022  1389074441762611201  Tak sukanya orang beli baju berebut ni lepastu...\n",
              "1023  1389074401883086850  Kalau pagi2 resah, gelisah, anxious itu tanda ...\n",
              "\n",
              "[1000 rows x 2 columns]"
            ]
          },
          "metadata": {
            "tags": []
          },
          "execution_count": 5
        }
      ]
    },
    {
      "cell_type": "markdown",
      "metadata": {
        "id": "t08LWWaIheAx"
      },
      "source": [
        "Three annotators, so each of them will get 300 tweets + 100 shared tweets. In total:\n",
        "\n",
        "$$3\\times 300 + 100 = 1000$$"
      ]
    },
    {
      "cell_type": "code",
      "metadata": {
        "id": "k_SU7alEhca_"
      },
      "source": [
        "split1, split2, split3, share = df[0:300], df[300:600], df[600:900], df[900:]"
      ],
      "execution_count": 25,
      "outputs": []
    },
    {
      "cell_type": "code",
      "metadata": {
        "id": "GvJoiTjKiOzb"
      },
      "source": [
        "split1.to_csv('split1.csv', index=False)\n",
        "split2.to_csv('split2.csv', index=False)\n",
        "split3.to_csv('split3.csv', index=False)\n",
        "share.to_csv('share.csv', index=False)"
      ],
      "execution_count": null,
      "outputs": []
    },
    {
      "cell_type": "markdown",
      "metadata": {
        "id": "XkkVjZV4BlTj"
      },
      "source": [
        "# Creating DATD dataset\n",
        "\n",
        "Merging back responses"
      ]
    },
    {
      "cell_type": "code",
      "metadata": {
        "id": "gdHqOGDeBoNf"
      },
      "source": [
        "def load_response(response_name):\n",
        "  res = []\n",
        "  with open('{}.response'.format(response_name)) as f:\n",
        "    res = [int(r.strip()) for r in f.readlines()]\n",
        "  return res"
      ],
      "execution_count": 26,
      "outputs": []
    },
    {
      "cell_type": "code",
      "metadata": {
        "id": "U-RBB7XBC1r0"
      },
      "source": [
        "rsplit1, rsplit2, rsplit3 = load_response('split1'), load_response('split2'), load_response('split3')"
      ],
      "execution_count": 27,
      "outputs": []
    },
    {
      "cell_type": "code",
      "metadata": {
        "id": "_BaoCX6uDE4y"
      },
      "source": [
        "rshare1, rshare2, rshare3 = load_response('share-1'), load_response('share-2'), load_response('share-3')"
      ],
      "execution_count": 28,
      "outputs": []
    },
    {
      "cell_type": "code",
      "metadata": {
        "colab": {
          "base_uri": "https://localhost:8080/"
        },
        "id": "hHMescLlEoZn",
        "outputId": "b00de494-48aa-4611-cc58-d377ae39ffef"
      },
      "source": [
        "print(rshare1)\n",
        "print(rshare2)\n",
        "print(rshare3)"
      ],
      "execution_count": 30,
      "outputs": [
        {
          "output_type": "stream",
          "text": [
            "[0, 1, 0, 0, 0, 0, 0, 0, 0, 0, 0, 0, 0, 0, 0, 1, 0, 1, 0, 0, 0, 1, 1, 0, 0, 0, 0, 1, 0, 0, 0, 0, 1, 0, 0, 0, 1, 0, 0, 0, 0, 0, 1, 0, 1, 1, 1, 0, 0, 1, 0, 0, 0, 1, 1, 1, 0, 0, 1, 1, 1, 0, 0, 0, 1, 1, 1, 0, 0, 0, 0, 1, 1, 0, 1, 0, 0, 0, 1, 0, 0, 0, 1, 0, 1, 1, 0, 0, 1, 0, 1, 1, 0, 0, 1, 0, 0, 0, 0, 0]\n",
            "[1, 1, 0, 0, 0, 0, 0, 0, 0, 0, 0, 0, 0, 0, 0, 1, 0, 1, 0, 0, 1, 1, 1, 0, 0, 0, 0, 1, 0, 0, 0, 1, 1, 0, 0, 0, 1, 0, 1, 0, 1, 0, 1, 0, 1, 1, 1, 0, 0, 1, 0, 0, 0, 1, 1, 1, 0, 1, 1, 0, 1, 1, 0, 0, 1, 1, 1, 0, 0, 0, 1, 0, 1, 0, 1, 0, 0, 0, 1, 0, 0, 1, 1, 0, 0, 1, 0, 0, 0, 0, 1, 1, 0, 1, 0, 0, 0, 1, 0, 0]\n",
            "[1, 1, 0, 0, 0, 0, 0, 0, 0, 0, 0, 0, 0, 0, 0, 0, 0, 1, 1, 0, 0, 0, 1, 0, 0, 0, 0, 1, 0, 0, 0, 0, 1, 0, 0, 0, 1, 0, 0, 0, 0, 0, 1, 0, 1, 0, 0, 0, 0, 1, 0, 0, 0, 0, 1, 1, 0, 0, 1, 1, 0, 0, 0, 0, 1, 1, 1, 1, 0, 0, 0, 0, 1, 0, 1, 0, 0, 0, 1, 0, 0, 0, 0, 0, 1, 0, 0, 0, 0, 0, 1, 1, 0, 0, 1, 0, 0, 0, 0, 0]\n"
          ],
          "name": "stdout"
        }
      ]
    },
    {
      "cell_type": "code",
      "metadata": {
        "colab": {
          "base_uri": "https://localhost:8080/"
        },
        "id": "kxLk0pVhDGLY",
        "outputId": "f05344f0-e7ae-49c7-df47-29c0d0ad40e9"
      },
      "source": [
        "rshare = []\n",
        "\n",
        "# three annotators, so tie is not possible\n",
        "for i in range(len(rshare1)):\n",
        "  zero = 0\n",
        "  one = 0\n",
        "  if rshare1[i] == 0:\n",
        "    zero += 1\n",
        "  else:\n",
        "    one += 1\n",
        "  \n",
        "  if rshare2[i] == 0:\n",
        "    zero += 1\n",
        "  else:\n",
        "    one += 1\n",
        "  \n",
        "  if rshare3[i] == 0:\n",
        "    zero += 1\n",
        "  else:\n",
        "    one += 1\n",
        "  \n",
        "  if zero > one:\n",
        "    rshare.append(0)\n",
        "  else:\n",
        "    rshare.append(1)\n",
        "\n",
        "print(rshare)"
      ],
      "execution_count": 32,
      "outputs": [
        {
          "output_type": "stream",
          "text": [
            "[1, 1, 0, 0, 0, 0, 0, 0, 0, 0, 0, 0, 0, 0, 0, 1, 0, 1, 0, 0, 0, 1, 1, 0, 0, 0, 0, 1, 0, 0, 0, 0, 1, 0, 0, 0, 1, 0, 0, 0, 0, 0, 1, 0, 1, 1, 1, 0, 0, 1, 0, 0, 0, 1, 1, 1, 0, 0, 1, 1, 1, 0, 0, 0, 1, 1, 1, 0, 0, 0, 0, 0, 1, 0, 1, 0, 0, 0, 1, 0, 0, 0, 1, 0, 1, 1, 0, 0, 0, 0, 1, 1, 0, 0, 1, 0, 0, 0, 0, 0]\n"
          ],
          "name": "stdout"
        }
      ]
    },
    {
      "cell_type": "code",
      "metadata": {
        "id": "ZhUggF7CDgFz"
      },
      "source": [
        "annotated_share = share.assign(label=rshare)"
      ],
      "execution_count": 35,
      "outputs": []
    },
    {
      "cell_type": "code",
      "metadata": {
        "id": "gIw5I-t5FRjI"
      },
      "source": [
        "annotated_split1 = split1.assign(label=rsplit1)\n",
        "annotated_split2 = split2.assign(label=rsplit2)\n",
        "annotated_split3 = split3.assign(label=rsplit3)"
      ],
      "execution_count": 36,
      "outputs": []
    },
    {
      "cell_type": "code",
      "metadata": {
        "id": "ial0WXtiFoS8"
      },
      "source": [
        "annotated_dataset = pd.concat([annotated_split1, annotated_split2, annotated_split3, annotated_share], axis=0)"
      ],
      "execution_count": 41,
      "outputs": []
    },
    {
      "cell_type": "code",
      "metadata": {
        "colab": {
          "base_uri": "https://localhost:8080/",
          "height": 424
        },
        "id": "AfyqW42pGYsZ",
        "outputId": "e3c77ec4-9f99-4fd8-dfc9-9189a65936ea"
      },
      "source": [
        "annotated_dataset"
      ],
      "execution_count": 42,
      "outputs": [
        {
          "output_type": "execute_result",
          "data": {
            "text/html": [
              "<div>\n",
              "<style scoped>\n",
              "    .dataframe tbody tr th:only-of-type {\n",
              "        vertical-align: middle;\n",
              "    }\n",
              "\n",
              "    .dataframe tbody tr th {\n",
              "        vertical-align: top;\n",
              "    }\n",
              "\n",
              "    .dataframe thead th {\n",
              "        text-align: right;\n",
              "    }\n",
              "</style>\n",
              "<table border=\"1\" class=\"dataframe\">\n",
              "  <thead>\n",
              "    <tr style=\"text-align: right;\">\n",
              "      <th></th>\n",
              "      <th>id</th>\n",
              "      <th>text</th>\n",
              "      <th>label</th>\n",
              "    </tr>\n",
              "  </thead>\n",
              "  <tbody>\n",
              "    <tr>\n",
              "      <th>0</th>\n",
              "      <td>1389953924879110144</td>\n",
              "      <td>abis minum kopi perasaan mesti gelisah gatau k...</td>\n",
              "      <td>0</td>\n",
              "    </tr>\n",
              "    <tr>\n",
              "      <th>1</th>\n",
              "      <td>1389952303407329283</td>\n",
              "      <td>sumpah ya dari pagi rasanya gelisah terus</td>\n",
              "      <td>1</td>\n",
              "    </tr>\n",
              "    <tr>\n",
              "      <th>2</th>\n",
              "      <td>1389952181676122116</td>\n",
              "      <td>Catia hari sabtu.Presntasi Statin hari sabtu.....</td>\n",
              "      <td>1</td>\n",
              "    </tr>\n",
              "    <tr>\n",
              "      <th>3</th>\n",
              "      <td>1389951640610902020</td>\n",
              "      <td>tbtb gelisah 🤕</td>\n",
              "      <td>0</td>\n",
              "    </tr>\n",
              "    <tr>\n",
              "      <th>4</th>\n",
              "      <td>1389950790266023936</td>\n",
              "      <td>Memasuki jam jam rawan... Seliweran mulu di ga...</td>\n",
              "      <td>0</td>\n",
              "    </tr>\n",
              "    <tr>\n",
              "      <th>...</th>\n",
              "      <td>...</td>\n",
              "      <td>...</td>\n",
              "      <td>...</td>\n",
              "    </tr>\n",
              "    <tr>\n",
              "      <th>1019</th>\n",
              "      <td>1389076387684700162</td>\n",
              "      <td>Moots kalau berusaha tidur hadap kanan, hadap ...</td>\n",
              "      <td>0</td>\n",
              "    </tr>\n",
              "    <tr>\n",
              "      <th>1020</th>\n",
              "      <td>1389075326664286209</td>\n",
              "      <td>aku diem aja mbak nya cemas gmn kl aku gerak d...</td>\n",
              "      <td>0</td>\n",
              "    </tr>\n",
              "    <tr>\n",
              "      <th>1021</th>\n",
              "      <td>1389074928893267971</td>\n",
              "      <td>Tenang saja, semua akan baik baik saja. Tidak ...</td>\n",
              "      <td>0</td>\n",
              "    </tr>\n",
              "    <tr>\n",
              "      <th>1022</th>\n",
              "      <td>1389074441762611201</td>\n",
              "      <td>Tak sukanya orang beli baju berebut ni lepastu...</td>\n",
              "      <td>0</td>\n",
              "    </tr>\n",
              "    <tr>\n",
              "      <th>1023</th>\n",
              "      <td>1389074401883086850</td>\n",
              "      <td>Kalau pagi2 resah, gelisah, anxious itu tanda ...</td>\n",
              "      <td>0</td>\n",
              "    </tr>\n",
              "  </tbody>\n",
              "</table>\n",
              "<p>1000 rows × 3 columns</p>\n",
              "</div>"
            ],
            "text/plain": [
              "                       id  ... label\n",
              "0     1389953924879110144  ...     0\n",
              "1     1389952303407329283  ...     1\n",
              "2     1389952181676122116  ...     1\n",
              "3     1389951640610902020  ...     0\n",
              "4     1389950790266023936  ...     0\n",
              "...                   ...  ...   ...\n",
              "1019  1389076387684700162  ...     0\n",
              "1020  1389075326664286209  ...     0\n",
              "1021  1389074928893267971  ...     0\n",
              "1022  1389074441762611201  ...     0\n",
              "1023  1389074401883086850  ...     0\n",
              "\n",
              "[1000 rows x 3 columns]"
            ]
          },
          "metadata": {
            "tags": []
          },
          "execution_count": 42
        }
      ]
    },
    {
      "cell_type": "code",
      "metadata": {
        "colab": {
          "base_uri": "https://localhost:8080/"
        },
        "id": "z_pZ_AvEGa9I",
        "outputId": "3438752c-8738-4551-a036-30723396be7b"
      },
      "source": [
        "from collections import Counter\n",
        "\n",
        "label_counter = Counter(annotated_dataset['label'])\n",
        "print(label_counter)"
      ],
      "execution_count": 45,
      "outputs": [
        {
          "output_type": "stream",
          "text": [
            "Counter({0: 591, 1: 409})\n"
          ],
          "name": "stdout"
        }
      ]
    },
    {
      "cell_type": "markdown",
      "metadata": {
        "id": "C89oE_HHHQPn"
      },
      "source": [
        "Dropping `id` because it's not relevant for classification"
      ]
    },
    {
      "cell_type": "code",
      "metadata": {
        "id": "wP-i3SsjHP4l"
      },
      "source": [
        "annotated_dataset = annotated_dataset.drop('id', axis=1)"
      ],
      "execution_count": null,
      "outputs": []
    },
    {
      "cell_type": "code",
      "metadata": {
        "colab": {
          "base_uri": "https://localhost:8080/"
        },
        "id": "l0kGd6OxHlEI",
        "outputId": "86c2f8b9-adca-4203-e708-45150e59c653"
      },
      "source": [
        "print(annotated_dataset)"
      ],
      "execution_count": 49,
      "outputs": [
        {
          "output_type": "stream",
          "text": [
            "                                                   text  label\n",
            "0     abis minum kopi perasaan mesti gelisah gatau k...      0\n",
            "1             sumpah ya dari pagi rasanya gelisah terus      1\n",
            "2     Catia hari sabtu.Presntasi Statin hari sabtu.....      1\n",
            "3                                        tbtb gelisah 🤕      0\n",
            "4     Memasuki jam jam rawan... Seliweran mulu di ga...      0\n",
            "...                                                 ...    ...\n",
            "1019  Moots kalau berusaha tidur hadap kanan, hadap ...      0\n",
            "1020  aku diem aja mbak nya cemas gmn kl aku gerak d...      0\n",
            "1021  Tenang saja, semua akan baik baik saja. Tidak ...      0\n",
            "1022  Tak sukanya orang beli baju berebut ni lepastu...      0\n",
            "1023  Kalau pagi2 resah, gelisah, anxious itu tanda ...      0\n",
            "\n",
            "[1000 rows x 2 columns]\n"
          ],
          "name": "stdout"
        }
      ]
    },
    {
      "cell_type": "code",
      "metadata": {
        "id": "9Jp0UsdHIO3G"
      },
      "source": [
        "annotated_dataset.to_csv('datd.csv', index=False)"
      ],
      "execution_count": 61,
      "outputs": []
    },
    {
      "cell_type": "markdown",
      "metadata": {
        "id": "zd8M-V8gIPai"
      },
      "source": [
        "# Creating DATD+Rand dataset"
      ]
    },
    {
      "cell_type": "code",
      "metadata": {
        "colab": {
          "base_uri": "https://localhost:8080/",
          "height": 424
        },
        "id": "FOeLdTDDH-T0",
        "outputId": "aecb857c-b032-4cac-e043-ef8a8b581e6f"
      },
      "source": [
        "annotated_dataset[annotated_dataset['label'] == 1]"
      ],
      "execution_count": 50,
      "outputs": [
        {
          "output_type": "execute_result",
          "data": {
            "text/html": [
              "<div>\n",
              "<style scoped>\n",
              "    .dataframe tbody tr th:only-of-type {\n",
              "        vertical-align: middle;\n",
              "    }\n",
              "\n",
              "    .dataframe tbody tr th {\n",
              "        vertical-align: top;\n",
              "    }\n",
              "\n",
              "    .dataframe thead th {\n",
              "        text-align: right;\n",
              "    }\n",
              "</style>\n",
              "<table border=\"1\" class=\"dataframe\">\n",
              "  <thead>\n",
              "    <tr style=\"text-align: right;\">\n",
              "      <th></th>\n",
              "      <th>text</th>\n",
              "      <th>label</th>\n",
              "    </tr>\n",
              "  </thead>\n",
              "  <tbody>\n",
              "    <tr>\n",
              "      <th>1</th>\n",
              "      <td>sumpah ya dari pagi rasanya gelisah terus</td>\n",
              "      <td>1</td>\n",
              "    </tr>\n",
              "    <tr>\n",
              "      <th>2</th>\n",
              "      <td>Catia hari sabtu.Presntasi Statin hari sabtu.....</td>\n",
              "      <td>1</td>\n",
              "    </tr>\n",
              "    <tr>\n",
              "      <th>11</th>\n",
              "      <td>Pernah gasi ngerasain tiap hari gelisah karena...</td>\n",
              "      <td>1</td>\n",
              "    </tr>\n",
              "    <tr>\n",
              "      <th>14</th>\n",
              "      <td>Aku makin gelisah, dan aku menangis sejadi jad...</td>\n",
              "      <td>1</td>\n",
              "    </tr>\n",
              "    <tr>\n",
              "      <th>15</th>\n",
              "      <td>ko aku dekdekan kenapa ya??aku gelisah banget</td>\n",
              "      <td>1</td>\n",
              "    </tr>\n",
              "    <tr>\n",
              "      <th>...</th>\n",
              "      <td>...</td>\n",
              "      <td>...</td>\n",
              "    </tr>\n",
              "    <tr>\n",
              "      <th>1007</th>\n",
              "      <td>2020-2021 adalah tahun sulit dimana aku kehila...</td>\n",
              "      <td>1</td>\n",
              "    </tr>\n",
              "    <tr>\n",
              "      <th>1008</th>\n",
              "      <td>gelisah, padahal gitu doang bd</td>\n",
              "      <td>1</td>\n",
              "    </tr>\n",
              "    <tr>\n",
              "      <th>1014</th>\n",
              "      <td>Kok gw jadi cemas yak</td>\n",
              "      <td>1</td>\n",
              "    </tr>\n",
              "    <tr>\n",
              "      <th>1015</th>\n",
              "      <td>Entah kenapa tiba-tiba rasanya gundah, resah, ...</td>\n",
              "      <td>1</td>\n",
              "    </tr>\n",
              "    <tr>\n",
              "      <th>1018</th>\n",
              "      <td>Het gelisah bet ini ngapa tau wkwkk</td>\n",
              "      <td>1</td>\n",
              "    </tr>\n",
              "  </tbody>\n",
              "</table>\n",
              "<p>409 rows × 2 columns</p>\n",
              "</div>"
            ],
            "text/plain": [
              "                                                   text  label\n",
              "1             sumpah ya dari pagi rasanya gelisah terus      1\n",
              "2     Catia hari sabtu.Presntasi Statin hari sabtu.....      1\n",
              "11    Pernah gasi ngerasain tiap hari gelisah karena...      1\n",
              "14    Aku makin gelisah, dan aku menangis sejadi jad...      1\n",
              "15        ko aku dekdekan kenapa ya??aku gelisah banget      1\n",
              "...                                                 ...    ...\n",
              "1007  2020-2021 adalah tahun sulit dimana aku kehila...      1\n",
              "1008                     gelisah, padahal gitu doang bd      1\n",
              "1014                              Kok gw jadi cemas yak      1\n",
              "1015  Entah kenapa tiba-tiba rasanya gundah, resah, ...      1\n",
              "1018                Het gelisah bet ini ngapa tau wkwkk      1\n",
              "\n",
              "[409 rows x 2 columns]"
            ]
          },
          "metadata": {
            "tags": []
          },
          "execution_count": 50
        }
      ]
    },
    {
      "cell_type": "markdown",
      "metadata": {
        "id": "cPaIbUkCJx7M"
      },
      "source": [
        "Based on the paper, DATD+Rand contained $10.5\\%$ positive instances, so we will solve\n",
        "\n",
        "$$\\dfrac{409}{409+x} = 0.105$$\n",
        "\n",
        "and we get $x = \\lfloor 3486.24 \\rfloor \\approx 3486$"
      ]
    },
    {
      "cell_type": "code",
      "metadata": {
        "colab": {
          "base_uri": "https://localhost:8080/",
          "height": 424
        },
        "id": "ZXTtKnMmGx-Z",
        "outputId": "621841ec-ad74-49ba-cd5f-131a6d4bd855"
      },
      "source": [
        "random_df = pd.read_csv('random_dataset.csv')\n",
        "random_df = random_df.filter(['text'])\n",
        "random_df['label'] = 0\n",
        "random_df.head(3486)"
      ],
      "execution_count": 59,
      "outputs": [
        {
          "output_type": "execute_result",
          "data": {
            "text/html": [
              "<div>\n",
              "<style scoped>\n",
              "    .dataframe tbody tr th:only-of-type {\n",
              "        vertical-align: middle;\n",
              "    }\n",
              "\n",
              "    .dataframe tbody tr th {\n",
              "        vertical-align: top;\n",
              "    }\n",
              "\n",
              "    .dataframe thead th {\n",
              "        text-align: right;\n",
              "    }\n",
              "</style>\n",
              "<table border=\"1\" class=\"dataframe\">\n",
              "  <thead>\n",
              "    <tr style=\"text-align: right;\">\n",
              "      <th></th>\n",
              "      <th>text</th>\n",
              "      <th>label</th>\n",
              "    </tr>\n",
              "  </thead>\n",
              "  <tbody>\n",
              "    <tr>\n",
              "      <th>0</th>\n",
              "      <td>Gr gr mimpiin mantan crush jdi gamon gue ya Allah</td>\n",
              "      <td>0</td>\n",
              "    </tr>\n",
              "    <tr>\n",
              "      <th>1</th>\n",
              "      <td>wkwkwk apaansi lawak</td>\n",
              "      <td>0</td>\n",
              "    </tr>\n",
              "    <tr>\n",
              "      <th>2</th>\n",
              "      <td>Cuti2 pun standby depan pc 😅 sebab office tak ...</td>\n",
              "      <td>0</td>\n",
              "    </tr>\n",
              "    <tr>\n",
              "      <th>3</th>\n",
              "      <td>Alhamdulillah meskipun hanya numpang lewat</td>\n",
              "      <td>0</td>\n",
              "    </tr>\n",
              "    <tr>\n",
              "      <th>4</th>\n",
              "      <td>konsep teaser pernikahan pake lagu day6 - only...</td>\n",
              "      <td>0</td>\n",
              "    </tr>\n",
              "    <tr>\n",
              "      <th>...</th>\n",
              "      <td>...</td>\n",
              "      <td>...</td>\n",
              "    </tr>\n",
              "    <tr>\n",
              "      <th>3481</th>\n",
              "      <td>ntar dlu ya ma lipat bajunya ak lagi naikin ht...</td>\n",
              "      <td>0</td>\n",
              "    </tr>\n",
              "    <tr>\n",
              "      <th>3482</th>\n",
              "      <td>Ah mangkok nye aku 😭😭😭😭</td>\n",
              "      <td>0</td>\n",
              "    </tr>\n",
              "    <tr>\n",
              "      <th>3483</th>\n",
              "      <td>“Walaupun aQ hrs membahayakan hidupku, aQ hrs ...</td>\n",
              "      <td>0</td>\n",
              "    </tr>\n",
              "    <tr>\n",
              "      <th>3484</th>\n",
              "      <td>teel isinya perbucinan</td>\n",
              "      <td>0</td>\n",
              "    </tr>\n",
              "    <tr>\n",
              "      <th>3485</th>\n",
              "      <td>Lamak na status proses pengkreditan tok 😭😭</td>\n",
              "      <td>0</td>\n",
              "    </tr>\n",
              "  </tbody>\n",
              "</table>\n",
              "<p>3486 rows × 2 columns</p>\n",
              "</div>"
            ],
            "text/plain": [
              "                                                   text  label\n",
              "0     Gr gr mimpiin mantan crush jdi gamon gue ya Allah      0\n",
              "1                                  wkwkwk apaansi lawak      0\n",
              "2     Cuti2 pun standby depan pc 😅 sebab office tak ...      0\n",
              "3            Alhamdulillah meskipun hanya numpang lewat      0\n",
              "4     konsep teaser pernikahan pake lagu day6 - only...      0\n",
              "...                                                 ...    ...\n",
              "3481  ntar dlu ya ma lipat bajunya ak lagi naikin ht...      0\n",
              "3482                            Ah mangkok nye aku 😭😭😭😭      0\n",
              "3483  “Walaupun aQ hrs membahayakan hidupku, aQ hrs ...      0\n",
              "3484                             teel isinya perbucinan      0\n",
              "3485         Lamak na status proses pengkreditan tok 😭😭      0\n",
              "\n",
              "[3486 rows x 2 columns]"
            ]
          },
          "metadata": {
            "tags": []
          },
          "execution_count": 59
        }
      ]
    },
    {
      "cell_type": "code",
      "metadata": {
        "colab": {
          "base_uri": "https://localhost:8080/",
          "height": 424
        },
        "id": "0zra_4lPIlLq",
        "outputId": "3282b12f-3fe6-4ebc-afa6-96c8bd8952c0"
      },
      "source": [
        "annotated_random = pd.concat([annotated_dataset[annotated_dataset['label'] == 1], random_df.head(3486)], axis=0)\n",
        "annotated_random"
      ],
      "execution_count": 60,
      "outputs": [
        {
          "output_type": "execute_result",
          "data": {
            "text/html": [
              "<div>\n",
              "<style scoped>\n",
              "    .dataframe tbody tr th:only-of-type {\n",
              "        vertical-align: middle;\n",
              "    }\n",
              "\n",
              "    .dataframe tbody tr th {\n",
              "        vertical-align: top;\n",
              "    }\n",
              "\n",
              "    .dataframe thead th {\n",
              "        text-align: right;\n",
              "    }\n",
              "</style>\n",
              "<table border=\"1\" class=\"dataframe\">\n",
              "  <thead>\n",
              "    <tr style=\"text-align: right;\">\n",
              "      <th></th>\n",
              "      <th>text</th>\n",
              "      <th>label</th>\n",
              "    </tr>\n",
              "  </thead>\n",
              "  <tbody>\n",
              "    <tr>\n",
              "      <th>1</th>\n",
              "      <td>sumpah ya dari pagi rasanya gelisah terus</td>\n",
              "      <td>1</td>\n",
              "    </tr>\n",
              "    <tr>\n",
              "      <th>2</th>\n",
              "      <td>Catia hari sabtu.Presntasi Statin hari sabtu.....</td>\n",
              "      <td>1</td>\n",
              "    </tr>\n",
              "    <tr>\n",
              "      <th>11</th>\n",
              "      <td>Pernah gasi ngerasain tiap hari gelisah karena...</td>\n",
              "      <td>1</td>\n",
              "    </tr>\n",
              "    <tr>\n",
              "      <th>14</th>\n",
              "      <td>Aku makin gelisah, dan aku menangis sejadi jad...</td>\n",
              "      <td>1</td>\n",
              "    </tr>\n",
              "    <tr>\n",
              "      <th>15</th>\n",
              "      <td>ko aku dekdekan kenapa ya??aku gelisah banget</td>\n",
              "      <td>1</td>\n",
              "    </tr>\n",
              "    <tr>\n",
              "      <th>...</th>\n",
              "      <td>...</td>\n",
              "      <td>...</td>\n",
              "    </tr>\n",
              "    <tr>\n",
              "      <th>3481</th>\n",
              "      <td>ntar dlu ya ma lipat bajunya ak lagi naikin ht...</td>\n",
              "      <td>0</td>\n",
              "    </tr>\n",
              "    <tr>\n",
              "      <th>3482</th>\n",
              "      <td>Ah mangkok nye aku 😭😭😭😭</td>\n",
              "      <td>0</td>\n",
              "    </tr>\n",
              "    <tr>\n",
              "      <th>3483</th>\n",
              "      <td>“Walaupun aQ hrs membahayakan hidupku, aQ hrs ...</td>\n",
              "      <td>0</td>\n",
              "    </tr>\n",
              "    <tr>\n",
              "      <th>3484</th>\n",
              "      <td>teel isinya perbucinan</td>\n",
              "      <td>0</td>\n",
              "    </tr>\n",
              "    <tr>\n",
              "      <th>3485</th>\n",
              "      <td>Lamak na status proses pengkreditan tok 😭😭</td>\n",
              "      <td>0</td>\n",
              "    </tr>\n",
              "  </tbody>\n",
              "</table>\n",
              "<p>3895 rows × 2 columns</p>\n",
              "</div>"
            ],
            "text/plain": [
              "                                                   text  label\n",
              "1             sumpah ya dari pagi rasanya gelisah terus      1\n",
              "2     Catia hari sabtu.Presntasi Statin hari sabtu.....      1\n",
              "11    Pernah gasi ngerasain tiap hari gelisah karena...      1\n",
              "14    Aku makin gelisah, dan aku menangis sejadi jad...      1\n",
              "15        ko aku dekdekan kenapa ya??aku gelisah banget      1\n",
              "...                                                 ...    ...\n",
              "3481  ntar dlu ya ma lipat bajunya ak lagi naikin ht...      0\n",
              "3482                            Ah mangkok nye aku 😭😭😭😭      0\n",
              "3483  “Walaupun aQ hrs membahayakan hidupku, aQ hrs ...      0\n",
              "3484                             teel isinya perbucinan      0\n",
              "3485         Lamak na status proses pengkreditan tok 😭😭      0\n",
              "\n",
              "[3895 rows x 2 columns]"
            ]
          },
          "metadata": {
            "tags": []
          },
          "execution_count": 60
        }
      ]
    },
    {
      "cell_type": "code",
      "metadata": {
        "id": "XN3UcAgzLFfc"
      },
      "source": [
        "annotated_random.to_csv('datd_rand.csv', index=False)"
      ],
      "execution_count": 62,
      "outputs": []
    }
  ]
}