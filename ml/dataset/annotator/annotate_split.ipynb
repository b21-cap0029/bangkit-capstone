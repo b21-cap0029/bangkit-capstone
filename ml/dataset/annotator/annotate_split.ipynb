{
  "nbformat": 4,
  "nbformat_minor": 0,
  "metadata": {
    "colab": {
      "name": "annotate_split.ipynb",
      "provenance": [],
      "collapsed_sections": []
    },
    "kernelspec": {
      "name": "python3",
      "display_name": "Python 3"
    },
    "language_info": {
      "name": "python"
    }
  },
  "cells": [
    {
      "cell_type": "code",
      "metadata": {
        "colab": {
          "base_uri": "https://localhost:8080/",
          "height": 206
        },
        "id": "O_B_SEOgeGFY",
        "outputId": "4a4946e6-d8ea-4d90-fb69-c1443e9094ba"
      },
      "source": [
        "import pandas as pd\n",
        "\n",
        "df = pd.read_csv('result_example.csv')\n",
        "df.head()"
      ],
      "execution_count": 6,
      "outputs": [
        {
          "output_type": "execute_result",
          "data": {
            "text/html": [
              "<div>\n",
              "<style scoped>\n",
              "    .dataframe tbody tr th:only-of-type {\n",
              "        vertical-align: middle;\n",
              "    }\n",
              "\n",
              "    .dataframe tbody tr th {\n",
              "        vertical-align: top;\n",
              "    }\n",
              "\n",
              "    .dataframe thead th {\n",
              "        text-align: right;\n",
              "    }\n",
              "</style>\n",
              "<table border=\"1\" class=\"dataframe\">\n",
              "  <thead>\n",
              "    <tr style=\"text-align: right;\">\n",
              "      <th></th>\n",
              "      <th>id</th>\n",
              "      <th>author_id</th>\n",
              "      <th>like_count</th>\n",
              "      <th>quote_count</th>\n",
              "      <th>reply_count</th>\n",
              "      <th>retweet_count</th>\n",
              "      <th>text</th>\n",
              "    </tr>\n",
              "  </thead>\n",
              "  <tbody>\n",
              "    <tr>\n",
              "      <th>0</th>\n",
              "      <td>1384773103163637766</td>\n",
              "      <td>1278292575238025216</td>\n",
              "      <td>0</td>\n",
              "      <td>0</td>\n",
              "      <td>5</td>\n",
              "      <td>0</td>\n",
              "      <td>bye mau masak mie</td>\n",
              "    </tr>\n",
              "    <tr>\n",
              "      <th>1</th>\n",
              "      <td>1384773099401351173</td>\n",
              "      <td>1342343499568435201</td>\n",
              "      <td>0</td>\n",
              "      <td>0</td>\n",
              "      <td>0</td>\n",
              "      <td>0</td>\n",
              "      <td>ini gimana sih ko hidup gini gini aja ngga ada...</td>\n",
              "    </tr>\n",
              "    <tr>\n",
              "      <th>2</th>\n",
              "      <td>1384773095525806080</td>\n",
              "      <td>2889944779</td>\n",
              "      <td>0</td>\n",
              "      <td>0</td>\n",
              "      <td>0</td>\n",
              "      <td>0</td>\n",
              "      <td>sedih la bila baju raya tk kena size</td>\n",
              "    </tr>\n",
              "    <tr>\n",
              "      <th>3</th>\n",
              "      <td>1384773082905124864</td>\n",
              "      <td>136972965</td>\n",
              "      <td>0</td>\n",
              "      <td>0</td>\n",
              "      <td>0</td>\n",
              "      <td>1</td>\n",
              "      <td>Terus lawan bebudak, MP &amp;amp; mana² pro PH yan...</td>\n",
              "    </tr>\n",
              "    <tr>\n",
              "      <th>4</th>\n",
              "      <td>1384773077259616258</td>\n",
              "      <td>1934532216</td>\n",
              "      <td>0</td>\n",
              "      <td>0</td>\n",
              "      <td>0</td>\n",
              "      <td>0</td>\n",
              "      <td>Apa buat susah,,,,.Lapar=makan.Ngantuk=tidur.M...</td>\n",
              "    </tr>\n",
              "  </tbody>\n",
              "</table>\n",
              "</div>"
            ],
            "text/plain": [
              "                    id  ...                                               text\n",
              "0  1384773103163637766  ...                                  bye mau masak mie\n",
              "1  1384773099401351173  ...  ini gimana sih ko hidup gini gini aja ngga ada...\n",
              "2  1384773095525806080  ...               sedih la bila baju raya tk kena size\n",
              "3  1384773082905124864  ...  Terus lawan bebudak, MP &amp; mana² pro PH yan...\n",
              "4  1384773077259616258  ...  Apa buat susah,,,,.Lapar=makan.Ngantuk=tidur.M...\n",
              "\n",
              "[5 rows x 7 columns]"
            ]
          },
          "metadata": {
            "tags": []
          },
          "execution_count": 6
        }
      ]
    },
    {
      "cell_type": "code",
      "metadata": {
        "colab": {
          "base_uri": "https://localhost:8080/",
          "height": 206
        },
        "id": "vHkzcuwReZb8",
        "outputId": "dfb982ee-849a-4702-f048-37a8055d18e2"
      },
      "source": [
        "df = df.filter(['id', 'text'])\n",
        "df.head()"
      ],
      "execution_count": 7,
      "outputs": [
        {
          "output_type": "execute_result",
          "data": {
            "text/html": [
              "<div>\n",
              "<style scoped>\n",
              "    .dataframe tbody tr th:only-of-type {\n",
              "        vertical-align: middle;\n",
              "    }\n",
              "\n",
              "    .dataframe tbody tr th {\n",
              "        vertical-align: top;\n",
              "    }\n",
              "\n",
              "    .dataframe thead th {\n",
              "        text-align: right;\n",
              "    }\n",
              "</style>\n",
              "<table border=\"1\" class=\"dataframe\">\n",
              "  <thead>\n",
              "    <tr style=\"text-align: right;\">\n",
              "      <th></th>\n",
              "      <th>id</th>\n",
              "      <th>text</th>\n",
              "    </tr>\n",
              "  </thead>\n",
              "  <tbody>\n",
              "    <tr>\n",
              "      <th>0</th>\n",
              "      <td>1384773103163637766</td>\n",
              "      <td>bye mau masak mie</td>\n",
              "    </tr>\n",
              "    <tr>\n",
              "      <th>1</th>\n",
              "      <td>1384773099401351173</td>\n",
              "      <td>ini gimana sih ko hidup gini gini aja ngga ada...</td>\n",
              "    </tr>\n",
              "    <tr>\n",
              "      <th>2</th>\n",
              "      <td>1384773095525806080</td>\n",
              "      <td>sedih la bila baju raya tk kena size</td>\n",
              "    </tr>\n",
              "    <tr>\n",
              "      <th>3</th>\n",
              "      <td>1384773082905124864</td>\n",
              "      <td>Terus lawan bebudak, MP &amp;amp; mana² pro PH yan...</td>\n",
              "    </tr>\n",
              "    <tr>\n",
              "      <th>4</th>\n",
              "      <td>1384773077259616258</td>\n",
              "      <td>Apa buat susah,,,,.Lapar=makan.Ngantuk=tidur.M...</td>\n",
              "    </tr>\n",
              "  </tbody>\n",
              "</table>\n",
              "</div>"
            ],
            "text/plain": [
              "                    id                                               text\n",
              "0  1384773103163637766                                  bye mau masak mie\n",
              "1  1384773099401351173  ini gimana sih ko hidup gini gini aja ngga ada...\n",
              "2  1384773095525806080               sedih la bila baju raya tk kena size\n",
              "3  1384773082905124864  Terus lawan bebudak, MP &amp; mana² pro PH yan...\n",
              "4  1384773077259616258  Apa buat susah,,,,.Lapar=makan.Ngantuk=tidur.M..."
            ]
          },
          "metadata": {
            "tags": []
          },
          "execution_count": 7
        }
      ]
    },
    {
      "cell_type": "code",
      "metadata": {
        "colab": {
          "base_uri": "https://localhost:8080/"
        },
        "id": "xqey667YesF3",
        "outputId": "b81d8772-d56e-4ada-b8c5-afb99e8e7092"
      },
      "source": [
        "len(df)"
      ],
      "execution_count": 8,
      "outputs": [
        {
          "output_type": "execute_result",
          "data": {
            "text/plain": [
              "1014"
            ]
          },
          "metadata": {
            "tags": []
          },
          "execution_count": 8
        }
      ]
    },
    {
      "cell_type": "code",
      "metadata": {
        "colab": {
          "base_uri": "https://localhost:8080/"
        },
        "id": "dfboMHSVhRrs",
        "outputId": "0c10cd55-8198-46e4-86a0-8dfc92cc4909"
      },
      "source": [
        "df = df.head(-14)\n",
        "len(df)"
      ],
      "execution_count": 9,
      "outputs": [
        {
          "output_type": "execute_result",
          "data": {
            "text/plain": [
              "1000"
            ]
          },
          "metadata": {
            "tags": []
          },
          "execution_count": 9
        }
      ]
    },
    {
      "cell_type": "code",
      "metadata": {
        "colab": {
          "base_uri": "https://localhost:8080/",
          "height": 424
        },
        "id": "SC8zBHRdhbEN",
        "outputId": "c8abd1e4-3046-4968-fb9a-a30907403dfc"
      },
      "source": [
        "df"
      ],
      "execution_count": 10,
      "outputs": [
        {
          "output_type": "execute_result",
          "data": {
            "text/html": [
              "<div>\n",
              "<style scoped>\n",
              "    .dataframe tbody tr th:only-of-type {\n",
              "        vertical-align: middle;\n",
              "    }\n",
              "\n",
              "    .dataframe tbody tr th {\n",
              "        vertical-align: top;\n",
              "    }\n",
              "\n",
              "    .dataframe thead th {\n",
              "        text-align: right;\n",
              "    }\n",
              "</style>\n",
              "<table border=\"1\" class=\"dataframe\">\n",
              "  <thead>\n",
              "    <tr style=\"text-align: right;\">\n",
              "      <th></th>\n",
              "      <th>id</th>\n",
              "      <th>text</th>\n",
              "    </tr>\n",
              "  </thead>\n",
              "  <tbody>\n",
              "    <tr>\n",
              "      <th>0</th>\n",
              "      <td>1384773103163637766</td>\n",
              "      <td>bye mau masak mie</td>\n",
              "    </tr>\n",
              "    <tr>\n",
              "      <th>1</th>\n",
              "      <td>1384773099401351173</td>\n",
              "      <td>ini gimana sih ko hidup gini gini aja ngga ada...</td>\n",
              "    </tr>\n",
              "    <tr>\n",
              "      <th>2</th>\n",
              "      <td>1384773095525806080</td>\n",
              "      <td>sedih la bila baju raya tk kena size</td>\n",
              "    </tr>\n",
              "    <tr>\n",
              "      <th>3</th>\n",
              "      <td>1384773082905124864</td>\n",
              "      <td>Terus lawan bebudak, MP &amp;amp; mana² pro PH yan...</td>\n",
              "    </tr>\n",
              "    <tr>\n",
              "      <th>4</th>\n",
              "      <td>1384773077259616258</td>\n",
              "      <td>Apa buat susah,,,,.Lapar=makan.Ngantuk=tidur.M...</td>\n",
              "    </tr>\n",
              "    <tr>\n",
              "      <th>...</th>\n",
              "      <td>...</td>\n",
              "      <td>...</td>\n",
              "    </tr>\n",
              "    <tr>\n",
              "      <th>995</th>\n",
              "      <td>1384765235278450689</td>\n",
              "      <td>Dipikir aku takut kali sama emak nya iya sih t...</td>\n",
              "    </tr>\n",
              "    <tr>\n",
              "      <th>996</th>\n",
              "      <td>1384765231860097027</td>\n",
              "      <td>yaAllah takut bgt :((</td>\n",
              "    </tr>\n",
              "    <tr>\n",
              "      <th>997</th>\n",
              "      <td>1384765231629365255</td>\n",
              "      <td>/random thoughts/..Katanya kan manusia di kasi...</td>\n",
              "    </tr>\n",
              "    <tr>\n",
              "      <th>998</th>\n",
              "      <td>1384765220610994180</td>\n",
              "      <td>beneran gue close vlivenya takut ga fokus ah d...</td>\n",
              "    </tr>\n",
              "    <tr>\n",
              "      <th>999</th>\n",
              "      <td>1384765220363522058</td>\n",
              "      <td>Okay nisa sekarang say good bye. Jangan ngarep...</td>\n",
              "    </tr>\n",
              "  </tbody>\n",
              "</table>\n",
              "<p>1000 rows × 2 columns</p>\n",
              "</div>"
            ],
            "text/plain": [
              "                      id                                               text\n",
              "0    1384773103163637766                                  bye mau masak mie\n",
              "1    1384773099401351173  ini gimana sih ko hidup gini gini aja ngga ada...\n",
              "2    1384773095525806080               sedih la bila baju raya tk kena size\n",
              "3    1384773082905124864  Terus lawan bebudak, MP &amp; mana² pro PH yan...\n",
              "4    1384773077259616258  Apa buat susah,,,,.Lapar=makan.Ngantuk=tidur.M...\n",
              "..                   ...                                                ...\n",
              "995  1384765235278450689  Dipikir aku takut kali sama emak nya iya sih t...\n",
              "996  1384765231860097027                              yaAllah takut bgt :((\n",
              "997  1384765231629365255  /random thoughts/..Katanya kan manusia di kasi...\n",
              "998  1384765220610994180  beneran gue close vlivenya takut ga fokus ah d...\n",
              "999  1384765220363522058  Okay nisa sekarang say good bye. Jangan ngarep...\n",
              "\n",
              "[1000 rows x 2 columns]"
            ]
          },
          "metadata": {
            "tags": []
          },
          "execution_count": 10
        }
      ]
    },
    {
      "cell_type": "markdown",
      "metadata": {
        "id": "t08LWWaIheAx"
      },
      "source": [
        "Three annotators, so each of them will get 300 tweets + 100 shared tweets. In total:\n",
        "\n",
        "$$3\\times 300 + 100 = 1000$$"
      ]
    },
    {
      "cell_type": "code",
      "metadata": {
        "id": "k_SU7alEhca_"
      },
      "source": [
        "split1, split2, split3, share = df[0:300], df[300:600], df[600:900], df[900:]"
      ],
      "execution_count": 14,
      "outputs": []
    },
    {
      "cell_type": "code",
      "metadata": {
        "id": "GvJoiTjKiOzb"
      },
      "source": [
        "split1.to_csv('split1.csv', index=False)\n",
        "split2.to_csv('split2.csv', index=False)\n",
        "split3.to_csv('split3.csv', index=False)\n",
        "share.to_csv('share.csv', index=False)"
      ],
      "execution_count": 22,
      "outputs": []
    }
  ]
}