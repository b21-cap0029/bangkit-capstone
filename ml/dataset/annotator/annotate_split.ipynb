{
  "nbformat": 4,
  "nbformat_minor": 0,
  "metadata": {
    "colab": {
      "name": "annotate_split.ipynb",
      "provenance": [],
      "collapsed_sections": [],
      "toc_visible": true
    },
    "kernelspec": {
      "name": "python3",
      "display_name": "Python 3"
    },
    "language_info": {
      "name": "python"
    }
  },
  "cells": [
    {
      "cell_type": "code",
      "metadata": {
        "colab": {
          "base_uri": "https://localhost:8080/",
          "height": 417
        },
        "id": "O_B_SEOgeGFY",
        "outputId": "900a2125-7ab7-4d05-98b2-751f3d154752"
      },
      "source": [
        "import pandas as pd\n",
        "\n",
        "df = pd.read_csv('result.csv')\n",
        "df.head()"
      ],
      "execution_count": null,
      "outputs": [
        {
          "output_type": "execute_result",
          "data": {
            "text/html": [
              "<div>\n",
              "<style scoped>\n",
              "    .dataframe tbody tr th:only-of-type {\n",
              "        vertical-align: middle;\n",
              "    }\n",
              "\n",
              "    .dataframe tbody tr th {\n",
              "        vertical-align: top;\n",
              "    }\n",
              "\n",
              "    .dataframe thead th {\n",
              "        text-align: right;\n",
              "    }\n",
              "</style>\n",
              "<table border=\"1\" class=\"dataframe\">\n",
              "  <thead>\n",
              "    <tr style=\"text-align: right;\">\n",
              "      <th></th>\n",
              "      <th>id</th>\n",
              "      <th>author_id</th>\n",
              "      <th>like_count</th>\n",
              "      <th>quote_count</th>\n",
              "      <th>reply_count</th>\n",
              "      <th>retweet_count</th>\n",
              "      <th>text</th>\n",
              "    </tr>\n",
              "  </thead>\n",
              "  <tbody>\n",
              "    <tr>\n",
              "      <th>0</th>\n",
              "      <td>1389953924879110144</td>\n",
              "      <td>814294274950905856</td>\n",
              "      <td>0</td>\n",
              "      <td>0</td>\n",
              "      <td>0</td>\n",
              "      <td>0</td>\n",
              "      <td>abis minum kopi perasaan mesti gelisah gatau k...</td>\n",
              "    </tr>\n",
              "    <tr>\n",
              "      <th>1</th>\n",
              "      <td>1389952303407329283</td>\n",
              "      <td>716482703596474368</td>\n",
              "      <td>0</td>\n",
              "      <td>0</td>\n",
              "      <td>0</td>\n",
              "      <td>0</td>\n",
              "      <td>sumpah ya dari pagi rasanya gelisah terus</td>\n",
              "    </tr>\n",
              "    <tr>\n",
              "      <th>2</th>\n",
              "      <td>1389952181676122116</td>\n",
              "      <td>2681164664</td>\n",
              "      <td>0</td>\n",
              "      <td>0</td>\n",
              "      <td>0</td>\n",
              "      <td>0</td>\n",
              "      <td>Catia hari sabtu.Presntasi Statin hari sabtu.....</td>\n",
              "    </tr>\n",
              "    <tr>\n",
              "      <th>3</th>\n",
              "      <td>1389951640610902020</td>\n",
              "      <td>1125186137042014208</td>\n",
              "      <td>0</td>\n",
              "      <td>0</td>\n",
              "      <td>0</td>\n",
              "      <td>0</td>\n",
              "      <td>tbtb gelisah 🤕</td>\n",
              "    </tr>\n",
              "    <tr>\n",
              "      <th>4</th>\n",
              "      <td>1389950790266023936</td>\n",
              "      <td>1225259720623058948</td>\n",
              "      <td>0</td>\n",
              "      <td>0</td>\n",
              "      <td>2</td>\n",
              "      <td>0</td>\n",
              "      <td>Memasuki jam jam rawan... Seliweran mulu di ga...</td>\n",
              "    </tr>\n",
              "  </tbody>\n",
              "</table>\n",
              "</div>"
            ],
            "text/plain": [
              "                    id  ...                                               text\n",
              "0  1389953924879110144  ...  abis minum kopi perasaan mesti gelisah gatau k...\n",
              "1  1389952303407329283  ...          sumpah ya dari pagi rasanya gelisah terus\n",
              "2  1389952181676122116  ...  Catia hari sabtu.Presntasi Statin hari sabtu.....\n",
              "3  1389951640610902020  ...                                     tbtb gelisah 🤕\n",
              "4  1389950790266023936  ...  Memasuki jam jam rawan... Seliweran mulu di ga...\n",
              "\n",
              "[5 rows x 7 columns]"
            ]
          },
          "metadata": {
            "tags": []
          },
          "execution_count": 1
        }
      ]
    },
    {
      "cell_type": "code",
      "metadata": {
        "colab": {
          "base_uri": "https://localhost:8080/",
          "height": 206
        },
        "id": "vHkzcuwReZb8",
        "outputId": "c1318316-9af8-4c30-e551-1ede70f31e88"
      },
      "source": [
        "df = df.filter(['id', 'text'])\n",
        "df = df[df['text'].map(lambda x: len(x.split()) >= 3)]\n",
        "df.head()"
      ],
      "execution_count": null,
      "outputs": [
        {
          "output_type": "execute_result",
          "data": {
            "text/html": [
              "<div>\n",
              "<style scoped>\n",
              "    .dataframe tbody tr th:only-of-type {\n",
              "        vertical-align: middle;\n",
              "    }\n",
              "\n",
              "    .dataframe tbody tr th {\n",
              "        vertical-align: top;\n",
              "    }\n",
              "\n",
              "    .dataframe thead th {\n",
              "        text-align: right;\n",
              "    }\n",
              "</style>\n",
              "<table border=\"1\" class=\"dataframe\">\n",
              "  <thead>\n",
              "    <tr style=\"text-align: right;\">\n",
              "      <th></th>\n",
              "      <th>id</th>\n",
              "      <th>text</th>\n",
              "    </tr>\n",
              "  </thead>\n",
              "  <tbody>\n",
              "    <tr>\n",
              "      <th>0</th>\n",
              "      <td>1389953924879110144</td>\n",
              "      <td>abis minum kopi perasaan mesti gelisah gatau k...</td>\n",
              "    </tr>\n",
              "    <tr>\n",
              "      <th>1</th>\n",
              "      <td>1389952303407329283</td>\n",
              "      <td>sumpah ya dari pagi rasanya gelisah terus</td>\n",
              "    </tr>\n",
              "    <tr>\n",
              "      <th>2</th>\n",
              "      <td>1389952181676122116</td>\n",
              "      <td>Catia hari sabtu.Presntasi Statin hari sabtu.....</td>\n",
              "    </tr>\n",
              "    <tr>\n",
              "      <th>3</th>\n",
              "      <td>1389951640610902020</td>\n",
              "      <td>tbtb gelisah 🤕</td>\n",
              "    </tr>\n",
              "    <tr>\n",
              "      <th>4</th>\n",
              "      <td>1389950790266023936</td>\n",
              "      <td>Memasuki jam jam rawan... Seliweran mulu di ga...</td>\n",
              "    </tr>\n",
              "  </tbody>\n",
              "</table>\n",
              "</div>"
            ],
            "text/plain": [
              "                    id                                               text\n",
              "0  1389953924879110144  abis minum kopi perasaan mesti gelisah gatau k...\n",
              "1  1389952303407329283          sumpah ya dari pagi rasanya gelisah terus\n",
              "2  1389952181676122116  Catia hari sabtu.Presntasi Statin hari sabtu.....\n",
              "3  1389951640610902020                                     tbtb gelisah 🤕\n",
              "4  1389950790266023936  Memasuki jam jam rawan... Seliweran mulu di ga..."
            ]
          },
          "metadata": {
            "tags": []
          },
          "execution_count": 2
        }
      ]
    },
    {
      "cell_type": "code",
      "metadata": {
        "colab": {
          "base_uri": "https://localhost:8080/"
        },
        "id": "xqey667YesF3",
        "outputId": "f4073f9b-0ef2-4b24-d84d-cf8f828b16fd"
      },
      "source": [
        "len(df)"
      ],
      "execution_count": null,
      "outputs": [
        {
          "output_type": "execute_result",
          "data": {
            "text/plain": [
              "2751"
            ]
          },
          "metadata": {
            "tags": []
          },
          "execution_count": 3
        }
      ]
    },
    {
      "cell_type": "code",
      "metadata": {
        "colab": {
          "base_uri": "https://localhost:8080/"
        },
        "id": "dfboMHSVhRrs",
        "outputId": "88b5822a-b851-4ef7-b869-82de64df54e8"
      },
      "source": [
        "df = df.head(1000)\n",
        "len(df)"
      ],
      "execution_count": 63,
      "outputs": [
        {
          "output_type": "execute_result",
          "data": {
            "text/plain": [
              "1000"
            ]
          },
          "metadata": {
            "tags": []
          },
          "execution_count": 63
        }
      ]
    },
    {
      "cell_type": "code",
      "metadata": {
        "colab": {
          "base_uri": "https://localhost:8080/",
          "height": 424
        },
        "id": "SC8zBHRdhbEN",
        "outputId": "bd8b9c4d-beec-447d-8cb3-276d11cf7312"
      },
      "source": [
        "df"
      ],
      "execution_count": null,
      "outputs": [
        {
          "output_type": "execute_result",
          "data": {
            "text/html": [
              "<div>\n",
              "<style scoped>\n",
              "    .dataframe tbody tr th:only-of-type {\n",
              "        vertical-align: middle;\n",
              "    }\n",
              "\n",
              "    .dataframe tbody tr th {\n",
              "        vertical-align: top;\n",
              "    }\n",
              "\n",
              "    .dataframe thead th {\n",
              "        text-align: right;\n",
              "    }\n",
              "</style>\n",
              "<table border=\"1\" class=\"dataframe\">\n",
              "  <thead>\n",
              "    <tr style=\"text-align: right;\">\n",
              "      <th></th>\n",
              "      <th>id</th>\n",
              "      <th>text</th>\n",
              "    </tr>\n",
              "  </thead>\n",
              "  <tbody>\n",
              "    <tr>\n",
              "      <th>0</th>\n",
              "      <td>1389953924879110144</td>\n",
              "      <td>abis minum kopi perasaan mesti gelisah gatau k...</td>\n",
              "    </tr>\n",
              "    <tr>\n",
              "      <th>1</th>\n",
              "      <td>1389952303407329283</td>\n",
              "      <td>sumpah ya dari pagi rasanya gelisah terus</td>\n",
              "    </tr>\n",
              "    <tr>\n",
              "      <th>2</th>\n",
              "      <td>1389952181676122116</td>\n",
              "      <td>Catia hari sabtu.Presntasi Statin hari sabtu.....</td>\n",
              "    </tr>\n",
              "    <tr>\n",
              "      <th>3</th>\n",
              "      <td>1389951640610902020</td>\n",
              "      <td>tbtb gelisah 🤕</td>\n",
              "    </tr>\n",
              "    <tr>\n",
              "      <th>4</th>\n",
              "      <td>1389950790266023936</td>\n",
              "      <td>Memasuki jam jam rawan... Seliweran mulu di ga...</td>\n",
              "    </tr>\n",
              "    <tr>\n",
              "      <th>...</th>\n",
              "      <td>...</td>\n",
              "      <td>...</td>\n",
              "    </tr>\n",
              "    <tr>\n",
              "      <th>1019</th>\n",
              "      <td>1389076387684700162</td>\n",
              "      <td>Moots kalau berusaha tidur hadap kanan, hadap ...</td>\n",
              "    </tr>\n",
              "    <tr>\n",
              "      <th>1020</th>\n",
              "      <td>1389075326664286209</td>\n",
              "      <td>aku diem aja mbak nya cemas gmn kl aku gerak d...</td>\n",
              "    </tr>\n",
              "    <tr>\n",
              "      <th>1021</th>\n",
              "      <td>1389074928893267971</td>\n",
              "      <td>Tenang saja, semua akan baik baik saja. Tidak ...</td>\n",
              "    </tr>\n",
              "    <tr>\n",
              "      <th>1022</th>\n",
              "      <td>1389074441762611201</td>\n",
              "      <td>Tak sukanya orang beli baju berebut ni lepastu...</td>\n",
              "    </tr>\n",
              "    <tr>\n",
              "      <th>1023</th>\n",
              "      <td>1389074401883086850</td>\n",
              "      <td>Kalau pagi2 resah, gelisah, anxious itu tanda ...</td>\n",
              "    </tr>\n",
              "  </tbody>\n",
              "</table>\n",
              "<p>1000 rows × 2 columns</p>\n",
              "</div>"
            ],
            "text/plain": [
              "                       id                                               text\n",
              "0     1389953924879110144  abis minum kopi perasaan mesti gelisah gatau k...\n",
              "1     1389952303407329283          sumpah ya dari pagi rasanya gelisah terus\n",
              "2     1389952181676122116  Catia hari sabtu.Presntasi Statin hari sabtu.....\n",
              "3     1389951640610902020                                     tbtb gelisah 🤕\n",
              "4     1389950790266023936  Memasuki jam jam rawan... Seliweran mulu di ga...\n",
              "...                   ...                                                ...\n",
              "1019  1389076387684700162  Moots kalau berusaha tidur hadap kanan, hadap ...\n",
              "1020  1389075326664286209  aku diem aja mbak nya cemas gmn kl aku gerak d...\n",
              "1021  1389074928893267971  Tenang saja, semua akan baik baik saja. Tidak ...\n",
              "1022  1389074441762611201  Tak sukanya orang beli baju berebut ni lepastu...\n",
              "1023  1389074401883086850  Kalau pagi2 resah, gelisah, anxious itu tanda ...\n",
              "\n",
              "[1000 rows x 2 columns]"
            ]
          },
          "metadata": {
            "tags": []
          },
          "execution_count": 5
        }
      ]
    },
    {
      "cell_type": "markdown",
      "metadata": {
        "id": "t08LWWaIheAx"
      },
      "source": [
        "Three annotators, so each of them will get 300 tweets + 100 shared tweets. In total:\n",
        "\n",
        "$$3\\times 300 + 100 = 1000$$"
      ]
    },
    {
      "cell_type": "code",
      "metadata": {
        "id": "k_SU7alEhca_"
      },
      "source": [
        "split1, split2, split3, share = df[0:300], df[300:600], df[600:900], df[900:]"
      ],
      "execution_count": null,
      "outputs": []
    },
    {
      "cell_type": "code",
      "metadata": {
        "id": "GvJoiTjKiOzb"
      },
      "source": [
        "split1.to_csv('split1.csv', index=False)\n",
        "split2.to_csv('split2.csv', index=False)\n",
        "split3.to_csv('split3.csv', index=False)\n",
        "share.to_csv('share.csv', index=False)"
      ],
      "execution_count": null,
      "outputs": []
    },
    {
      "cell_type": "markdown",
      "metadata": {
        "id": "XkkVjZV4BlTj"
      },
      "source": [
        "# Creating DATD dataset\n",
        "\n",
        "Merging back responses"
      ]
    },
    {
      "cell_type": "code",
      "metadata": {
        "id": "gdHqOGDeBoNf"
      },
      "source": [
        "def load_response(response_name):\n",
        "  res = []\n",
        "  with open('{}.response'.format(response_name)) as f:\n",
        "    res = [int(r.strip()) for r in f.readlines()]\n",
        "  return res"
      ],
      "execution_count": null,
      "outputs": []
    },
    {
      "cell_type": "code",
      "metadata": {
        "id": "U-RBB7XBC1r0"
      },
      "source": [
        "rsplit1, rsplit2, rsplit3 = load_response('split1'), load_response('split2'), load_response('split3')"
      ],
      "execution_count": null,
      "outputs": []
    },
    {
      "cell_type": "code",
      "metadata": {
        "id": "_BaoCX6uDE4y"
      },
      "source": [
        "rshare1, rshare2, rshare3 = load_response('share-1'), load_response('share-2'), load_response('share-3')"
      ],
      "execution_count": null,
      "outputs": []
    },
    {
      "cell_type": "code",
      "metadata": {
        "colab": {
          "base_uri": "https://localhost:8080/"
        },
        "id": "hHMescLlEoZn",
        "outputId": "b00de494-48aa-4611-cc58-d377ae39ffef"
      },
      "source": [
        "print(rshare1)\n",
        "print(rshare2)\n",
        "print(rshare3)"
      ],
      "execution_count": null,
      "outputs": [
        {
          "output_type": "stream",
          "text": [
            "[0, 1, 0, 0, 0, 0, 0, 0, 0, 0, 0, 0, 0, 0, 0, 1, 0, 1, 0, 0, 0, 1, 1, 0, 0, 0, 0, 1, 0, 0, 0, 0, 1, 0, 0, 0, 1, 0, 0, 0, 0, 0, 1, 0, 1, 1, 1, 0, 0, 1, 0, 0, 0, 1, 1, 1, 0, 0, 1, 1, 1, 0, 0, 0, 1, 1, 1, 0, 0, 0, 0, 1, 1, 0, 1, 0, 0, 0, 1, 0, 0, 0, 1, 0, 1, 1, 0, 0, 1, 0, 1, 1, 0, 0, 1, 0, 0, 0, 0, 0]\n",
            "[1, 1, 0, 0, 0, 0, 0, 0, 0, 0, 0, 0, 0, 0, 0, 1, 0, 1, 0, 0, 1, 1, 1, 0, 0, 0, 0, 1, 0, 0, 0, 1, 1, 0, 0, 0, 1, 0, 1, 0, 1, 0, 1, 0, 1, 1, 1, 0, 0, 1, 0, 0, 0, 1, 1, 1, 0, 1, 1, 0, 1, 1, 0, 0, 1, 1, 1, 0, 0, 0, 1, 0, 1, 0, 1, 0, 0, 0, 1, 0, 0, 1, 1, 0, 0, 1, 0, 0, 0, 0, 1, 1, 0, 1, 0, 0, 0, 1, 0, 0]\n",
            "[1, 1, 0, 0, 0, 0, 0, 0, 0, 0, 0, 0, 0, 0, 0, 0, 0, 1, 1, 0, 0, 0, 1, 0, 0, 0, 0, 1, 0, 0, 0, 0, 1, 0, 0, 0, 1, 0, 0, 0, 0, 0, 1, 0, 1, 0, 0, 0, 0, 1, 0, 0, 0, 0, 1, 1, 0, 0, 1, 1, 0, 0, 0, 0, 1, 1, 1, 1, 0, 0, 0, 0, 1, 0, 1, 0, 0, 0, 1, 0, 0, 0, 0, 0, 1, 0, 0, 0, 0, 0, 1, 1, 0, 0, 1, 0, 0, 0, 0, 0]\n"
          ],
          "name": "stdout"
        }
      ]
    },
    {
      "cell_type": "code",
      "metadata": {
        "colab": {
          "base_uri": "https://localhost:8080/"
        },
        "id": "kxLk0pVhDGLY",
        "outputId": "f05344f0-e7ae-49c7-df47-29c0d0ad40e9"
      },
      "source": [
        "rshare = []\n",
        "\n",
        "# three annotators, so tie is not possible\n",
        "for i in range(len(rshare1)):\n",
        "  zero = 0\n",
        "  one = 0\n",
        "  if rshare1[i] == 0:\n",
        "    zero += 1\n",
        "  else:\n",
        "    one += 1\n",
        "  \n",
        "  if rshare2[i] == 0:\n",
        "    zero += 1\n",
        "  else:\n",
        "    one += 1\n",
        "  \n",
        "  if rshare3[i] == 0:\n",
        "    zero += 1\n",
        "  else:\n",
        "    one += 1\n",
        "  \n",
        "  if zero > one:\n",
        "    rshare.append(0)\n",
        "  else:\n",
        "    rshare.append(1)\n",
        "\n",
        "print(rshare)"
      ],
      "execution_count": null,
      "outputs": [
        {
          "output_type": "stream",
          "text": [
            "[1, 1, 0, 0, 0, 0, 0, 0, 0, 0, 0, 0, 0, 0, 0, 1, 0, 1, 0, 0, 0, 1, 1, 0, 0, 0, 0, 1, 0, 0, 0, 0, 1, 0, 0, 0, 1, 0, 0, 0, 0, 0, 1, 0, 1, 1, 1, 0, 0, 1, 0, 0, 0, 1, 1, 1, 0, 0, 1, 1, 1, 0, 0, 0, 1, 1, 1, 0, 0, 0, 0, 0, 1, 0, 1, 0, 0, 0, 1, 0, 0, 0, 1, 0, 1, 1, 0, 0, 0, 0, 1, 1, 0, 0, 1, 0, 0, 0, 0, 0]\n"
          ],
          "name": "stdout"
        }
      ]
    },
    {
      "cell_type": "code",
      "metadata": {
        "id": "ZhUggF7CDgFz"
      },
      "source": [
        "annotated_share = share.assign(label=rshare)"
      ],
      "execution_count": null,
      "outputs": []
    },
    {
      "cell_type": "code",
      "metadata": {
        "id": "gIw5I-t5FRjI"
      },
      "source": [
        "annotated_split1 = split1.assign(label=rsplit1)\n",
        "annotated_split2 = split2.assign(label=rsplit2)\n",
        "annotated_split3 = split3.assign(label=rsplit3)"
      ],
      "execution_count": null,
      "outputs": []
    },
    {
      "cell_type": "code",
      "metadata": {
        "id": "ial0WXtiFoS8"
      },
      "source": [
        "annotated_dataset = pd.concat([annotated_split1, annotated_split2, annotated_split3], axis=0)"
      ],
      "execution_count": 64,
      "outputs": []
    },
    {
      "cell_type": "code",
      "metadata": {
        "colab": {
          "base_uri": "https://localhost:8080/",
          "height": 424
        },
        "id": "AfyqW42pGYsZ",
        "outputId": "f98e025d-d180-49d2-a8e0-77d47aaadad6"
      },
      "source": [
        "annotated_dataset"
      ],
      "execution_count": 65,
      "outputs": [
        {
          "output_type": "execute_result",
          "data": {
            "text/html": [
              "<div>\n",
              "<style scoped>\n",
              "    .dataframe tbody tr th:only-of-type {\n",
              "        vertical-align: middle;\n",
              "    }\n",
              "\n",
              "    .dataframe tbody tr th {\n",
              "        vertical-align: top;\n",
              "    }\n",
              "\n",
              "    .dataframe thead th {\n",
              "        text-align: right;\n",
              "    }\n",
              "</style>\n",
              "<table border=\"1\" class=\"dataframe\">\n",
              "  <thead>\n",
              "    <tr style=\"text-align: right;\">\n",
              "      <th></th>\n",
              "      <th>id</th>\n",
              "      <th>text</th>\n",
              "      <th>label</th>\n",
              "    </tr>\n",
              "  </thead>\n",
              "  <tbody>\n",
              "    <tr>\n",
              "      <th>0</th>\n",
              "      <td>1389953924879110144</td>\n",
              "      <td>abis minum kopi perasaan mesti gelisah gatau k...</td>\n",
              "      <td>0</td>\n",
              "    </tr>\n",
              "    <tr>\n",
              "      <th>1</th>\n",
              "      <td>1389952303407329283</td>\n",
              "      <td>sumpah ya dari pagi rasanya gelisah terus</td>\n",
              "      <td>1</td>\n",
              "    </tr>\n",
              "    <tr>\n",
              "      <th>2</th>\n",
              "      <td>1389952181676122116</td>\n",
              "      <td>Catia hari sabtu.Presntasi Statin hari sabtu.....</td>\n",
              "      <td>1</td>\n",
              "    </tr>\n",
              "    <tr>\n",
              "      <th>3</th>\n",
              "      <td>1389951640610902020</td>\n",
              "      <td>tbtb gelisah 🤕</td>\n",
              "      <td>0</td>\n",
              "    </tr>\n",
              "    <tr>\n",
              "      <th>4</th>\n",
              "      <td>1389950790266023936</td>\n",
              "      <td>Memasuki jam jam rawan... Seliweran mulu di ga...</td>\n",
              "      <td>0</td>\n",
              "    </tr>\n",
              "    <tr>\n",
              "      <th>...</th>\n",
              "      <td>...</td>\n",
              "      <td>...</td>\n",
              "      <td>...</td>\n",
              "    </tr>\n",
              "    <tr>\n",
              "      <th>915</th>\n",
              "      <td>1389172826595160067</td>\n",
              "      <td>Habis muncul bimbingan setelah menghilang berb...</td>\n",
              "      <td>0</td>\n",
              "    </tr>\n",
              "    <tr>\n",
              "      <th>916</th>\n",
              "      <td>1389169768003895298</td>\n",
              "      <td>Resah dan gelisah deh mimin, dah sebulan lewat...</td>\n",
              "      <td>1</td>\n",
              "    </tr>\n",
              "    <tr>\n",
              "      <th>917</th>\n",
              "      <td>1389168219542286342</td>\n",
              "      <td>Jangan membandingkan dirimu dengan orang lain....</td>\n",
              "      <td>0</td>\n",
              "    </tr>\n",
              "    <tr>\n",
              "      <th>918</th>\n",
              "      <td>1389168028416233472</td>\n",
              "      <td>Senin, 03 Mei 2020 / 21 Ramadhan 1442.Hari bai...</td>\n",
              "      <td>0</td>\n",
              "    </tr>\n",
              "    <tr>\n",
              "      <th>919</th>\n",
              "      <td>1389167572763901952</td>\n",
              "      <td>Gelisah, galau kalau seharian ga ada kabar..</td>\n",
              "      <td>0</td>\n",
              "    </tr>\n",
              "  </tbody>\n",
              "</table>\n",
              "<p>900 rows × 3 columns</p>\n",
              "</div>"
            ],
            "text/plain": [
              "                      id  ... label\n",
              "0    1389953924879110144  ...     0\n",
              "1    1389952303407329283  ...     1\n",
              "2    1389952181676122116  ...     1\n",
              "3    1389951640610902020  ...     0\n",
              "4    1389950790266023936  ...     0\n",
              "..                   ...  ...   ...\n",
              "915  1389172826595160067  ...     0\n",
              "916  1389169768003895298  ...     1\n",
              "917  1389168219542286342  ...     0\n",
              "918  1389168028416233472  ...     0\n",
              "919  1389167572763901952  ...     0\n",
              "\n",
              "[900 rows x 3 columns]"
            ]
          },
          "metadata": {
            "tags": []
          },
          "execution_count": 65
        }
      ]
    },
    {
      "cell_type": "code",
      "metadata": {
        "colab": {
          "base_uri": "https://localhost:8080/"
        },
        "id": "z_pZ_AvEGa9I",
        "outputId": "c3c622ee-a6f7-489b-ada8-04c877723e8c"
      },
      "source": [
        "from collections import Counter\n",
        "\n",
        "label_counter = Counter(annotated_dataset['label'])\n",
        "print(label_counter)\n",
        "\n",
        "label_counter = Counter(annotated_share['label'])\n",
        "print(label_counter)"
      ],
      "execution_count": 71,
      "outputs": [
        {
          "output_type": "stream",
          "text": [
            "Counter({0: 523, 1: 377})\n",
            "Counter({0: 68, 1: 32})\n"
          ],
          "name": "stdout"
        }
      ]
    },
    {
      "cell_type": "markdown",
      "metadata": {
        "id": "C89oE_HHHQPn"
      },
      "source": [
        "Dropping `id` because it's not relevant for classification"
      ]
    },
    {
      "cell_type": "code",
      "metadata": {
        "id": "wP-i3SsjHP4l"
      },
      "source": [
        "annotated_dataset = annotated_dataset.drop('id', axis=1)"
      ],
      "execution_count": 67,
      "outputs": []
    },
    {
      "cell_type": "code",
      "metadata": {
        "colab": {
          "base_uri": "https://localhost:8080/"
        },
        "id": "l0kGd6OxHlEI",
        "outputId": "182e93a8-8b13-42fb-fdb7-37b3299f1958"
      },
      "source": [
        "print(annotated_dataset)"
      ],
      "execution_count": 68,
      "outputs": [
        {
          "output_type": "stream",
          "text": [
            "                                                  text  label\n",
            "0    abis minum kopi perasaan mesti gelisah gatau k...      0\n",
            "1            sumpah ya dari pagi rasanya gelisah terus      1\n",
            "2    Catia hari sabtu.Presntasi Statin hari sabtu.....      1\n",
            "3                                       tbtb gelisah 🤕      0\n",
            "4    Memasuki jam jam rawan... Seliweran mulu di ga...      0\n",
            "..                                                 ...    ...\n",
            "915  Habis muncul bimbingan setelah menghilang berb...      0\n",
            "916  Resah dan gelisah deh mimin, dah sebulan lewat...      1\n",
            "917  Jangan membandingkan dirimu dengan orang lain....      0\n",
            "918  Senin, 03 Mei 2020 / 21 Ramadhan 1442.Hari bai...      0\n",
            "919       Gelisah, galau kalau seharian ga ada kabar..      0\n",
            "\n",
            "[900 rows x 2 columns]\n"
          ],
          "name": "stdout"
        }
      ]
    },
    {
      "cell_type": "code",
      "metadata": {
        "colab": {
          "base_uri": "https://localhost:8080/"
        },
        "id": "pOsMQo6OX8FQ",
        "outputId": "2a609458-8f53-496e-bfd6-4ded225666fc"
      },
      "source": [
        "print(annotated_share)"
      ],
      "execution_count": 70,
      "outputs": [
        {
          "output_type": "stream",
          "text": [
            "                       id  ... label\n",
            "921   1389164701381128201  ...     1\n",
            "922   1389164409935732737  ...     1\n",
            "923   1389164248991899650  ...     0\n",
            "924   1389163530260160512  ...     0\n",
            "925   1389163463134498817  ...     0\n",
            "...                   ...  ...   ...\n",
            "1019  1389076387684700162  ...     0\n",
            "1020  1389075326664286209  ...     0\n",
            "1021  1389074928893267971  ...     0\n",
            "1022  1389074441762611201  ...     0\n",
            "1023  1389074401883086850  ...     0\n",
            "\n",
            "[100 rows x 3 columns]\n"
          ],
          "name": "stdout"
        }
      ]
    },
    {
      "cell_type": "code",
      "metadata": {
        "id": "9Jp0UsdHIO3G"
      },
      "source": [
        "annotated_dataset.to_csv('datd_train.csv', index=False)\n",
        "annotated_share.to_csv('datd_test.csv', index=False)"
      ],
      "execution_count": 69,
      "outputs": []
    },
    {
      "cell_type": "markdown",
      "metadata": {
        "id": "zd8M-V8gIPai"
      },
      "source": [
        "# Creating DATD+Rand dataset"
      ]
    },
    {
      "cell_type": "code",
      "metadata": {
        "colab": {
          "base_uri": "https://localhost:8080/",
          "height": 424
        },
        "id": "FOeLdTDDH-T0",
        "outputId": "6f14e761-615d-422b-8ba8-517f0b57572c"
      },
      "source": [
        "annotated_dataset[annotated_dataset['label'] == 1]"
      ],
      "execution_count": 72,
      "outputs": [
        {
          "output_type": "execute_result",
          "data": {
            "text/html": [
              "<div>\n",
              "<style scoped>\n",
              "    .dataframe tbody tr th:only-of-type {\n",
              "        vertical-align: middle;\n",
              "    }\n",
              "\n",
              "    .dataframe tbody tr th {\n",
              "        vertical-align: top;\n",
              "    }\n",
              "\n",
              "    .dataframe thead th {\n",
              "        text-align: right;\n",
              "    }\n",
              "</style>\n",
              "<table border=\"1\" class=\"dataframe\">\n",
              "  <thead>\n",
              "    <tr style=\"text-align: right;\">\n",
              "      <th></th>\n",
              "      <th>text</th>\n",
              "      <th>label</th>\n",
              "    </tr>\n",
              "  </thead>\n",
              "  <tbody>\n",
              "    <tr>\n",
              "      <th>1</th>\n",
              "      <td>sumpah ya dari pagi rasanya gelisah terus</td>\n",
              "      <td>1</td>\n",
              "    </tr>\n",
              "    <tr>\n",
              "      <th>2</th>\n",
              "      <td>Catia hari sabtu.Presntasi Statin hari sabtu.....</td>\n",
              "      <td>1</td>\n",
              "    </tr>\n",
              "    <tr>\n",
              "      <th>11</th>\n",
              "      <td>Pernah gasi ngerasain tiap hari gelisah karena...</td>\n",
              "      <td>1</td>\n",
              "    </tr>\n",
              "    <tr>\n",
              "      <th>14</th>\n",
              "      <td>Aku makin gelisah, dan aku menangis sejadi jad...</td>\n",
              "      <td>1</td>\n",
              "    </tr>\n",
              "    <tr>\n",
              "      <th>15</th>\n",
              "      <td>ko aku dekdekan kenapa ya??aku gelisah banget</td>\n",
              "      <td>1</td>\n",
              "    </tr>\n",
              "    <tr>\n",
              "      <th>...</th>\n",
              "      <td>...</td>\n",
              "      <td>...</td>\n",
              "    </tr>\n",
              "    <tr>\n",
              "      <th>899</th>\n",
              "      <td>Udah ngalihin fokus ke yang lain tapi tetep cemas</td>\n",
              "      <td>1</td>\n",
              "    </tr>\n",
              "    <tr>\n",
              "      <th>905</th>\n",
              "      <td>Kenapa ya cemas susah ilang? Deg2an panik itu ...</td>\n",
              "      <td>1</td>\n",
              "    </tr>\n",
              "    <tr>\n",
              "      <th>910</th>\n",
              "      <td>Kalo mau jujur sih gelisah sejak hari itu wala...</td>\n",
              "      <td>1</td>\n",
              "    </tr>\n",
              "    <tr>\n",
              "      <th>911</th>\n",
              "      <td>tiap malem overthinking, cemas, gelisah..tiap ...</td>\n",
              "      <td>1</td>\n",
              "    </tr>\n",
              "    <tr>\n",
              "      <th>916</th>\n",
              "      <td>Resah dan gelisah deh mimin, dah sebulan lewat...</td>\n",
              "      <td>1</td>\n",
              "    </tr>\n",
              "  </tbody>\n",
              "</table>\n",
              "<p>377 rows × 2 columns</p>\n",
              "</div>"
            ],
            "text/plain": [
              "                                                  text  label\n",
              "1            sumpah ya dari pagi rasanya gelisah terus      1\n",
              "2    Catia hari sabtu.Presntasi Statin hari sabtu.....      1\n",
              "11   Pernah gasi ngerasain tiap hari gelisah karena...      1\n",
              "14   Aku makin gelisah, dan aku menangis sejadi jad...      1\n",
              "15       ko aku dekdekan kenapa ya??aku gelisah banget      1\n",
              "..                                                 ...    ...\n",
              "899  Udah ngalihin fokus ke yang lain tapi tetep cemas      1\n",
              "905  Kenapa ya cemas susah ilang? Deg2an panik itu ...      1\n",
              "910  Kalo mau jujur sih gelisah sejak hari itu wala...      1\n",
              "911  tiap malem overthinking, cemas, gelisah..tiap ...      1\n",
              "916  Resah dan gelisah deh mimin, dah sebulan lewat...      1\n",
              "\n",
              "[377 rows x 2 columns]"
            ]
          },
          "metadata": {
            "tags": []
          },
          "execution_count": 72
        }
      ]
    },
    {
      "cell_type": "markdown",
      "metadata": {
        "id": "cPaIbUkCJx7M"
      },
      "source": [
        "Based on the paper, DATD+Rand contained $10.5\\%$ positive instances, so we will solve\n",
        "\n",
        "$$\\dfrac{377}{377+x} = 0.105$$\n",
        "\n",
        "and we get $x = \\lfloor 3213.48 \\rfloor \\approx 3213$"
      ]
    },
    {
      "cell_type": "code",
      "metadata": {
        "colab": {
          "base_uri": "https://localhost:8080/",
          "height": 424
        },
        "id": "ZXTtKnMmGx-Z",
        "outputId": "97e4b268-901c-4a64-adf6-70bf995b1ac4"
      },
      "source": [
        "random_df = pd.read_csv('random_dataset.csv')\n",
        "random_df = random_df.filter(['text'])\n",
        "random_df['label'] = 0\n",
        "random_df.head(3213)"
      ],
      "execution_count": 73,
      "outputs": [
        {
          "output_type": "execute_result",
          "data": {
            "text/html": [
              "<div>\n",
              "<style scoped>\n",
              "    .dataframe tbody tr th:only-of-type {\n",
              "        vertical-align: middle;\n",
              "    }\n",
              "\n",
              "    .dataframe tbody tr th {\n",
              "        vertical-align: top;\n",
              "    }\n",
              "\n",
              "    .dataframe thead th {\n",
              "        text-align: right;\n",
              "    }\n",
              "</style>\n",
              "<table border=\"1\" class=\"dataframe\">\n",
              "  <thead>\n",
              "    <tr style=\"text-align: right;\">\n",
              "      <th></th>\n",
              "      <th>text</th>\n",
              "      <th>label</th>\n",
              "    </tr>\n",
              "  </thead>\n",
              "  <tbody>\n",
              "    <tr>\n",
              "      <th>0</th>\n",
              "      <td>Gr gr mimpiin mantan crush jdi gamon gue ya Allah</td>\n",
              "      <td>0</td>\n",
              "    </tr>\n",
              "    <tr>\n",
              "      <th>1</th>\n",
              "      <td>wkwkwk apaansi lawak</td>\n",
              "      <td>0</td>\n",
              "    </tr>\n",
              "    <tr>\n",
              "      <th>2</th>\n",
              "      <td>Cuti2 pun standby depan pc 😅 sebab office tak ...</td>\n",
              "      <td>0</td>\n",
              "    </tr>\n",
              "    <tr>\n",
              "      <th>3</th>\n",
              "      <td>Alhamdulillah meskipun hanya numpang lewat</td>\n",
              "      <td>0</td>\n",
              "    </tr>\n",
              "    <tr>\n",
              "      <th>4</th>\n",
              "      <td>konsep teaser pernikahan pake lagu day6 - only...</td>\n",
              "      <td>0</td>\n",
              "    </tr>\n",
              "    <tr>\n",
              "      <th>...</th>\n",
              "      <td>...</td>\n",
              "      <td>...</td>\n",
              "    </tr>\n",
              "    <tr>\n",
              "      <th>3208</th>\n",
              "      <td>JA JA JA F POR EL JYP AHHHH</td>\n",
              "      <td>0</td>\n",
              "    </tr>\n",
              "    <tr>\n",
              "      <th>3209</th>\n",
              "      <td>Budak sekarang pasal tudung pun nak sensitif</td>\n",
              "      <td>0</td>\n",
              "    </tr>\n",
              "    <tr>\n",
              "      <th>3210</th>\n",
              "      <td>markah test semua dah keluar, cam okay lah sem...</td>\n",
              "      <td>0</td>\n",
              "    </tr>\n",
              "    <tr>\n",
              "      <th>3211</th>\n",
              "      <td>normalise hating someone by yourself bukan per...</td>\n",
              "      <td>0</td>\n",
              "    </tr>\n",
              "    <tr>\n",
              "      <th>3212</th>\n",
              "      <td>dilengangnya malam menuju minggu kau dimana~</td>\n",
              "      <td>0</td>\n",
              "    </tr>\n",
              "  </tbody>\n",
              "</table>\n",
              "<p>3213 rows × 2 columns</p>\n",
              "</div>"
            ],
            "text/plain": [
              "                                                   text  label\n",
              "0     Gr gr mimpiin mantan crush jdi gamon gue ya Allah      0\n",
              "1                                  wkwkwk apaansi lawak      0\n",
              "2     Cuti2 pun standby depan pc 😅 sebab office tak ...      0\n",
              "3            Alhamdulillah meskipun hanya numpang lewat      0\n",
              "4     konsep teaser pernikahan pake lagu day6 - only...      0\n",
              "...                                                 ...    ...\n",
              "3208                        JA JA JA F POR EL JYP AHHHH      0\n",
              "3209       Budak sekarang pasal tudung pun nak sensitif      0\n",
              "3210  markah test semua dah keluar, cam okay lah sem...      0\n",
              "3211  normalise hating someone by yourself bukan per...      0\n",
              "3212       dilengangnya malam menuju minggu kau dimana~      0\n",
              "\n",
              "[3213 rows x 2 columns]"
            ]
          },
          "metadata": {
            "tags": []
          },
          "execution_count": 73
        }
      ]
    },
    {
      "cell_type": "code",
      "metadata": {
        "colab": {
          "base_uri": "https://localhost:8080/",
          "height": 424
        },
        "id": "0zra_4lPIlLq",
        "outputId": "2f5c5cd2-0b37-4a89-99a4-c6490a1147c0"
      },
      "source": [
        "annotated_random = pd.concat([annotated_dataset[annotated_dataset['label'] == 1], random_df.head(3213)], axis=0)\n",
        "annotated_random"
      ],
      "execution_count": 74,
      "outputs": [
        {
          "output_type": "execute_result",
          "data": {
            "text/html": [
              "<div>\n",
              "<style scoped>\n",
              "    .dataframe tbody tr th:only-of-type {\n",
              "        vertical-align: middle;\n",
              "    }\n",
              "\n",
              "    .dataframe tbody tr th {\n",
              "        vertical-align: top;\n",
              "    }\n",
              "\n",
              "    .dataframe thead th {\n",
              "        text-align: right;\n",
              "    }\n",
              "</style>\n",
              "<table border=\"1\" class=\"dataframe\">\n",
              "  <thead>\n",
              "    <tr style=\"text-align: right;\">\n",
              "      <th></th>\n",
              "      <th>text</th>\n",
              "      <th>label</th>\n",
              "    </tr>\n",
              "  </thead>\n",
              "  <tbody>\n",
              "    <tr>\n",
              "      <th>1</th>\n",
              "      <td>sumpah ya dari pagi rasanya gelisah terus</td>\n",
              "      <td>1</td>\n",
              "    </tr>\n",
              "    <tr>\n",
              "      <th>2</th>\n",
              "      <td>Catia hari sabtu.Presntasi Statin hari sabtu.....</td>\n",
              "      <td>1</td>\n",
              "    </tr>\n",
              "    <tr>\n",
              "      <th>11</th>\n",
              "      <td>Pernah gasi ngerasain tiap hari gelisah karena...</td>\n",
              "      <td>1</td>\n",
              "    </tr>\n",
              "    <tr>\n",
              "      <th>14</th>\n",
              "      <td>Aku makin gelisah, dan aku menangis sejadi jad...</td>\n",
              "      <td>1</td>\n",
              "    </tr>\n",
              "    <tr>\n",
              "      <th>15</th>\n",
              "      <td>ko aku dekdekan kenapa ya??aku gelisah banget</td>\n",
              "      <td>1</td>\n",
              "    </tr>\n",
              "    <tr>\n",
              "      <th>...</th>\n",
              "      <td>...</td>\n",
              "      <td>...</td>\n",
              "    </tr>\n",
              "    <tr>\n",
              "      <th>3208</th>\n",
              "      <td>JA JA JA F POR EL JYP AHHHH</td>\n",
              "      <td>0</td>\n",
              "    </tr>\n",
              "    <tr>\n",
              "      <th>3209</th>\n",
              "      <td>Budak sekarang pasal tudung pun nak sensitif</td>\n",
              "      <td>0</td>\n",
              "    </tr>\n",
              "    <tr>\n",
              "      <th>3210</th>\n",
              "      <td>markah test semua dah keluar, cam okay lah sem...</td>\n",
              "      <td>0</td>\n",
              "    </tr>\n",
              "    <tr>\n",
              "      <th>3211</th>\n",
              "      <td>normalise hating someone by yourself bukan per...</td>\n",
              "      <td>0</td>\n",
              "    </tr>\n",
              "    <tr>\n",
              "      <th>3212</th>\n",
              "      <td>dilengangnya malam menuju minggu kau dimana~</td>\n",
              "      <td>0</td>\n",
              "    </tr>\n",
              "  </tbody>\n",
              "</table>\n",
              "<p>3590 rows × 2 columns</p>\n",
              "</div>"
            ],
            "text/plain": [
              "                                                   text  label\n",
              "1             sumpah ya dari pagi rasanya gelisah terus      1\n",
              "2     Catia hari sabtu.Presntasi Statin hari sabtu.....      1\n",
              "11    Pernah gasi ngerasain tiap hari gelisah karena...      1\n",
              "14    Aku makin gelisah, dan aku menangis sejadi jad...      1\n",
              "15        ko aku dekdekan kenapa ya??aku gelisah banget      1\n",
              "...                                                 ...    ...\n",
              "3208                        JA JA JA F POR EL JYP AHHHH      0\n",
              "3209       Budak sekarang pasal tudung pun nak sensitif      0\n",
              "3210  markah test semua dah keluar, cam okay lah sem...      0\n",
              "3211  normalise hating someone by yourself bukan per...      0\n",
              "3212       dilengangnya malam menuju minggu kau dimana~      0\n",
              "\n",
              "[3590 rows x 2 columns]"
            ]
          },
          "metadata": {
            "tags": []
          },
          "execution_count": 74
        }
      ]
    },
    {
      "cell_type": "code",
      "metadata": {
        "id": "XN3UcAgzLFfc"
      },
      "source": [
        "annotated_random.to_csv('datd_rand.csv', index=False)"
      ],
      "execution_count": 75,
      "outputs": []
    }
  ]
}