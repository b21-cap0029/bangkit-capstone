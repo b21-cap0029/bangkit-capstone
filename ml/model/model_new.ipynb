{
  "nbformat": 4,
  "nbformat_minor": 5,
  "metadata": {
    "kernelspec": {
      "display_name": "Python 3",
      "language": "python",
      "name": "python3"
    },
    "language_info": {
      "codemirror_mode": {
        "name": "ipython",
        "version": 3
      },
      "file_extension": ".py",
      "mimetype": "text/x-python",
      "name": "python",
      "nbconvert_exporter": "python",
      "pygments_lexer": "ipython3",
      "version": "3.8.8"
    },
    "colab": {
      "name": "model_new.ipynb",
      "provenance": [],
      "collapsed_sections": [],
      "toc_visible": true
    }
  },
  "cells": [
    {
      "cell_type": "code",
      "metadata": {
        "id": "0c5ff7ec"
      },
      "source": [
        "import matplotlib.pyplot as plt\n",
        "import numpy as np\n",
        "import pandas as pd\n",
        "\n",
        "import tensorflow as tf\n",
        "from tensorflow.keras.preprocessing.sequence import pad_sequences\n",
        "from tensorflow.keras.preprocessing.text import Tokenizer\n",
        "\n",
        "from tensorflow.keras.models import Sequential\n",
        "from tensorflow.keras.optimizers import Adam\n",
        "from tensorflow.keras.layers import Dense, Dropout, Embedding, LSTM, Bidirectional"
      ],
      "id": "0c5ff7ec",
      "execution_count": null,
      "outputs": []
    },
    {
      "cell_type": "markdown",
      "metadata": {
        "id": "2o7qIEcwIpgz"
      },
      "source": [
        "# CSV overview (DATD train & DATD test)"
      ],
      "id": "2o7qIEcwIpgz"
    },
    {
      "cell_type": "code",
      "metadata": {
        "colab": {
          "base_uri": "https://localhost:8080/"
        },
        "id": "ca291fda",
        "outputId": "43795f88-2485-4f24-8d49-3d3b980750cb"
      },
      "source": [
        "test = pd.read_csv('datd_test_additional.csv')\n",
        "nRow, nCol = test.shape\n",
        "print(f'There are {nRow} rows and {nCol} columns')"
      ],
      "id": "ca291fda",
      "execution_count": null,
      "outputs": [
        {
          "output_type": "stream",
          "text": [
            "There are 550 rows and 2 columns\n"
          ],
          "name": "stdout"
        }
      ]
    },
    {
      "cell_type": "code",
      "metadata": {
        "colab": {
          "base_uri": "https://localhost:8080/",
          "height": 206
        },
        "id": "c95f159e",
        "outputId": "958dfdaa-e318-416b-fa73-78bdefaf108c"
      },
      "source": [
        "test.head(5)"
      ],
      "id": "c95f159e",
      "execution_count": null,
      "outputs": [
        {
          "output_type": "execute_result",
          "data": {
            "text/html": [
              "<div>\n",
              "<style scoped>\n",
              "    .dataframe tbody tr th:only-of-type {\n",
              "        vertical-align: middle;\n",
              "    }\n",
              "\n",
              "    .dataframe tbody tr th {\n",
              "        vertical-align: top;\n",
              "    }\n",
              "\n",
              "    .dataframe thead th {\n",
              "        text-align: right;\n",
              "    }\n",
              "</style>\n",
              "<table border=\"1\" class=\"dataframe\">\n",
              "  <thead>\n",
              "    <tr style=\"text-align: right;\">\n",
              "      <th></th>\n",
              "      <th>text</th>\n",
              "      <th>label</th>\n",
              "    </tr>\n",
              "  </thead>\n",
              "  <tbody>\n",
              "    <tr>\n",
              "      <th>0</th>\n",
              "      <td>ngga enak bgt akhir2 ini rasanya, sering cemas...</td>\n",
              "      <td>1</td>\n",
              "    </tr>\n",
              "    <tr>\n",
              "      <th>1</th>\n",
              "      <td>Sedikit khawatir dan gelisah. 😓</td>\n",
              "      <td>1</td>\n",
              "    </tr>\n",
              "    <tr>\n",
              "      <th>2</th>\n",
              "      <td>Ngelakuin kesalahan yang sama. Bodoh bgt. Udah...</td>\n",
              "      <td>1</td>\n",
              "    </tr>\n",
              "    <tr>\n",
              "      <th>3</th>\n",
              "      <td>Pantesan gelisah bae, lupa lgi ga ada duit🤭</td>\n",
              "      <td>0</td>\n",
              "    </tr>\n",
              "    <tr>\n",
              "      <th>4</th>\n",
              "      <td>Semoga Mei disertai kabar-kabar baik. Yang luk...</td>\n",
              "      <td>0</td>\n",
              "    </tr>\n",
              "  </tbody>\n",
              "</table>\n",
              "</div>"
            ],
            "text/plain": [
              "                                                text  label\n",
              "0  ngga enak bgt akhir2 ini rasanya, sering cemas...      1\n",
              "1                    Sedikit khawatir dan gelisah. 😓      1\n",
              "2  Ngelakuin kesalahan yang sama. Bodoh bgt. Udah...      1\n",
              "3        Pantesan gelisah bae, lupa lgi ga ada duit🤭      0\n",
              "4  Semoga Mei disertai kabar-kabar baik. Yang luk...      0"
            ]
          },
          "metadata": {
            "tags": []
          },
          "execution_count": 3
        }
      ]
    },
    {
      "cell_type": "code",
      "metadata": {
        "id": "e7736ad0",
        "colab": {
          "base_uri": "https://localhost:8080/"
        },
        "outputId": "6f4196a0-206e-4595-bde7-3bc13d2ae2d6"
      },
      "source": [
        "train = pd.read_csv('datd_train_additional.csv')\n",
        "nRow, nCol = train.shape\n",
        "print(f'There are {nRow} rows and {nCol} columns')"
      ],
      "id": "e7736ad0",
      "execution_count": null,
      "outputs": [
        {
          "output_type": "stream",
          "text": [
            "There are 2201 rows and 2 columns\n"
          ],
          "name": "stdout"
        }
      ]
    },
    {
      "cell_type": "code",
      "metadata": {
        "id": "f588c5bb",
        "colab": {
          "base_uri": "https://localhost:8080/",
          "height": 206
        },
        "outputId": "7a2e7e0e-85bf-4239-b853-76b94cd8f329"
      },
      "source": [
        "train.head(5)"
      ],
      "id": "f588c5bb",
      "execution_count": null,
      "outputs": [
        {
          "output_type": "execute_result",
          "data": {
            "text/html": [
              "<div>\n",
              "<style scoped>\n",
              "    .dataframe tbody tr th:only-of-type {\n",
              "        vertical-align: middle;\n",
              "    }\n",
              "\n",
              "    .dataframe tbody tr th {\n",
              "        vertical-align: top;\n",
              "    }\n",
              "\n",
              "    .dataframe thead th {\n",
              "        text-align: right;\n",
              "    }\n",
              "</style>\n",
              "<table border=\"1\" class=\"dataframe\">\n",
              "  <thead>\n",
              "    <tr style=\"text-align: right;\">\n",
              "      <th></th>\n",
              "      <th>text</th>\n",
              "      <th>label</th>\n",
              "    </tr>\n",
              "  </thead>\n",
              "  <tbody>\n",
              "    <tr>\n",
              "      <th>0</th>\n",
              "      <td>oh pantesan tadi pada rame, ternyata monek mau...</td>\n",
              "      <td>0</td>\n",
              "    </tr>\n",
              "    <tr>\n",
              "      <th>1</th>\n",
              "      <td>Semakin bertambah usia, semakin cemas hidup.</td>\n",
              "      <td>0</td>\n",
              "    </tr>\n",
              "    <tr>\n",
              "      <th>2</th>\n",
              "      <td>gelisah bgt astaga</td>\n",
              "      <td>1</td>\n",
              "    </tr>\n",
              "    <tr>\n",
              "      <th>3</th>\n",
              "      <td>Udah jangan terlalu cemas sikapku tak berubah ...</td>\n",
              "      <td>0</td>\n",
              "    </tr>\n",
              "    <tr>\n",
              "      <th>4</th>\n",
              "      <td>Giliran Aldebaran diambang kematian...Semua ba...</td>\n",
              "      <td>0</td>\n",
              "    </tr>\n",
              "  </tbody>\n",
              "</table>\n",
              "</div>"
            ],
            "text/plain": [
              "                                                text  label\n",
              "0  oh pantesan tadi pada rame, ternyata monek mau...      0\n",
              "1       Semakin bertambah usia, semakin cemas hidup.      0\n",
              "2                                 gelisah bgt astaga      1\n",
              "3  Udah jangan terlalu cemas sikapku tak berubah ...      0\n",
              "4  Giliran Aldebaran diambang kematian...Semua ba...      0"
            ]
          },
          "metadata": {
            "tags": []
          },
          "execution_count": 5
        }
      ]
    },
    {
      "cell_type": "markdown",
      "metadata": {
        "id": "_BLtY_agLWCU"
      },
      "source": [
        "# Text Preprocessing"
      ],
      "id": "_BLtY_agLWCU"
    },
    {
      "cell_type": "code",
      "metadata": {
        "id": "54759361"
      },
      "source": [
        "import re\n",
        "\n",
        "def deEmojify(text):\n",
        "    regrex_pattern = re.compile(pattern = \"[\"\n",
        "        u\"\\U0001F600-\\U0001F64F\"  # emoticons\n",
        "        u\"\\U0001F300-\\U0001F5FF\"  # symbols & pictographs\n",
        "        u\"\\U0001F680-\\U0001F6FF\"  # transport & map symbols\n",
        "        u\"\\U0001F1E0-\\U0001F1FF\"\n",
        "        u\"\\U0001F700-\\U0001F77F\"  # alchemical symbols\n",
        "        u\"\\U0001F780-\\U0001F7FF\"  # Geometric Shapes Extended\n",
        "        u\"\\U0001F800-\\U0001F8FF\"  # Supplemental Arrows-C\n",
        "        u\"\\U0001F900-\\U0001F9FF\"  # Supplemental Symbols and Pictographs\n",
        "        u\"\\U0001FA00-\\U0001FA6F\"  # Chess Symbols\n",
        "        u\"\\U0001FA70-\\U0001FAFF\"  # Symbols and Pictographs Extended-A\n",
        "        u\"\\U00002702-\\U000027B0\"  # Dingbats\n",
        "        u\"\\U000024C2-\\U0001F251\"# flags (iOS)\n",
        "                           \"]+\", flags = re.UNICODE)\n",
        "    return regrex_pattern.sub(r'',text)"
      ],
      "id": "54759361",
      "execution_count": null,
      "outputs": []
    },
    {
      "cell_type": "code",
      "metadata": {
        "id": "3abc1cd2"
      },
      "source": [
        "def process(text):\n",
        "  # remove links\n",
        "  text = re.sub(\"https://t.co/\\S*\",\"\",text) \n",
        "\n",
        "  # remove newline\n",
        "  text = re.sub(\"\\n\",\"\",text)\n",
        "\n",
        "  # remove digits\n",
        "  text = re.sub(\"[0-9]\",\"\",text)\n",
        "\n",
        "  # remove emojis\n",
        "  text = deEmojify(text)\n",
        "\n",
        "  return text"
      ],
      "id": "3abc1cd2",
      "execution_count": null,
      "outputs": []
    },
    {
      "cell_type": "markdown",
      "metadata": {
        "id": "a7fffb75"
      },
      "source": [
        "## Cleaning Train"
      ],
      "id": "a7fffb75"
    },
    {
      "cell_type": "code",
      "metadata": {
        "colab": {
          "base_uri": "https://localhost:8080/"
        },
        "id": "wIlIK_g1L0u_",
        "outputId": "cb8ebe4f-0f3b-4b4b-c972-94fd9043b85b"
      },
      "source": [
        "train_corpus = list(map(process, train['text']))    \n",
        "print(len(train_corpus))\n",
        "print(train_corpus[1])"
      ],
      "id": "wIlIK_g1L0u_",
      "execution_count": null,
      "outputs": [
        {
          "output_type": "stream",
          "text": [
            "2201\n",
            "Semakin bertambah usia, semakin cemas hidup.\n"
          ],
          "name": "stdout"
        }
      ]
    },
    {
      "cell_type": "markdown",
      "metadata": {
        "id": "5289cd5a"
      },
      "source": [
        "## Cleaning test"
      ],
      "id": "5289cd5a"
    },
    {
      "cell_type": "code",
      "metadata": {
        "id": "006b419e",
        "colab": {
          "base_uri": "https://localhost:8080/"
        },
        "outputId": "c945ed08-0554-4eda-8e07-b2ae5fdfdd93"
      },
      "source": [
        "test_corpus = list(map(process, test['text']))    \n",
        "print(len(test_corpus))\n",
        "print(test_corpus[1])"
      ],
      "id": "006b419e",
      "execution_count": null,
      "outputs": [
        {
          "output_type": "stream",
          "text": [
            "550\n",
            "Sedikit khawatir dan gelisah. \n"
          ],
          "name": "stdout"
        }
      ]
    },
    {
      "cell_type": "markdown",
      "metadata": {
        "id": "557d4081"
      },
      "source": [
        "# Bagi Test Set dan Train Set"
      ],
      "id": "557d4081"
    },
    {
      "cell_type": "code",
      "metadata": {
        "id": "16b8b8e6"
      },
      "source": [
        "X_train = train_corpus\n",
        "y_train = train['label'].tolist()\n",
        "\n",
        "X_test = test_corpus\n",
        "y_test = test['label'].tolist()"
      ],
      "id": "16b8b8e6",
      "execution_count": null,
      "outputs": []
    },
    {
      "cell_type": "code",
      "metadata": {
        "id": "aae5f5b1",
        "colab": {
          "base_uri": "https://localhost:8080/"
        },
        "outputId": "80bf8330-9b06-4877-aec3-676bbc777197"
      },
      "source": [
        "print(len(X_train[0]))\n",
        "print(X_train[0])\n",
        "print(len(X_train))\n",
        "print(len(y_train))"
      ],
      "id": "aae5f5b1",
      "execution_count": null,
      "outputs": [
        {
          "output_type": "stream",
          "text": [
            "69\n",
            "oh pantesan tadi pada rame, ternyata monek mau cb juni. cemas aku tuh\n",
            "2201\n",
            "2201\n"
          ],
          "name": "stdout"
        }
      ]
    },
    {
      "cell_type": "markdown",
      "metadata": {
        "id": "UmMkwgwxP0sb"
      },
      "source": [
        "# Building models"
      ],
      "id": "UmMkwgwxP0sb"
    },
    {
      "cell_type": "code",
      "metadata": {
        "id": "2D72P-QPb2O2"
      },
      "source": [
        "VOCAB_SIZE = 4000\n",
        "\n",
        "encoder = tf.keras.layers.experimental.preprocessing.TextVectorization(max_tokens=VOCAB_SIZE)\n",
        "encoder.adapt(X_train)"
      ],
      "id": "2D72P-QPb2O2",
      "execution_count": null,
      "outputs": []
    },
    {
      "cell_type": "markdown",
      "metadata": {
        "id": "xhhsIwmhP5eE"
      },
      "source": [
        "## Model 1 (LSTM)"
      ],
      "id": "xhhsIwmhP5eE"
    },
    {
      "cell_type": "code",
      "metadata": {
        "id": "b7f4c4d9",
        "colab": {
          "base_uri": "https://localhost:8080/"
        },
        "outputId": "9a0b3f39-d758-4fbb-fae7-26074965f2c8"
      },
      "source": [
        "model_lstm = Sequential()\n",
        "model_lstm.add(encoder)\n",
        "model_lstm.add(Embedding(input_dim=len(encoder.get_vocabulary()), output_dim=64, mask_zero=True))\n",
        "model_lstm.add(LSTM(64))\n",
        "model_lstm.add(Dense(64, activation='relu'))\n",
        "model_lstm.add(Dense(1, activation='sigmoid'))\n",
        "model_lstm.compile(loss='binary_crossentropy', optimizer='adam', metrics=['accuracy', tf.keras.metrics.Recall(name='recall', thresholds=0.9)])\n",
        "\n",
        "history = model_lstm.fit(X_train, y_train, validation_data=(X_test, y_test), epochs=15, batch_size=128)"
      ],
      "id": "b7f4c4d9",
      "execution_count": null,
      "outputs": [
        {
          "output_type": "stream",
          "text": [
            "Epoch 1/15\n",
            "18/18 [==============================] - 6s 136ms/step - loss: 0.6561 - accuracy: 0.6474 - recall: 0.0314 - val_loss: 0.5457 - val_accuracy: 0.7073 - val_recall: 0.0000e+00\n",
            "Epoch 2/15\n",
            "18/18 [==============================] - 1s 61ms/step - loss: 0.5583 - accuracy: 0.6742 - recall: 0.0218 - val_loss: 0.4810 - val_accuracy: 0.7455 - val_recall: 0.1491\n",
            "Epoch 3/15\n",
            "18/18 [==============================] - 1s 62ms/step - loss: 0.4498 - accuracy: 0.8224 - recall: 0.5621 - val_loss: 0.4159 - val_accuracy: 0.8164 - val_recall: 0.6335\n",
            "Epoch 4/15\n",
            "18/18 [==============================] - 1s 62ms/step - loss: 0.3190 - accuracy: 0.8764 - recall: 0.7954 - val_loss: 0.4276 - val_accuracy: 0.8055 - val_recall: 0.6149\n",
            "Epoch 5/15\n",
            "18/18 [==============================] - 1s 63ms/step - loss: 0.2286 - accuracy: 0.9187 - recall: 0.8540 - val_loss: 0.4906 - val_accuracy: 0.8018 - val_recall: 0.5590\n",
            "Epoch 6/15\n",
            "18/18 [==============================] - 1s 61ms/step - loss: 0.1626 - accuracy: 0.9441 - recall: 0.8977 - val_loss: 0.6375 - val_accuracy: 0.7927 - val_recall: 0.5839\n",
            "Epoch 7/15\n",
            "18/18 [==============================] - 1s 61ms/step - loss: 0.1341 - accuracy: 0.9518 - recall: 0.9113 - val_loss: 0.6093 - val_accuracy: 0.8000 - val_recall: 0.5466\n",
            "Epoch 8/15\n",
            "18/18 [==============================] - 1s 62ms/step - loss: 0.1130 - accuracy: 0.9646 - recall: 0.9250 - val_loss: 0.6668 - val_accuracy: 0.8018 - val_recall: 0.5776\n",
            "Epoch 9/15\n",
            "18/18 [==============================] - 1s 63ms/step - loss: 0.1004 - accuracy: 0.9659 - recall: 0.9277 - val_loss: 0.7001 - val_accuracy: 0.7964 - val_recall: 0.5466\n",
            "Epoch 10/15\n",
            "18/18 [==============================] - 1s 61ms/step - loss: 0.0928 - accuracy: 0.9709 - recall: 0.9372 - val_loss: 0.8710 - val_accuracy: 0.8000 - val_recall: 0.5652\n",
            "Epoch 11/15\n",
            "18/18 [==============================] - 1s 62ms/step - loss: 0.0899 - accuracy: 0.9696 - recall: 0.9386 - val_loss: 0.7591 - val_accuracy: 0.8036 - val_recall: 0.6087\n",
            "Epoch 12/15\n",
            "18/18 [==============================] - 1s 63ms/step - loss: 0.0876 - accuracy: 0.9714 - recall: 0.9304 - val_loss: 0.7608 - val_accuracy: 0.7927 - val_recall: 0.5652\n",
            "Epoch 13/15\n",
            "18/18 [==============================] - 1s 62ms/step - loss: 0.0881 - accuracy: 0.9714 - recall: 0.9345 - val_loss: 0.7813 - val_accuracy: 0.8000 - val_recall: 0.5528\n",
            "Epoch 14/15\n",
            "18/18 [==============================] - 1s 64ms/step - loss: 0.0912 - accuracy: 0.9709 - recall: 0.9372 - val_loss: 0.8258 - val_accuracy: 0.8073 - val_recall: 0.5839\n",
            "Epoch 15/15\n",
            "18/18 [==============================] - 1s 63ms/step - loss: 0.0817 - accuracy: 0.9750 - recall: 0.9345 - val_loss: 0.8193 - val_accuracy: 0.7982 - val_recall: 0.5714\n"
          ],
          "name": "stdout"
        }
      ]
    },
    {
      "cell_type": "code",
      "metadata": {
        "id": "02012d2a",
        "colab": {
          "base_uri": "https://localhost:8080/",
          "height": 805
        },
        "outputId": "0191f40d-5f5c-44b6-894d-e5544125012e"
      },
      "source": [
        "def plot_graphs(history, string):\n",
        "    plt.plot(history.history[string])\n",
        "    plt.plot(history.history['val_'+string])\n",
        "    plt.xlabel(\"Epochs\")\n",
        "    plt.ylabel(string)\n",
        "    plt.legend([string, 'val_'+string])\n",
        "    plt.show()\n",
        "\n",
        "plot_graphs(history, 'accuracy')\n",
        "plot_graphs(history, 'recall')\n",
        "plot_graphs(history, 'loss')"
      ],
      "id": "02012d2a",
      "execution_count": null,
      "outputs": [
        {
          "output_type": "display_data",
          "data": {
            "image/png": "[encoded data removed]",
            "text/plain": [
              "<Figure size 432x288 with 1 Axes>"
            ]
          },
          "metadata": {
            "tags": [],
            "needs_background": "light"
          }
        },
        {
          "output_type": "display_data",
          "data": {
            "image/png": "[encoded data removed]",
            "text/plain": [
              "<Figure size 432x288 with 1 Axes>"
            ]
          },
          "metadata": {
            "tags": [],
            "needs_background": "light"
          }
        },
        {
          "output_type": "display_data",
          "data": {
            "image/png": "[encoded data removed]",
            "text/plain": [
              "<Figure size 432x288 with 1 Axes>"
            ]
          },
          "metadata": {
            "tags": [],
            "needs_background": "light"
          }
        }
      ]
    },
    {
      "cell_type": "code",
      "metadata": {
        "colab": {
          "base_uri": "https://localhost:8080/",
          "height": 366
        },
        "id": "5BNUddmQzEHq",
        "outputId": "e2b512f6-5f47-40df-cac5-853e61708bae"
      },
      "source": [
        "rand = pd.read_csv('datd_rand_additional.csv')\n",
        "X_rand = list(map(process, rand['text']))\n",
        "y_rand = rand['label'].tolist()\n",
        "\n",
        "def evaluate(y_predict, y_actual, threshold):\n",
        "  tp = 0\n",
        "  tn = 0\n",
        "  fn = 0\n",
        "  fp = 0\n",
        "  for k, v in enumerate(y_predict):\n",
        "    predict = v > threshold\n",
        "    actual = y_actual[k]\n",
        "\n",
        "    if actual and not predict:\n",
        "      fn += 1\n",
        "    \n",
        "    if actual and predict:\n",
        "      tp += 1\n",
        "\n",
        "    if not actual and predict:\n",
        "      fp += 1\n",
        "\n",
        "    if not actual and not predict:\n",
        "      tn += 1\n",
        "\n",
        "  accuracy = (tp+tn)/len(y_predict)\n",
        "  precision = tp/(tp+fp)\n",
        "  recall = tp/(tp+fn)\n",
        "  f1 = (2*tp)/(2*tp + fp+ fn)\n",
        "  #print('accuracy:', accuracy)\n",
        "  #print('precision:', precision)\n",
        "  #print('recall:', recall)\n",
        "  #print('f1:', f1)\n",
        "  return accuracy, precision, recall, f1\n",
        "\n",
        "def plot_metrics(pred, actual):\n",
        "  X = np.arange(0.8, 1.0, 0.0005)\n",
        "  A = []\n",
        "  P = []\n",
        "  R = []\n",
        "  F = []\n",
        "\n",
        "  for x in X:\n",
        "    a, p, r, f = evaluate(pred, actual, x)\n",
        "    A.append(a)\n",
        "    P.append(p)\n",
        "    R.append(r)\n",
        "    F.append(f)\n",
        "\n",
        "  plt.plot(X, A)\n",
        "  plt.plot(X, P)\n",
        "  plt.plot(X, R)\n",
        "  plt.plot(X, F)\n",
        "  plt.xlabel(\"threshold\")\n",
        "  plt.legend(['accuracy', 'precision', 'recall', 'F1'])\n",
        "  plt.show()\n",
        "\n",
        "  best = F.index(max(F))\n",
        "  print(\"Accuracy: {:.3g}\\nPrecision: {:.3g}\\nRecall: {:.3g}\\nF1 score: {:.3g}\\nTreshold: {:.5g}\".format(A[best], P[best], R[best], F[best], X[best]))\n",
        "\n",
        "plot_metrics(model_lstm.predict(X_rand), y_rand)"
      ],
      "id": "5BNUddmQzEHq",
      "execution_count": 58,
      "outputs": [
        {
          "output_type": "display_data",
          "data": {
            "image/png": "[encoded data removed]",
            "text/plain": [
              "<Figure size 432x288 with 1 Axes>"
            ]
          },
          "metadata": {
            "tags": [],
            "needs_background": "light"
          }
        },
        {
          "output_type": "stream",
          "text": [
            "Accuracy: 0.945\n",
            "Precision: 0.707\n",
            "Recall: 0.812\n",
            "F1 score: 0.756\n",
            "Treshold: 0.97\n"
          ],
          "name": "stdout"
        }
      ]
    },
    {
      "cell_type": "markdown",
      "metadata": {
        "id": "de64f5b1"
      },
      "source": [
        "## Model 2 (Bidirectional)"
      ],
      "id": "de64f5b1"
    },
    {
      "cell_type": "code",
      "metadata": {
        "id": "a0a8119d",
        "colab": {
          "base_uri": "https://localhost:8080/"
        },
        "outputId": "7f269e3e-254a-4a2a-bb07-c8bde56db0d8"
      },
      "source": [
        "model_bilstm = tf.keras.Sequential([\n",
        "    encoder,\n",
        "    Embedding(input_dim=len(encoder.get_vocabulary()), output_dim=100, mask_zero=True),\n",
        "    tf.keras.layers.Bidirectional(tf.keras.layers.LSTM(64)),\n",
        "    tf.keras.layers.Dense(64, activation='relu'),\n",
        "    tf.keras.layers.Dense(1, activation='sigmoid')\n",
        "])\n",
        "\n",
        "model_bilstm.compile(loss='binary_crossentropy', optimizer='adam', metrics=['accuracy', tf.keras.metrics.Recall(name='recall', thresholds=0.9)])\n",
        "history = model_bilstm.fit(train['text'], train['label'], validation_data=(test['text'], test['label']), epochs=7, batch_size=128)"
      ],
      "id": "a0a8119d",
      "execution_count": 68,
      "outputs": [
        {
          "output_type": "stream",
          "text": [
            "Epoch 1/7\n",
            "18/18 [==============================] - 13s 264ms/step - loss: 0.6454 - accuracy: 0.6647 - recall: 0.0000e+00 - val_loss: 0.5360 - val_accuracy: 0.7073 - val_recall: 0.0000e+00\n",
            "Epoch 2/7\n",
            "18/18 [==============================] - 3s 142ms/step - loss: 0.5391 - accuracy: 0.6870 - recall: 0.0000e+00 - val_loss: 0.4611 - val_accuracy: 0.7891 - val_recall: 0.0000e+00\n",
            "Epoch 3/7\n",
            "18/18 [==============================] - 3s 142ms/step - loss: 0.4186 - accuracy: 0.8423 - recall: 0.0150 - val_loss: 0.4146 - val_accuracy: 0.8200 - val_recall: 0.0870\n",
            "Epoch 4/7\n",
            "18/18 [==============================] - 3s 142ms/step - loss: 0.2855 - accuracy: 0.8914 - recall: 0.2920 - val_loss: 0.4540 - val_accuracy: 0.8127 - val_recall: 0.2547\n",
            "Epoch 5/7\n",
            "18/18 [==============================] - 3s 144ms/step - loss: 0.1947 - accuracy: 0.9318 - recall: 0.5689 - val_loss: 0.6037 - val_accuracy: 0.8000 - val_recall: 0.3727\n",
            "Epoch 6/7\n",
            "18/18 [==============================] - 3s 142ms/step - loss: 0.1515 - accuracy: 0.9478 - recall: 0.6930 - val_loss: 0.6417 - val_accuracy: 0.7655 - val_recall: 0.3602\n",
            "Epoch 7/7\n",
            "18/18 [==============================] - 3s 142ms/step - loss: 0.1327 - accuracy: 0.9564 - recall: 0.7558 - val_loss: 0.6319 - val_accuracy: 0.7945 - val_recall: 0.4037\n"
          ],
          "name": "stdout"
        }
      ]
    },
    {
      "cell_type": "code",
      "metadata": {
        "id": "4665737f",
        "colab": {
          "base_uri": "https://localhost:8080/",
          "height": 803
        },
        "outputId": "73b4aae9-df69-487f-d2f8-2088accaa47e"
      },
      "source": [
        "plot_graphs(history, 'accuracy')\n",
        "plot_graphs(history, 'recall')\n",
        "plot_graphs(history, 'loss')"
      ],
      "id": "4665737f",
      "execution_count": 69,
      "outputs": [
        {
          "output_type": "display_data",
          "data": {
            "image/png": "[encoded data removed]",
            "text/plain": [
              "<Figure size 432x288 with 1 Axes>"
            ]
          },
          "metadata": {
            "tags": [],
            "needs_background": "light"
          }
        },
        {
          "output_type": "display_data",
          "data": {
            "image/png": "[encoded data removed]",
            "text/plain": [
              "<Figure size 432x288 with 1 Axes>"
            ]
          },
          "metadata": {
            "tags": [],
            "needs_background": "light"
          }
        },
        {
          "output_type": "display_data",
          "data": {
            "image/png": "[encoded data removed]",
            "text/plain": [
              "<Figure size 432x288 with 1 Axes>"
            ]
          },
          "metadata": {
            "tags": [],
            "needs_background": "light"
          }
        }
      ]
    },
    {
      "cell_type": "code",
      "metadata": {
        "colab": {
          "base_uri": "https://localhost:8080/",
          "height": 366
        },
        "id": "cUQ9bBSnolDX",
        "outputId": "ed9a0a64-fba1-4d53-d860-3d048604f18b"
      },
      "source": [
        "plot_metrics(model_bilstm.predict(X_rand), y_rand)"
      ],
      "id": "cUQ9bBSnolDX",
      "execution_count": 70,
      "outputs": [
        {
          "output_type": "display_data",
          "data": {
            "image/png": "[encoded data removed]",
            "text/plain": [
              "<Figure size 432x288 with 1 Axes>"
            ]
          },
          "metadata": {
            "tags": [],
            "needs_background": "light"
          }
        },
        {
          "output_type": "stream",
          "text": [
            "Accuracy: 0.949\n",
            "Precision: 0.745\n",
            "Recall: 0.789\n",
            "F1 score: 0.766\n",
            "Treshold: 0.936\n"
          ],
          "name": "stdout"
        }
      ]
    },
    {
      "cell_type": "code",
      "metadata": {
        "colab": {
          "base_uri": "https://localhost:8080/"
        },
        "id": "-iRV56Iav4ih",
        "outputId": "427df4c9-bb09-4140-ad37-5be51e82e3cc"
      },
      "source": [
        "model_bilstm.predict([\"contoh teks tweet satu\",\n",
        "               \"contoh teks tweet dua\",\n",
        "               \"contoh teks tweet tiga\"])"
      ],
      "id": "-iRV56Iav4ih",
      "execution_count": 80,
      "outputs": [
        {
          "output_type": "execute_result",
          "data": {
            "text/plain": [
              "array([[0.11058763],\n",
              "       [0.00839627],\n",
              "       [0.0193885 ]], dtype=float32)"
            ]
          },
          "metadata": {
            "tags": []
          },
          "execution_count": 80
        }
      ]
    },
    {
      "cell_type": "markdown",
      "metadata": {
        "id": "q8ysiwmLRHA_"
      },
      "source": [
        "# Results (DATD) with new dataset\n",
        "\n",
        "We pick the best performance on each model based on the highest F1 score.\n",
        "\n",
        "Classifier | Accuracy | Precision | Recall | F1 | Threshold\n",
        "--- | --- | --- | --- | --- | --\n",
        "LSTM | 0.974 | 0.997 | 0.925 | 0.960 | 0.805\n",
        "BI-LSTM | 0.977 | 0.999 | 0.932 | 0.964 | 0.800"
      ],
      "id": "q8ysiwmLRHA_"
    },
    {
      "cell_type": "markdown",
      "metadata": {
        "id": "F3brso5jx0vQ"
      },
      "source": [
        "# Results (DATD+Rand) with new dataset\n",
        "\n",
        "We pick the best performance on each model based on the highest F1 score.\n",
        "\n",
        "Classifier | Accuracy | Precision | Recall | F1 | Threshold\n",
        "--- | --- | --- | --- | --- | --\n",
        "LSTM | 0.945 | 0.707 | 0.812 | 0.756 | 0.97000\n",
        "BI-LSTM | 0.949 | 0.745 | 0.789 | 0.766 | 0.93600"
      ],
      "id": "F3brso5jx0vQ"
    },
    {
      "cell_type": "code",
      "metadata": {
        "colab": {
          "base_uri": "https://localhost:8080/"
        },
        "id": "6hT_WR0IvYfH",
        "outputId": "349176f8-5994-4d94-9d50-df96a0233777"
      },
      "source": [
        "model_bilstm.save('model')"
      ],
      "id": "6hT_WR0IvYfH",
      "execution_count": 81,
      "outputs": [
        {
          "output_type": "stream",
          "text": [
            "WARNING:absl:Found untraced functions such as lstm_cell_38_layer_call_and_return_conditional_losses, lstm_cell_38_layer_call_fn, lstm_cell_39_layer_call_and_return_conditional_losses, lstm_cell_39_layer_call_fn, lstm_cell_38_layer_call_fn while saving (showing 5 of 10). These functions will not be directly callable after loading.\n"
          ],
          "name": "stderr"
        },
        {
          "output_type": "stream",
          "text": [
            "INFO:tensorflow:Assets written to: model/assets\n"
          ],
          "name": "stdout"
        },
        {
          "output_type": "stream",
          "text": [
            "INFO:tensorflow:Assets written to: model/assets\n"
          ],
          "name": "stderr"
        }
      ]
    },
    {
      "cell_type": "code",
      "metadata": {
        "colab": {
          "base_uri": "https://localhost:8080/"
        },
        "id": "qCTkh0zawB9G",
        "outputId": "6e569cd0-e43b-46ba-857b-a2eed75cd291"
      },
      "source": [
        "!zip -r model.zip model"
      ],
      "id": "qCTkh0zawB9G",
      "execution_count": 82,
      "outputs": [
        {
          "output_type": "stream",
          "text": [
            "  adding: model/ (stored 0%)\n",
            "  adding: model/assets/ (stored 0%)\n",
            "  adding: model/saved_model.pb (deflated 90%)\n",
            "  adding: model/keras_metadata.pb (deflated 89%)\n",
            "  adding: model/variables/ (stored 0%)\n",
            "  adding: model/variables/variables.data-00000-of-00001 (deflated 8%)\n",
            "  adding: model/variables/variables.index (deflated 64%)\n"
          ],
          "name": "stdout"
        }
      ]
    }
  ]
}