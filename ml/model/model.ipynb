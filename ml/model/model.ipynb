{
  "nbformat": 4,
  "nbformat_minor": 5,
  "metadata": {
    "kernelspec": {
      "display_name": "Python 3",
      "language": "python",
      "name": "python3"
    },
    "language_info": {
      "codemirror_mode": {
        "name": "ipython",
        "version": 3
      },
      "file_extension": ".py",
      "mimetype": "text/x-python",
      "name": "python",
      "nbconvert_exporter": "python",
      "pygments_lexer": "ipython3",
      "version": "3.8.8"
    },
    "colab": {
      "name": "model.ipynb",
      "provenance": [],
      "collapsed_sections": []
    }
  },
  "cells": [
    {
      "cell_type": "code",
      "metadata": {
        "id": "0c5ff7ec"
      },
      "source": [
        "import matplotlib.pyplot as plt\n",
        "import numpy as np\n",
        "import pandas as pd\n",
        "\n",
        "import tensorflow as tf\n",
        "from tensorflow.keras.preprocessing.sequence import pad_sequences\n",
        "from tensorflow.keras.preprocessing.text import Tokenizer\n",
        "\n",
        "from tensorflow.keras.models import Sequential\n",
        "from tensorflow.keras.optimizers import Adam\n",
        "from tensorflow.keras.layers import Dense, Dropout, Embedding, LSTM, Bidirectional"
      ],
      "id": "0c5ff7ec",
      "execution_count": 20,
      "outputs": []
    },
    {
      "cell_type": "markdown",
      "metadata": {
        "id": "2o7qIEcwIpgz"
      },
      "source": [
        "# CSV overview (DATD train & DATD test)"
      ],
      "id": "2o7qIEcwIpgz"
    },
    {
      "cell_type": "code",
      "metadata": {
        "colab": {
          "base_uri": "https://localhost:8080/"
        },
        "id": "ca291fda",
        "outputId": "dbfed548-f440-44b9-829e-c6eeb37d8199"
      },
      "source": [
        "test = pd.read_csv('datd_test.csv')\n",
        "nRow, nCol = test.shape\n",
        "print(f'There are {nRow} rows and {nCol} columns')"
      ],
      "id": "ca291fda",
      "execution_count": 2,
      "outputs": [
        {
          "output_type": "stream",
          "text": [
            "There are 100 rows and 2 columns\n"
          ],
          "name": "stdout"
        }
      ]
    },
    {
      "cell_type": "code",
      "metadata": {
        "colab": {
          "base_uri": "https://localhost:8080/",
          "height": 206
        },
        "id": "c95f159e",
        "outputId": "a37ff167-6a0f-439a-bde4-5d9fd3ea1c93"
      },
      "source": [
        "test.head(5)"
      ],
      "id": "c95f159e",
      "execution_count": 3,
      "outputs": [
        {
          "output_type": "execute_result",
          "data": {
            "text/html": [
              "<div>\n",
              "<style scoped>\n",
              "    .dataframe tbody tr th:only-of-type {\n",
              "        vertical-align: middle;\n",
              "    }\n",
              "\n",
              "    .dataframe tbody tr th {\n",
              "        vertical-align: top;\n",
              "    }\n",
              "\n",
              "    .dataframe thead th {\n",
              "        text-align: right;\n",
              "    }\n",
              "</style>\n",
              "<table border=\"1\" class=\"dataframe\">\n",
              "  <thead>\n",
              "    <tr style=\"text-align: right;\">\n",
              "      <th></th>\n",
              "      <th>text</th>\n",
              "      <th>label</th>\n",
              "    </tr>\n",
              "  </thead>\n",
              "  <tbody>\n",
              "    <tr>\n",
              "      <th>0</th>\n",
              "      <td>Aku merindukan tempatku yang tenang, tanpa ras...</td>\n",
              "      <td>1</td>\n",
              "    </tr>\n",
              "    <tr>\n",
              "      <th>1</th>\n",
              "      <td>Gelisah tanpa sebab. Terasa seperti punya kein...</td>\n",
              "      <td>1</td>\n",
              "    </tr>\n",
              "    <tr>\n",
              "      <th>2</th>\n",
              "      <td>Sekarang kita masih sama, suka bingung. Suka c...</td>\n",
              "      <td>0</td>\n",
              "    </tr>\n",
              "    <tr>\n",
              "      <th>3</th>\n",
              "      <td>aku mula lah gelisah bila dia outstation , kal...</td>\n",
              "      <td>0</td>\n",
              "    </tr>\n",
              "    <tr>\n",
              "      <th>4</th>\n",
              "      <td>Kasihan kamu, hidup dalam tekanan dan selalu d...</td>\n",
              "      <td>0</td>\n",
              "    </tr>\n",
              "  </tbody>\n",
              "</table>\n",
              "</div>"
            ],
            "text/plain": [
              "                                                text  label\n",
              "0  Aku merindukan tempatku yang tenang, tanpa ras...      1\n",
              "1  Gelisah tanpa sebab. Terasa seperti punya kein...      1\n",
              "2  Sekarang kita masih sama, suka bingung. Suka c...      0\n",
              "3  aku mula lah gelisah bila dia outstation , kal...      0\n",
              "4  Kasihan kamu, hidup dalam tekanan dan selalu d...      0"
            ]
          },
          "metadata": {
            "tags": []
          },
          "execution_count": 3
        }
      ]
    },
    {
      "cell_type": "code",
      "metadata": {
        "id": "e7736ad0",
        "colab": {
          "base_uri": "https://localhost:8080/"
        },
        "outputId": "430c70a7-9a68-4254-f547-a181c6a63a3f"
      },
      "source": [
        "train = pd.read_csv('datd_train.csv')\n",
        "nRow, nCol = train.shape\n",
        "print(f'There are {nRow} rows and {nCol} columns')"
      ],
      "id": "e7736ad0",
      "execution_count": 4,
      "outputs": [
        {
          "output_type": "stream",
          "text": [
            "There are 900 rows and 2 columns\n"
          ],
          "name": "stdout"
        }
      ]
    },
    {
      "cell_type": "code",
      "metadata": {
        "id": "f588c5bb",
        "colab": {
          "base_uri": "https://localhost:8080/",
          "height": 206
        },
        "outputId": "22d8a8ad-2b51-4401-ba66-7c7932100cf5"
      },
      "source": [
        "train.head(5)"
      ],
      "id": "f588c5bb",
      "execution_count": 5,
      "outputs": [
        {
          "output_type": "execute_result",
          "data": {
            "text/html": [
              "<div>\n",
              "<style scoped>\n",
              "    .dataframe tbody tr th:only-of-type {\n",
              "        vertical-align: middle;\n",
              "    }\n",
              "\n",
              "    .dataframe tbody tr th {\n",
              "        vertical-align: top;\n",
              "    }\n",
              "\n",
              "    .dataframe thead th {\n",
              "        text-align: right;\n",
              "    }\n",
              "</style>\n",
              "<table border=\"1\" class=\"dataframe\">\n",
              "  <thead>\n",
              "    <tr style=\"text-align: right;\">\n",
              "      <th></th>\n",
              "      <th>text</th>\n",
              "      <th>label</th>\n",
              "    </tr>\n",
              "  </thead>\n",
              "  <tbody>\n",
              "    <tr>\n",
              "      <th>0</th>\n",
              "      <td>abis minum kopi perasaan mesti gelisah gatau k...</td>\n",
              "      <td>0</td>\n",
              "    </tr>\n",
              "    <tr>\n",
              "      <th>1</th>\n",
              "      <td>sumpah ya dari pagi rasanya gelisah terus</td>\n",
              "      <td>1</td>\n",
              "    </tr>\n",
              "    <tr>\n",
              "      <th>2</th>\n",
              "      <td>Catia hari sabtu.Presntasi Statin hari sabtu.....</td>\n",
              "      <td>1</td>\n",
              "    </tr>\n",
              "    <tr>\n",
              "      <th>3</th>\n",
              "      <td>tbtb gelisah 🤕</td>\n",
              "      <td>0</td>\n",
              "    </tr>\n",
              "    <tr>\n",
              "      <th>4</th>\n",
              "      <td>Memasuki jam jam rawan... Seliweran mulu di ga...</td>\n",
              "      <td>0</td>\n",
              "    </tr>\n",
              "  </tbody>\n",
              "</table>\n",
              "</div>"
            ],
            "text/plain": [
              "                                                text  label\n",
              "0  abis minum kopi perasaan mesti gelisah gatau k...      0\n",
              "1          sumpah ya dari pagi rasanya gelisah terus      1\n",
              "2  Catia hari sabtu.Presntasi Statin hari sabtu.....      1\n",
              "3                                     tbtb gelisah 🤕      0\n",
              "4  Memasuki jam jam rawan... Seliweran mulu di ga...      0"
            ]
          },
          "metadata": {
            "tags": []
          },
          "execution_count": 5
        }
      ]
    },
    {
      "cell_type": "markdown",
      "metadata": {
        "id": "_BLtY_agLWCU"
      },
      "source": [
        "# Text Preprocessing"
      ],
      "id": "_BLtY_agLWCU"
    },
    {
      "cell_type": "code",
      "metadata": {
        "id": "54759361"
      },
      "source": [
        "import re\n",
        "\n",
        "def deEmojify(text):\n",
        "    regrex_pattern = re.compile(pattern = \"[\"\n",
        "        u\"\\U0001F600-\\U0001F64F\"  # emoticons\n",
        "        u\"\\U0001F300-\\U0001F5FF\"  # symbols & pictographs\n",
        "        u\"\\U0001F680-\\U0001F6FF\"  # transport & map symbols\n",
        "        u\"\\U0001F1E0-\\U0001F1FF\"\n",
        "        u\"\\U0001F700-\\U0001F77F\"  # alchemical symbols\n",
        "        u\"\\U0001F780-\\U0001F7FF\"  # Geometric Shapes Extended\n",
        "        u\"\\U0001F800-\\U0001F8FF\"  # Supplemental Arrows-C\n",
        "        u\"\\U0001F900-\\U0001F9FF\"  # Supplemental Symbols and Pictographs\n",
        "        u\"\\U0001FA00-\\U0001FA6F\"  # Chess Symbols\n",
        "        u\"\\U0001FA70-\\U0001FAFF\"  # Symbols and Pictographs Extended-A\n",
        "        u\"\\U00002702-\\U000027B0\"  # Dingbats\n",
        "        u\"\\U000024C2-\\U0001F251\"# flags (iOS)\n",
        "                           \"]+\", flags = re.UNICODE)\n",
        "    return regrex_pattern.sub(r'',text)"
      ],
      "id": "54759361",
      "execution_count": 6,
      "outputs": []
    },
    {
      "cell_type": "code",
      "metadata": {
        "id": "3abc1cd2"
      },
      "source": [
        "def process(text):\n",
        "  # remove links\n",
        "  text = re.sub(\"https://t.co/\\S*\",\"\",text) \n",
        "\n",
        "  # remove newline\n",
        "  text = re.sub(\"\\n\",\"\",text)\n",
        "\n",
        "  # remove digits\n",
        "  text = re.sub(\"[0-9]\",\"\",text)\n",
        "\n",
        "  # remove emojis\n",
        "  text = deEmojify(text)\n",
        "\n",
        "  return text"
      ],
      "id": "3abc1cd2",
      "execution_count": 7,
      "outputs": []
    },
    {
      "cell_type": "markdown",
      "metadata": {
        "id": "a7fffb75"
      },
      "source": [
        "## Cleaning Train"
      ],
      "id": "a7fffb75"
    },
    {
      "cell_type": "code",
      "metadata": {
        "colab": {
          "base_uri": "https://localhost:8080/"
        },
        "id": "wIlIK_g1L0u_",
        "outputId": "ed5bbe5b-e477-4c02-a8ff-7e87aad54f68"
      },
      "source": [
        "train_corpus = list(map(process, train['text']))    \n",
        "print(len(train_corpus))\n",
        "print(train_corpus[1])"
      ],
      "id": "wIlIK_g1L0u_",
      "execution_count": 8,
      "outputs": [
        {
          "output_type": "stream",
          "text": [
            "900\n",
            "sumpah ya dari pagi rasanya gelisah terus\n"
          ],
          "name": "stdout"
        }
      ]
    },
    {
      "cell_type": "markdown",
      "metadata": {
        "id": "5289cd5a"
      },
      "source": [
        "## Cleaning test"
      ],
      "id": "5289cd5a"
    },
    {
      "cell_type": "code",
      "metadata": {
        "id": "006b419e",
        "colab": {
          "base_uri": "https://localhost:8080/"
        },
        "outputId": "65457125-3af4-41b5-aa21-82182a54aa90"
      },
      "source": [
        "test_corpus = list(map(process, test['text']))    \n",
        "print(len(test_corpus))\n",
        "print(test_corpus[1])"
      ],
      "id": "006b419e",
      "execution_count": 9,
      "outputs": [
        {
          "output_type": "stream",
          "text": [
            "100\n",
            "Gelisah tanpa sebab. Terasa seperti punya keinginan melakukan sesuatu namun terhalang oleh sesuatu.\n"
          ],
          "name": "stdout"
        }
      ]
    },
    {
      "cell_type": "markdown",
      "metadata": {
        "id": "557d4081"
      },
      "source": [
        "# Bagi Test Set dan Train Set"
      ],
      "id": "557d4081"
    },
    {
      "cell_type": "code",
      "metadata": {
        "id": "16b8b8e6"
      },
      "source": [
        "X_train = train_corpus\n",
        "y_train = train['label'].tolist()\n",
        "\n",
        "X_test = test_corpus\n",
        "y_test = test['label'].tolist()"
      ],
      "id": "16b8b8e6",
      "execution_count": 10,
      "outputs": []
    },
    {
      "cell_type": "code",
      "metadata": {
        "id": "aae5f5b1",
        "colab": {
          "base_uri": "https://localhost:8080/"
        },
        "outputId": "a4a3493d-6fb6-41ae-cbb8-4111acd05808"
      },
      "source": [
        "print(len(X_train[0]))\n",
        "print(X_train[0])\n",
        "print(len(X_train))\n",
        "print(len(y_train))"
      ],
      "id": "aae5f5b1",
      "execution_count": 11,
      "outputs": [
        {
          "output_type": "stream",
          "text": [
            "137\n",
            "abis minum kopi perasaan mesti gelisah gatau knapa, tp tiap kali dibuat nonton vidio yg sedih sedih gampang bgt nangisnya, jd lebih lega \n",
            "900\n",
            "900\n"
          ],
          "name": "stdout"
        }
      ]
    },
    {
      "cell_type": "markdown",
      "metadata": {
        "id": "UmMkwgwxP0sb"
      },
      "source": [
        "# Building models"
      ],
      "id": "UmMkwgwxP0sb"
    },
    {
      "cell_type": "code",
      "metadata": {
        "id": "2D72P-QPb2O2"
      },
      "source": [
        "VOCAB_SIZE = 4000\n",
        "\n",
        "encoder = tf.keras.layers.experimental.preprocessing.TextVectorization(max_tokens=VOCAB_SIZE)\n",
        "encoder.adapt(X_train)"
      ],
      "id": "2D72P-QPb2O2",
      "execution_count": 12,
      "outputs": []
    },
    {
      "cell_type": "markdown",
      "metadata": {
        "id": "xhhsIwmhP5eE"
      },
      "source": [
        "## Model 1 (LSTM)"
      ],
      "id": "xhhsIwmhP5eE"
    },
    {
      "cell_type": "code",
      "metadata": {
        "id": "b7f4c4d9",
        "colab": {
          "base_uri": "https://localhost:8080/"
        },
        "outputId": "18fd5c24-4811-463b-c3e4-ec57596eee84"
      },
      "source": [
        "model_lstm = Sequential()\n",
        "model_lstm.add(encoder)\n",
        "model_lstm.add(Embedding(input_dim=len(encoder.get_vocabulary()), output_dim=64, mask_zero=True))\n",
        "model_lstm.add(LSTM(64))\n",
        "model_lstm.add(Dense(64, activation='relu'))\n",
        "model_lstm.add(Dense(1, activation='sigmoid'))\n",
        "model_lstm.compile(loss='binary_crossentropy', optimizer='adam', metrics=['accuracy', tf.keras.metrics.Recall()])\n",
        "\n",
        "history = model_lstm.fit(X_train, y_train, validation_data=(X_test, y_test), epochs=30, batch_size=64)"
      ],
      "id": "b7f4c4d9",
      "execution_count": 19,
      "outputs": [
        {
          "output_type": "stream",
          "text": [
            "Epoch 1/30\n",
            "15/15 [==============================] - 8s 167ms/step - loss: 0.6904 - accuracy: 0.5449 - recall: 0.0706 - val_loss: 0.6510 - val_accuracy: 0.6800 - val_recall: 0.0000e+00\n",
            "Epoch 2/30\n",
            "15/15 [==============================] - 1s 59ms/step - loss: 0.6557 - accuracy: 0.5943 - recall: 0.0000e+00 - val_loss: 0.5950 - val_accuracy: 0.6800 - val_recall: 0.0000e+00\n",
            "Epoch 3/30\n",
            "15/15 [==============================] - 1s 61ms/step - loss: 0.5982 - accuracy: 0.6657 - recall: 0.2331 - val_loss: 0.5438 - val_accuracy: 0.7800 - val_recall: 0.4062\n",
            "Epoch 4/30\n",
            "15/15 [==============================] - 1s 63ms/step - loss: 0.4405 - accuracy: 0.8529 - recall: 0.6901 - val_loss: 0.6177 - val_accuracy: 0.6800 - val_recall: 0.7500\n",
            "Epoch 5/30\n",
            "15/15 [==============================] - 1s 62ms/step - loss: 0.2650 - accuracy: 0.9216 - recall: 0.9265 - val_loss: 0.6649 - val_accuracy: 0.7500 - val_recall: 0.6562\n",
            "Epoch 6/30\n",
            "15/15 [==============================] - 1s 62ms/step - loss: 0.1746 - accuracy: 0.9515 - recall: 0.9173 - val_loss: 0.7741 - val_accuracy: 0.6700 - val_recall: 0.6875\n",
            "Epoch 7/30\n",
            "15/15 [==============================] - 1s 62ms/step - loss: 0.1707 - accuracy: 0.9384 - recall: 0.9562 - val_loss: 0.5252 - val_accuracy: 0.7700 - val_recall: 0.6250\n",
            "Epoch 8/30\n",
            "15/15 [==============================] - 1s 61ms/step - loss: 0.1110 - accuracy: 0.9623 - recall: 0.9384 - val_loss: 0.8455 - val_accuracy: 0.7000 - val_recall: 0.6875\n",
            "Epoch 9/30\n",
            "15/15 [==============================] - 1s 61ms/step - loss: 0.0982 - accuracy: 0.9612 - recall: 0.9397 - val_loss: 0.6502 - val_accuracy: 0.7000 - val_recall: 0.6562\n",
            "Epoch 10/30\n",
            "15/15 [==============================] - 1s 64ms/step - loss: 0.1042 - accuracy: 0.9614 - recall: 0.9367 - val_loss: 0.6559 - val_accuracy: 0.6800 - val_recall: 0.6562\n",
            "Epoch 11/30\n",
            "15/15 [==============================] - 1s 61ms/step - loss: 0.0893 - accuracy: 0.9567 - recall: 0.9570 - val_loss: 0.6683 - val_accuracy: 0.7700 - val_recall: 0.6250\n",
            "Epoch 12/30\n",
            "15/15 [==============================] - 1s 63ms/step - loss: 0.0842 - accuracy: 0.9708 - recall: 0.9356 - val_loss: 0.8045 - val_accuracy: 0.7500 - val_recall: 0.6875\n",
            "Epoch 13/30\n",
            "15/15 [==============================] - 1s 65ms/step - loss: 0.0769 - accuracy: 0.9613 - recall: 0.9477 - val_loss: 0.6132 - val_accuracy: 0.7900 - val_recall: 0.6250\n",
            "Epoch 14/30\n",
            "15/15 [==============================] - 1s 61ms/step - loss: 0.0654 - accuracy: 0.9743 - recall: 0.9448 - val_loss: 0.6601 - val_accuracy: 0.7600 - val_recall: 0.6250\n",
            "Epoch 15/30\n",
            "15/15 [==============================] - 1s 60ms/step - loss: 0.0767 - accuracy: 0.9646 - recall: 0.9268 - val_loss: 0.6798 - val_accuracy: 0.7500 - val_recall: 0.6250\n",
            "Epoch 16/30\n",
            "15/15 [==============================] - 1s 61ms/step - loss: 0.0715 - accuracy: 0.9690 - recall: 0.9262 - val_loss: 0.8139 - val_accuracy: 0.7300 - val_recall: 0.6562\n",
            "Epoch 17/30\n",
            "15/15 [==============================] - 1s 59ms/step - loss: 0.0737 - accuracy: 0.9717 - recall: 0.9450 - val_loss: 0.7006 - val_accuracy: 0.7300 - val_recall: 0.6562\n",
            "Epoch 18/30\n",
            "15/15 [==============================] - 1s 62ms/step - loss: 0.0657 - accuracy: 0.9728 - recall: 0.9335 - val_loss: 0.6809 - val_accuracy: 0.7600 - val_recall: 0.6250\n",
            "Epoch 19/30\n",
            "15/15 [==============================] - 1s 61ms/step - loss: 0.0558 - accuracy: 0.9784 - recall: 0.9461 - val_loss: 0.8135 - val_accuracy: 0.7300 - val_recall: 0.6562\n",
            "Epoch 20/30\n",
            "15/15 [==============================] - 1s 61ms/step - loss: 0.0586 - accuracy: 0.9787 - recall: 0.9516 - val_loss: 0.8026 - val_accuracy: 0.7300 - val_recall: 0.6250\n",
            "Epoch 21/30\n",
            "15/15 [==============================] - 1s 65ms/step - loss: 0.0594 - accuracy: 0.9740 - recall: 0.9426 - val_loss: 0.8185 - val_accuracy: 0.7200 - val_recall: 0.6562\n",
            "Epoch 22/30\n",
            "15/15 [==============================] - 1s 64ms/step - loss: 0.0828 - accuracy: 0.9625 - recall: 0.9488 - val_loss: 0.6834 - val_accuracy: 0.7600 - val_recall: 0.6250\n",
            "Epoch 23/30\n",
            "15/15 [==============================] - 1s 63ms/step - loss: 0.0614 - accuracy: 0.9750 - recall: 0.9447 - val_loss: 0.7217 - val_accuracy: 0.7700 - val_recall: 0.6250\n",
            "Epoch 24/30\n",
            "15/15 [==============================] - 1s 61ms/step - loss: 0.0658 - accuracy: 0.9733 - recall: 0.9408 - val_loss: 0.8400 - val_accuracy: 0.7200 - val_recall: 0.6250\n",
            "Epoch 25/30\n",
            "15/15 [==============================] - 1s 60ms/step - loss: 0.0611 - accuracy: 0.9663 - recall: 0.9376 - val_loss: 0.8622 - val_accuracy: 0.7600 - val_recall: 0.6250\n",
            "Epoch 26/30\n",
            "15/15 [==============================] - 1s 62ms/step - loss: 0.0563 - accuracy: 0.9786 - recall: 0.9493 - val_loss: 0.8127 - val_accuracy: 0.7600 - val_recall: 0.6250\n",
            "Epoch 27/30\n",
            "15/15 [==============================] - 1s 62ms/step - loss: 0.0548 - accuracy: 0.9780 - recall: 0.9505 - val_loss: 0.7651 - val_accuracy: 0.7500 - val_recall: 0.6250\n",
            "Epoch 28/30\n",
            "15/15 [==============================] - 1s 62ms/step - loss: 0.0561 - accuracy: 0.9748 - recall: 0.9415 - val_loss: 0.8503 - val_accuracy: 0.7400 - val_recall: 0.6250\n",
            "Epoch 29/30\n",
            "15/15 [==============================] - 1s 58ms/step - loss: 0.0556 - accuracy: 0.9698 - recall: 0.9351 - val_loss: 0.8636 - val_accuracy: 0.7600 - val_recall: 0.6250\n",
            "Epoch 30/30\n",
            "15/15 [==============================] - 1s 60ms/step - loss: 0.0645 - accuracy: 0.9693 - recall: 0.9300 - val_loss: 0.7918 - val_accuracy: 0.7600 - val_recall: 0.6250\n"
          ],
          "name": "stdout"
        }
      ]
    },
    {
      "cell_type": "code",
      "metadata": {
        "id": "02012d2a",
        "colab": {
          "base_uri": "https://localhost:8080/",
          "height": 809
        },
        "outputId": "4d69e1de-7aec-4d17-b67f-4571ac84b9ab"
      },
      "source": [
        "def plot_graphs(history, string):\n",
        "    plt.plot(history.history[string])\n",
        "    plt.plot(history.history['val_'+string])\n",
        "    plt.xlabel(\"Epochs\")\n",
        "    plt.ylabel(string)\n",
        "    plt.legend([string, 'val_'+string])\n",
        "    plt.show()\n",
        "\n",
        "plot_graphs(history, 'accuracy')\n",
        "plot_graphs(history, 'recall')\n",
        "plot_graphs(history, 'loss')"
      ],
      "id": "02012d2a",
      "execution_count": 21,
      "outputs": [
        {
          "output_type": "display_data",
          "data": {
            "image/png": "[encoded data removed]",
            "text/plain": [
              "<Figure size 432x288 with 1 Axes>"
            ]
          },
          "metadata": {
            "tags": [],
            "needs_background": "light"
          }
        },
        {
          "output_type": "display_data",
          "data": {
            "image/png": "[encoded data removed]",
            "text/plain": [
              "<Figure size 432x288 with 1 Axes>"
            ]
          },
          "metadata": {
            "tags": [],
            "needs_background": "light"
          }
        },
        {
          "output_type": "display_data",
          "data": {
            "image/png": "[encoded data removed]",
            "text/plain": [
              "<Figure size 432x288 with 1 Axes>"
            ]
          },
          "metadata": {
            "tags": [],
            "needs_background": "light"
          }
        }
      ]
    },
    {
      "cell_type": "code",
      "metadata": {
        "colab": {
          "base_uri": "https://localhost:8080/"
        },
        "id": "5BNUddmQzEHq",
        "outputId": "f963ab6f-8fda-4232-a4e4-6a42483c75ee"
      },
      "source": [
        "rand = pd.read_csv('datd_rand.csv')\n",
        "X_rand = list(map(process, rand['text']))\n",
        "y_rand = rand['label'].tolist()\n",
        "\n",
        "def evaluate_on_rand(y_predict):\n",
        "  tp = 0\n",
        "  tn = 0\n",
        "  fn = 0\n",
        "  fp = 0\n",
        "  for k, v in enumerate(y_predict):\n",
        "    predict = int(np.round(v))\n",
        "    actual = y_rand[k]\n",
        "\n",
        "    if actual and not predict:\n",
        "      fn += 1\n",
        "    \n",
        "    if actual and predict:\n",
        "      tp += 1\n",
        "\n",
        "    if not actual and predict:\n",
        "      fp += 1\n",
        "\n",
        "    if not actual and not predict:\n",
        "      tn += 1\n",
        "\n",
        "  print('accuracy:', (tp+tn)/len(y_predict))\n",
        "  print('precision:', tp/(tp+fp))\n",
        "  print('recall:', tp/(tp+fn))\n",
        "  print('f1:', (2*tp)/(2*tp + fp+ fn))\n",
        "\n",
        "evaluate_on_rand(model_lstm.predict(X_rand))"
      ],
      "id": "5BNUddmQzEHq",
      "execution_count": 24,
      "outputs": [
        {
          "output_type": "stream",
          "text": [
            "accuracy: 0.7844011142061281\n",
            "precision: 0.3206865401987353\n",
            "recall: 0.9416445623342176\n",
            "f1: 0.4784366576819407\n"
          ],
          "name": "stdout"
        }
      ]
    },
    {
      "cell_type": "markdown",
      "metadata": {
        "id": "de64f5b1"
      },
      "source": [
        "## Model 2 (Bidirectional)"
      ],
      "id": "de64f5b1"
    },
    {
      "cell_type": "code",
      "metadata": {
        "id": "a0a8119d",
        "colab": {
          "base_uri": "https://localhost:8080/"
        },
        "outputId": "c9dba13a-5b65-48f3-e0a7-14f5eb841e94"
      },
      "source": [
        "model_bilstm = tf.keras.Sequential([\n",
        "    encoder,\n",
        "    Embedding(input_dim=len(encoder.get_vocabulary()), output_dim=100, mask_zero=True),\n",
        "    tf.keras.layers.Bidirectional(tf.keras.layers.LSTM(64)),\n",
        "    tf.keras.layers.Dense(64, activation='relu'),\n",
        "    tf.keras.layers.Dense(1, activation='sigmoid')\n",
        "])\n",
        "\n",
        "model_bilstm.compile(loss='binary_crossentropy', optimizer='adam', metrics=['accuracy', tf.keras.metrics.Recall()])\n",
        "history = model_bilstm.fit(train['text'], train['label'], validation_data=(test['text'], test['label']), epochs=15, batch_size=64)"
      ],
      "id": "a0a8119d",
      "execution_count": 44,
      "outputs": [
        {
          "output_type": "stream",
          "text": [
            "Epoch 1/15\n",
            "15/15 [==============================] - 16s 298ms/step - loss: 0.6875 - accuracy: 0.5896 - recall_5: 0.1670 - val_loss: 0.6044 - val_accuracy: 0.6800 - val_recall_5: 0.0000e+00\n",
            "Epoch 2/15\n",
            "15/15 [==============================] - 2s 104ms/step - loss: 0.6380 - accuracy: 0.5943 - recall_5: 0.0102 - val_loss: 0.5411 - val_accuracy: 0.7800 - val_recall_5: 0.3438\n",
            "Epoch 3/15\n",
            "15/15 [==============================] - 2s 105ms/step - loss: 0.5143 - accuracy: 0.8150 - recall_5: 0.5899 - val_loss: 0.5128 - val_accuracy: 0.8100 - val_recall_5: 0.6562\n",
            "Epoch 4/15\n",
            "15/15 [==============================] - 2s 104ms/step - loss: 0.3020 - accuracy: 0.9110 - recall_5: 0.9364 - val_loss: 0.8138 - val_accuracy: 0.7500 - val_recall_5: 0.5938\n",
            "Epoch 5/15\n",
            "15/15 [==============================] - 2s 102ms/step - loss: 0.1743 - accuracy: 0.9507 - recall_5: 0.9483 - val_loss: 0.4803 - val_accuracy: 0.8100 - val_recall_5: 0.5625\n",
            "Epoch 6/15\n",
            "15/15 [==============================] - 2s 108ms/step - loss: 0.1484 - accuracy: 0.9488 - recall_5: 0.9176 - val_loss: 0.5567 - val_accuracy: 0.7700 - val_recall_5: 0.7500\n",
            "Epoch 7/15\n",
            "15/15 [==============================] - 2s 103ms/step - loss: 0.1067 - accuracy: 0.9545 - recall_5: 0.9292 - val_loss: 0.6451 - val_accuracy: 0.8000 - val_recall_5: 0.5625\n",
            "Epoch 8/15\n",
            "15/15 [==============================] - 2s 103ms/step - loss: 0.1161 - accuracy: 0.9550 - recall_5: 0.9079 - val_loss: 0.5377 - val_accuracy: 0.8000 - val_recall_5: 0.5938\n",
            "Epoch 9/15\n",
            "15/15 [==============================] - 2s 105ms/step - loss: 0.0820 - accuracy: 0.9668 - recall_5: 0.9269 - val_loss: 0.5934 - val_accuracy: 0.7700 - val_recall_5: 0.5938\n",
            "Epoch 10/15\n",
            "15/15 [==============================] - 2s 107ms/step - loss: 0.0792 - accuracy: 0.9694 - recall_5: 0.9452 - val_loss: 0.6218 - val_accuracy: 0.8100 - val_recall_5: 0.5938\n",
            "Epoch 11/15\n",
            "15/15 [==============================] - 2s 102ms/step - loss: 0.0598 - accuracy: 0.9769 - recall_5: 0.9522 - val_loss: 0.6300 - val_accuracy: 0.7700 - val_recall_5: 0.6250\n",
            "Epoch 12/15\n",
            "15/15 [==============================] - 2s 105ms/step - loss: 0.0799 - accuracy: 0.9632 - recall_5: 0.9540 - val_loss: 0.5508 - val_accuracy: 0.8100 - val_recall_5: 0.6562\n",
            "Epoch 13/15\n",
            "15/15 [==============================] - 2s 104ms/step - loss: 0.0809 - accuracy: 0.9676 - recall_5: 0.9386 - val_loss: 0.6086 - val_accuracy: 0.8000 - val_recall_5: 0.6250\n",
            "Epoch 14/15\n",
            "15/15 [==============================] - 2s 108ms/step - loss: 0.0680 - accuracy: 0.9744 - recall_5: 0.9381 - val_loss: 0.7675 - val_accuracy: 0.7700 - val_recall_5: 0.7188\n",
            "Epoch 15/15\n",
            "15/15 [==============================] - 2s 104ms/step - loss: 0.0668 - accuracy: 0.9715 - recall_5: 0.9476 - val_loss: 0.8333 - val_accuracy: 0.7700 - val_recall_5: 0.6562\n"
          ],
          "name": "stdout"
        }
      ]
    },
    {
      "cell_type": "code",
      "metadata": {
        "id": "4665737f",
        "colab": {
          "base_uri": "https://localhost:8080/",
          "height": 803
        },
        "outputId": "3d689b43-bbe6-471c-c3ba-48bb2c43bc42"
      },
      "source": [
        "plot_graphs(history, 'accuracy')\n",
        "plot_graphs(history, 'recall_5')\n",
        "plot_graphs(history, 'loss')"
      ],
      "id": "4665737f",
      "execution_count": 45,
      "outputs": [
        {
          "output_type": "display_data",
          "data": {
            "image/png": "[encoded data removed]",
            "text/plain": [
              "<Figure size 432x288 with 1 Axes>"
            ]
          },
          "metadata": {
            "tags": [],
            "needs_background": "light"
          }
        },
        {
          "output_type": "display_data",
          "data": {
            "image/png": "[encoded data removed]",
            "text/plain": [
              "<Figure size 432x288 with 1 Axes>"
            ]
          },
          "metadata": {
            "tags": [],
            "needs_background": "light"
          }
        },
        {
          "output_type": "display_data",
          "data": {
            "image/png": "[encoded data removed]",
            "text/plain": [
              "<Figure size 432x288 with 1 Axes>"
            ]
          },
          "metadata": {
            "tags": [],
            "needs_background": "light"
          }
        }
      ]
    },
    {
      "cell_type": "code",
      "metadata": {
        "colab": {
          "base_uri": "https://localhost:8080/"
        },
        "id": "cUQ9bBSnolDX",
        "outputId": "b5d54ed5-0187-44b3-c617-c8ea9ff94989"
      },
      "source": [
        "evaluate_on_rand(model_bilstm.predict(X_rand))"
      ],
      "id": "cUQ9bBSnolDX",
      "execution_count": 47,
      "outputs": [
        {
          "output_type": "stream",
          "text": [
            "accuracy: 0.8607242339832869\n",
            "precision: 0.4261704681872749\n",
            "recall: 0.9416445623342176\n",
            "f1: 0.5867768595041323\n"
          ],
          "name": "stdout"
        }
      ]
    },
    {
      "cell_type": "code",
      "metadata": {
        "colab": {
          "base_uri": "https://localhost:8080/"
        },
        "id": "-iRV56Iav4ih",
        "outputId": "60c49e27-a4d7-4e54-8519-8b3c6a5859c9"
      },
      "source": [
        "model_bilstm.predict([\"contoh teks tweet satu\",\n",
        "               \"contoh teks tweet dua\",\n",
        "               \"contoh teks tweet tiga\"])"
      ],
      "id": "-iRV56Iav4ih",
      "execution_count": 48,
      "outputs": [
        {
          "output_type": "execute_result",
          "data": {
            "text/plain": [
              "array([[0.03787252],\n",
              "       [0.00413013],\n",
              "       [0.00978747]], dtype=float32)"
            ]
          },
          "metadata": {
            "tags": []
          },
          "execution_count": 48
        }
      ]
    },
    {
      "cell_type": "markdown",
      "metadata": {
        "id": "F3brso5jx0vQ"
      },
      "source": [
        "# Results (DATD+Rand)\n",
        "\n",
        "Classifier | Accuracy | Precision | Recall | F1\n",
        "--- | --- | --- | --- | --- \n",
        "LSTM | 0.78 | 0.32 | 0.94 | 0.48 |\n",
        "BI-LSTM | 0.86 | 0.43 | 0.94 | 0.59 |"
      ],
      "id": "F3brso5jx0vQ"
    },
    {
      "cell_type": "code",
      "metadata": {
        "colab": {
          "base_uri": "https://localhost:8080/"
        },
        "id": "6hT_WR0IvYfH",
        "outputId": "f831c2d8-0a50-488c-dd17-66efd7547cce"
      },
      "source": [
        "model_bilstm.save('model')"
      ],
      "id": "6hT_WR0IvYfH",
      "execution_count": 29,
      "outputs": [
        {
          "output_type": "stream",
          "text": [
            "WARNING:absl:Found untraced functions such as lstm_cell_3_layer_call_fn, lstm_cell_3_layer_call_and_return_conditional_losses, lstm_cell_4_layer_call_fn, lstm_cell_4_layer_call_and_return_conditional_losses, lstm_cell_3_layer_call_fn while saving (showing 5 of 10). These functions will not be directly callable after loading.\n",
            "WARNING:absl:Found untraced functions such as lstm_cell_3_layer_call_fn, lstm_cell_3_layer_call_and_return_conditional_losses, lstm_cell_4_layer_call_fn, lstm_cell_4_layer_call_and_return_conditional_losses, lstm_cell_3_layer_call_fn while saving (showing 5 of 10). These functions will not be directly callable after loading.\n"
          ],
          "name": "stderr"
        },
        {
          "output_type": "stream",
          "text": [
            "INFO:tensorflow:Assets written to: model/assets\n"
          ],
          "name": "stdout"
        },
        {
          "output_type": "stream",
          "text": [
            "INFO:tensorflow:Assets written to: model/assets\n"
          ],
          "name": "stderr"
        }
      ]
    },
    {
      "cell_type": "code",
      "metadata": {
        "colab": {
          "base_uri": "https://localhost:8080/"
        },
        "id": "qCTkh0zawB9G",
        "outputId": "cc0fc1c3-25ab-47e3-ad8f-f084091fbcd3"
      },
      "source": [
        "!zip -r model.zip model"
      ],
      "id": "qCTkh0zawB9G",
      "execution_count": 30,
      "outputs": [
        {
          "output_type": "stream",
          "text": [
            "  adding: model/ (stored 0%)\n",
            "  adding: model/saved_model.pb (deflated 90%)\n",
            "  adding: model/variables/ (stored 0%)\n",
            "  adding: model/variables/variables.data-00000-of-00001 (deflated 8%)\n",
            "  adding: model/variables/variables.index (deflated 66%)\n",
            "  adding: model/assets/ (stored 0%)\n"
          ],
          "name": "stdout"
        }
      ]
    }
  ]
}