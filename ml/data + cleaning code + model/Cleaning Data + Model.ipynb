{
 "cells": [
  {
   "cell_type": "code",
   "execution_count": 3,
   "id": "0c5ff7ec",
   "metadata": {},
   "outputs": [],
   "source": [
    "from mpl_toolkits.mplot3d import Axes3D\n",
    "from sklearn.preprocessing import StandardScaler\n",
    "import matplotlib.pyplot as plt # plotting\n",
    "import numpy as np # linear algebra\n",
    "import os # accessing directory structure\n",
    "import pandas as pd # data processing, CSV file I/O (e.g. pd.read_csv)"
   ]
  },
  {
   "cell_type": "code",
   "execution_count": 4,
   "id": "ca291fda",
   "metadata": {},
   "outputs": [
    {
     "name": "stdout",
     "output_type": "stream",
     "text": [
      "There are 100 rows and 3 columns\n"
     ]
    }
   ],
   "source": [
    "nRowsRead = 1000 # specify 'None' if want to read whole file\n",
    "# twitter_label_auto.csv may have more rows in reality, but we are only loading/previewing the first 1000 rows\n",
    "test = pd.read_csv('datd_test.csv', delimiter=',', nrows = nRowsRead)\n",
    "nRow, nCol = test.shape\n",
    "print(f'There are {nRow} rows and {nCol} columns')"
   ]
  },
  {
   "cell_type": "code",
   "execution_count": 5,
   "id": "c95f159e",
   "metadata": {},
   "outputs": [
    {
     "data": {
      "text/html": [
       "<div>\n",
       "<style scoped>\n",
       "    .dataframe tbody tr th:only-of-type {\n",
       "        vertical-align: middle;\n",
       "    }\n",
       "\n",
       "    .dataframe tbody tr th {\n",
       "        vertical-align: top;\n",
       "    }\n",
       "\n",
       "    .dataframe thead th {\n",
       "        text-align: right;\n",
       "    }\n",
       "</style>\n",
       "<table border=\"1\" class=\"dataframe\">\n",
       "  <thead>\n",
       "    <tr style=\"text-align: right;\">\n",
       "      <th></th>\n",
       "      <th>id</th>\n",
       "      <th>text</th>\n",
       "      <th>label</th>\n",
       "    </tr>\n",
       "  </thead>\n",
       "  <tbody>\n",
       "    <tr>\n",
       "      <th>0</th>\n",
       "      <td>1389164701381128201</td>\n",
       "      <td>Aku merindukan tempatku yang tenang, tanpa ras...</td>\n",
       "      <td>1</td>\n",
       "    </tr>\n",
       "    <tr>\n",
       "      <th>1</th>\n",
       "      <td>1389164409935732737</td>\n",
       "      <td>Gelisah tanpa sebab. Terasa seperti punya kein...</td>\n",
       "      <td>1</td>\n",
       "    </tr>\n",
       "    <tr>\n",
       "      <th>2</th>\n",
       "      <td>1389164248991899650</td>\n",
       "      <td>Sekarang kita masih sama, suka bingung. Suka c...</td>\n",
       "      <td>0</td>\n",
       "    </tr>\n",
       "    <tr>\n",
       "      <th>3</th>\n",
       "      <td>1389163530260160512</td>\n",
       "      <td>aku mula lah gelisah bila dia outstation , kal...</td>\n",
       "      <td>0</td>\n",
       "    </tr>\n",
       "    <tr>\n",
       "      <th>4</th>\n",
       "      <td>1389163463134498817</td>\n",
       "      <td>Kasihan kamu, hidup dalam tekanan dan selalu d...</td>\n",
       "      <td>0</td>\n",
       "    </tr>\n",
       "  </tbody>\n",
       "</table>\n",
       "</div>"
      ],
      "text/plain": [
       "                    id                                               text  \\\n",
       "0  1389164701381128201  Aku merindukan tempatku yang tenang, tanpa ras...   \n",
       "1  1389164409935732737  Gelisah tanpa sebab. Terasa seperti punya kein...   \n",
       "2  1389164248991899650  Sekarang kita masih sama, suka bingung. Suka c...   \n",
       "3  1389163530260160512  aku mula lah gelisah bila dia outstation , kal...   \n",
       "4  1389163463134498817  Kasihan kamu, hidup dalam tekanan dan selalu d...   \n",
       "\n",
       "   label  \n",
       "0      1  \n",
       "1      1  \n",
       "2      0  \n",
       "3      0  \n",
       "4      0  "
      ]
     },
     "execution_count": 5,
     "metadata": {},
     "output_type": "execute_result"
    }
   ],
   "source": [
    "test.head(5)"
   ]
  },
  {
   "cell_type": "code",
   "execution_count": 6,
   "id": "e7736ad0",
   "metadata": {},
   "outputs": [
    {
     "name": "stdout",
     "output_type": "stream",
     "text": [
      "There are 900 rows and 2 columns\n"
     ]
    }
   ],
   "source": [
    "nRowsRead = 1000 # specify 'None' if want to read whole file\n",
    "# twitter_label_auto.csv may have more rows in reality, but we are only loading/previewing the first 1000 rows\n",
    "train = pd.read_csv('datd_train.csv', delimiter=',', nrows = nRowsRead)\n",
    "nRow, nCol = train.shape\n",
    "print(f'There are {nRow} rows and {nCol} columns')"
   ]
  },
  {
   "cell_type": "code",
   "execution_count": 7,
   "id": "f588c5bb",
   "metadata": {},
   "outputs": [
    {
     "data": {
      "text/html": [
       "<div>\n",
       "<style scoped>\n",
       "    .dataframe tbody tr th:only-of-type {\n",
       "        vertical-align: middle;\n",
       "    }\n",
       "\n",
       "    .dataframe tbody tr th {\n",
       "        vertical-align: top;\n",
       "    }\n",
       "\n",
       "    .dataframe thead th {\n",
       "        text-align: right;\n",
       "    }\n",
       "</style>\n",
       "<table border=\"1\" class=\"dataframe\">\n",
       "  <thead>\n",
       "    <tr style=\"text-align: right;\">\n",
       "      <th></th>\n",
       "      <th>text</th>\n",
       "      <th>label</th>\n",
       "    </tr>\n",
       "  </thead>\n",
       "  <tbody>\n",
       "    <tr>\n",
       "      <th>0</th>\n",
       "      <td>abis minum kopi perasaan mesti gelisah gatau k...</td>\n",
       "      <td>0</td>\n",
       "    </tr>\n",
       "    <tr>\n",
       "      <th>1</th>\n",
       "      <td>sumpah ya dari pagi rasanya gelisah terus</td>\n",
       "      <td>1</td>\n",
       "    </tr>\n",
       "    <tr>\n",
       "      <th>2</th>\n",
       "      <td>Catia hari sabtu.Presntasi Statin hari sabtu.....</td>\n",
       "      <td>1</td>\n",
       "    </tr>\n",
       "    <tr>\n",
       "      <th>3</th>\n",
       "      <td>tbtb gelisah 🤕</td>\n",
       "      <td>0</td>\n",
       "    </tr>\n",
       "    <tr>\n",
       "      <th>4</th>\n",
       "      <td>Memasuki jam jam rawan... Seliweran mulu di ga...</td>\n",
       "      <td>0</td>\n",
       "    </tr>\n",
       "  </tbody>\n",
       "</table>\n",
       "</div>"
      ],
      "text/plain": [
       "                                                text  label\n",
       "0  abis minum kopi perasaan mesti gelisah gatau k...      0\n",
       "1          sumpah ya dari pagi rasanya gelisah terus      1\n",
       "2  Catia hari sabtu.Presntasi Statin hari sabtu.....      1\n",
       "3                                     tbtb gelisah 🤕      0\n",
       "4  Memasuki jam jam rawan... Seliweran mulu di ga...      0"
      ]
     },
     "execution_count": 7,
     "metadata": {},
     "output_type": "execute_result"
    }
   ],
   "source": [
    "train.head(5)"
   ]
  },
  {
   "cell_type": "markdown",
   "id": "6000ca38",
   "metadata": {},
   "source": [
    "## Emoji Cleaning"
   ]
  },
  {
   "cell_type": "code",
   "execution_count": 8,
   "id": "54759361",
   "metadata": {},
   "outputs": [],
   "source": [
    "def deEmojify(text):\n",
    "    regrex_pattern = re.compile(pattern = \"[\"\n",
    "        u\"\\U0001F600-\\U0001F64F\"  # emoticons\n",
    "        u\"\\U0001F300-\\U0001F5FF\"  # symbols & pictographs\n",
    "        u\"\\U0001F680-\\U0001F6FF\"  # transport & map symbols\n",
    "        u\"\\U0001F1E0-\\U0001F1FF\"\n",
    "        u\"\\U0001F700-\\U0001F77F\"  # alchemical symbols\n",
    "        u\"\\U0001F780-\\U0001F7FF\"  # Geometric Shapes Extended\n",
    "        u\"\\U0001F800-\\U0001F8FF\"  # Supplemental Arrows-C\n",
    "        u\"\\U0001F900-\\U0001F9FF\"  # Supplemental Symbols and Pictographs\n",
    "        u\"\\U0001FA00-\\U0001FA6F\"  # Chess Symbols\n",
    "        u\"\\U0001FA70-\\U0001FAFF\"  # Symbols and Pictographs Extended-A\n",
    "        u\"\\U00002702-\\U000027B0\"  # Dingbats\n",
    "        u\"\\U000024C2-\\U0001F251\"# flags (iOS)\n",
    "                           \"]+\", flags = re.UNICODE)\n",
    "    return regrex_pattern.sub(r'',text)"
   ]
  },
  {
   "cell_type": "code",
   "execution_count": 9,
   "id": "dc41e9e4",
   "metadata": {},
   "outputs": [],
   "source": [
    "import tensorflow as tf\n",
    "from tensorflow.keras.preprocessing.sequence import pad_sequences\n",
    "from tensorflow.keras.layers import Embedding, Dense, Bidirectional\n",
    "from tensorflow.keras.preprocessing.text import Tokenizer\n",
    "import numpy as np"
   ]
  },
  {
   "cell_type": "markdown",
   "id": "5289cd5a",
   "metadata": {},
   "source": [
    "### Cleaning test"
   ]
  },
  {
   "cell_type": "code",
   "execution_count": 13,
   "id": "006b419e",
   "metadata": {},
   "outputs": [
    {
     "data": {
      "text/plain": [
       "100"
      ]
     },
     "execution_count": 13,
     "metadata": {},
     "output_type": "execute_result"
    }
   ],
   "source": [
    "vocab_size = 4000\n",
    "embedding_dim = 16\n",
    "trunc_type='post'\n",
    "padding_type='post'\n",
    "oov_tok = \"<OOV>\"\n",
    "\n",
    "import re\n",
    "tokenizer = Tokenizer(num_words=vocab_size, oov_token=oov_tok)\n",
    "test_corpus = []\n",
    "#http_pattern = \"^(https?://)?/i\"\n",
    "for i in test['text']:\n",
    "    data = i\n",
    "    data = re.sub(\"https://t.co/\\S*\",\"\",data)\n",
    "    data = re.sub(\"\\n\",\"\",data)\n",
    "    data = re.sub(\"[0-9]\",\"\",data)\n",
    "    data = deEmojify(data)\n",
    "    #data = data.replace(http_pattern, \"\")\n",
    "    test_corpus.append(data.lower())\n",
    "    \n",
    "len(test_corpus)"
   ]
  },
  {
   "cell_type": "code",
   "execution_count": 14,
   "id": "e1273d1a",
   "metadata": {},
   "outputs": [
    {
     "data": {
      "text/plain": [
       "'gelisah tanpa sebab. terasa seperti punya keinginan melakukan sesuatu namun terhalang oleh sesuatu.'"
      ]
     },
     "execution_count": 14,
     "metadata": {},
     "output_type": "execute_result"
    }
   ],
   "source": [
    "test_corpus[1]"
   ]
  },
  {
   "cell_type": "markdown",
   "id": "a7fffb75",
   "metadata": {},
   "source": [
    "### Cleaning + tokenizing Train"
   ]
  },
  {
   "cell_type": "code",
   "execution_count": 17,
   "id": "3abc1cd2",
   "metadata": {},
   "outputs": [
    {
     "data": {
      "text/plain": [
       "'sumpah ya dari pagi rasanya gelisah terus'"
      ]
     },
     "execution_count": 17,
     "metadata": {},
     "output_type": "execute_result"
    }
   ],
   "source": [
    "\n",
    "\n",
    "import re\n",
    "tokenizer = Tokenizer(num_words=vocab_size, oov_token=oov_tok)\n",
    "train_corpus = []\n",
    "#http_pattern = \"^(https?://)?/i\"\n",
    "for i in train['text']:\n",
    "    data = i\n",
    "    data = re.sub(\"https://t.co/\\S*\",\"\",data)\n",
    "    data = re.sub(\"\\n\",\"\",data)\n",
    "    data = re.sub(\"[0-9]\",\"\",data)\n",
    "    data = deEmojify(data)\n",
    "    #data = data.replace(http_pattern, \"\")\n",
    "    train_corpus.append(data.lower())\n",
    "    \n",
    "len(train_corpus)\n",
    "train_corpus[1]"
   ]
  },
  {
   "cell_type": "code",
   "execution_count": 18,
   "id": "e0ed3d70",
   "metadata": {},
   "outputs": [
    {
     "name": "stdout",
     "output_type": "stream",
     "text": [
      "{'<OOV>': 1, 'gelisah': 2, 'cemas': 3, 'yang': 4, 'dan': 5, 'aku': 6, 'di': 7, 'ada': 8, 'yg': 9, 'ga': 10, 'ini': 11, 'akan': 12, 'ya': 13, 'tidak': 14, 'hati': 15, 'itu': 16, 'apa': 17, 'orang': 18, 'rasa': 19, 'tapi': 20, 'tak': 21, 'aja': 22, 'gak': 23, 'kalo': 24, 'jadi': 25, 'gue': 26, 'lagi': 27, 'kita': 28, 'hari': 29, 'hal': 30, 'bisa': 31, 'kamu': 32, 'kenapa': 33, 'sendiri': 34, 'takut': 35, 'karena': 36, 'tenang': 37, 'bgt': 38, 'dengan': 39, 'untuk': 40, 'sama': 41, 'banget': 42, 'kau': 43, 'mau': 44, 'udah': 45, 'harap': 46, 'pada': 47, 'resah': 48, 'ke': 49, 'jangan': 50, 'sudah': 51, 'dari': 52, 'banyak': 53, 'allah': 54, 'tau': 55, 'diri': 56, 'tidur': 57, 'dia': 58, 'nya': 59, 'hanya': 60, 'menjadi': 61, 'rasanya': 62, 'buat': 63, 'pernah': 64, 'selalu': 65, 'juga': 66, 'bila': 67, 'terus': 68, 'harus': 69, 'semua': 70, 'sedih': 71, 'paling': 72, 'masa': 73, 'berlebihan': 74, 'sih': 75, 'tuhan': 76, 'bikin': 77, 'pasti': 78, 'lain': 79, 'dalam': 80, 'marah': 81, 'tiba': 82, 'pun': 83, 'tiap': 84, 'suka': 85, 'gini': 86, 'sekarang': 87, 'gw': 88, 'sampe': 89, 'masih': 90, 'jika': 91, 'membuat': 92, 'ketika': 93, 'tanpa': 94, 'merasa': 95, 'kalian': 96, 'dulu': 97, 'kalau': 98, 'adalah': 99, 'mulai': 100, 'terlalu': 101, 'dah': 102, 'udh': 103, 'hatiku': 104, 'biar': 105, 'hidup': 106, 'tuh': 107, 'khawatir': 108, 'atau': 109, 'satu': 110, 'lebih': 111, 'sebab': 112, 'sedang': 113, 'ni': 114, 'gua': 115, 'ku': 116, 'menunggu': 117, 'malam': 118, 'bukan': 119, 'jam': 120, 'ataupun': 121, 'berlalu': 122, 'ngerasa': 123, 'kepada': 124, 'saya': 125, 'baru': 126, 'baik': 127, 'depan': 128, 'itulah': 129, 'cinta': 130, 'sakit': 131, 'tp': 132, 'belum': 133, 'si': 134, 'kan': 135, 'dirimu': 136, 'kok': 137, 'menyesali': 138, 'dendam': 139, 'menaruh': 140, 'ketenangan': 141, 'gitu': 142, 'kek': 143, 'saat': 144, 'akhir': 145, 'jd': 146, 'beberapa': 147, 'pas': 148, 'waktu': 149, 'seperti': 150, 'perasaan': 151, 'sering': 152, 'jiwamu': 153, 'mendatang': 154, 'sejati': 155, 'gt': 156, 'galau': 157, 'datang': 158, 'gimana': 159, 'knp': 160, 'padahal': 161, 'sesuatu': 162, 'saja': 163, 'lg': 164, 'abis': 165, 'mikir': 166, 'kayak': 167, 'sm': 168, 'klo': 169, 'trs': 170, 'lama': 171, 'setiap': 172, 'pikiran': 173, 'sampai': 174, 'gundah': 175, 'sebelum': 176, 'semoga': 177, 'terbaik': 178, 'pagi': 179, 'iri': 180, 'makin': 181, 'nangis': 182, 'nanti': 183, 'bakal': 184, 'anak': 185, 'ikhlas': 186, 'pengen': 187, 'mungkin': 188, 'lah': 189, 'akhirnya': 190, 'tadi': 191, 'tu': 192, 'malah': 193, 'hatimu': 194, 'deg': 195, 'kali': 196, 'cuma': 197, 'membandingkan': 198, 'amp': 199, 'susah': 200, 'bagi': 201, 'masalah': 202, 'langsung': 203, 'bersyukur': 204, 'skrg': 205, 'org': 206, 'panik': 207, 'perlu': 208, 'cape': 209, 'anjir': 210, 'malem': 211, 'kapan': 212, 'doa': 213, 'jg': 214, 'setelah': 215, 'semakin': 216, 'dgn': 217, 'segala': 218, 'bener': 219, 'usah': 220, 'biasanya': 221, 'senang': 222, 'depresi': 223, 'kabar': 224, 'gk': 225, 'cm': 226, 'gabisa': 227, 'gatau': 228, 'sumpah': 229, 'mulu': 230, 'pulang': 231, 'berharap': 232, \"'\": 233, 'nak': 234, 'sedikit': 235, 'degan': 236, 'biasa': 237, 'ngga': 238, 'telah': 239, 'kadang': 240, 'bangun': 241, 'oleh': 242, 'atas': 243, 'skripsi': 244, 'karna': 245, 'tugas': 246, 'seharian': 247, 'mikirin': 248, 'bilang': 249, 'rumah': 250, 'kata': 251, 'doang': 252, 'sabar': 253, 'macam': 254, 'keluar': 255, 'cara': 256, 'bahagia': 257, 'mana': 258, 'bulan': 259, 'yaa': 260, 'deh': 261, 'terasa': 262, 'an': 263, 'lo': 264, 'memikirkan': 265, 'sela': 266, 'mesti': 267, 'ingin': 268, 'semangat': 269, 'mereka': 270, 'punya': 271, 'dpt': 272, 'liat': 273, 'emang': 274, 'siapa': 275, 'capek': 276, 'cemburu': 277, 'maaf': 278, 'percaya': 279, 'ternyata': 280, 'mah': 281, 'makan': 282, 'cukup': 283, 'ngapain': 284, 'jalan': 285, 'terjadi': 286, 'buka': 287, 'daripada': 288, 'mata': 289, 'manusia': 290, 'i': 291, 'aneh': 292, 'mampu': 293, 'berada': 294, 'mendadak': 295, 'pula': 296, 'lu': 297, 'laki': 298, 'minum': 299, 'keluarga': 300, 'anti': 301, 'ia': 302, 'harapan': 303, 'kembali': 304, 'enak': 305, 'jantung': 306, 'berasa': 307, 'mati': 308, 'sholat': 309, 'selesai': 310, 'tetapi': 311, 'tahu': 312, 'puasa': 313, 'baca': 314, 'pusing': 315, 'ibu': 316, 'kerja': 317, 'lebaran': 318, 'sangat': 319, 'boleh': 320, 'bahwa': 321, 'turun': 322, 'lalu': 323, 'skenario': 324, 'salah': 325, 'sebagian': 326, 'temen': 327, 'kepikiran': 328, 'untukmu': 329, 'jelas': 330, 'soalnya': 331, 'nyaman': 332, 'mudah': 333, 'gara': 334, 'siang': 335, 'begitu': 336, 'tahun': 337, 'males': 338, 'ngerasain': 339, 'yo': 340, 'menangis': 341, 'agak': 342, 'aduh': 343, 'lupa': 344, 'gmn': 345, 'nggak': 346, 'anda': 347, 'damai': 348, '•': 349, 'al': 350, 'kecewa': 351, 'apapun': 352, 'besok': 353, 'soal': 354, 'muncul': 355, 'parah': 356, 'ketemu': 357, 'kehidupan': 358, 'naik': 359, 'dr': 360, 'muka': 361, 'coba': 362, 'sebenarnya': 363, 'asam': 364, 'insomnia': 365, 'penuh': 366, 'dapat': 367, 'bersedih': 368, 'main': 369, 'sana': 370, 'mual': 371, 'ceritamu': 372, 'penulis': 373, 'ketakutan': 374, 'balik': 375, 'jadilah': 376, 'berikan': 377, 'milikmu': 378, 'tempat': 379, 'jiwa': 380, 'membuatmu': 381, 'bawaannya': 382, 'tinggi': 383, 'kini': 384, 'chat': 385, 'tbtb': 386, 'selama': 387, 'ko': 388, 'kangen': 389, 'jawab': 390, 'merana': 391, 'thr': 392, 'inget': 393, 'bagus': 394, 'seorang': 395, 'nampak': 396, 'wajah': 397, 'cewek': 398, 'jujur': 399, 'walaupun': 400, 'ramadhan': 401, 'like': 402, 'sadar': 403, 'g': 404, 'emg': 405, 'stres': 406, 'arah': 407, 'dunia': 408, 'je': 409, 'kepala': 410, 'secara': 411, 'was': 412, 'durian': 413, 'mengandung': 414, 'amino': 415, 'triptofan': 416, 'berguna': 417, 'mengurangi': 418, 'mengobati': 419, 'kurang': 420, 'krn': 421, 'berbunga': 422, 'bergejolak': 423, 'sehati': 424, 'tangan': 425, 'a': 426, 'bingung': 427, 'nih': 428, 'mu': 429, 'agar': 430, 'ditulis': 431, 'nyanyi': 432, 'kebiasaan': 433, 'teman': 434, 'ganggu': 435, 'uda': 436, 'berbahaya': 437, 'habis': 438, 'stress': 439, 'tetep': 440, 'luar': 441, 'engkau': 442, 'overthinking': 443, 'pd': 444, 'sepi': 445, 'keputusan': 446, 'kaya': 447, 'kemarin': 448, '”': 449, 'maka': 450, 'takutnya': 451, 'suara': 452, 'sang': 453, 'jgn': 454, 'gampang': 455, 'sayang': 456, 'mbak': 457, 'tinggal': 458, 'entah': 459, 'sekali': 460, 'wanita': 461, 'emosi': 462, 'badan': 463, 'otak': 464, 'positif': 465, 'hampir': 466, 'bersalah': 467, 'minta': 468, 'gausah': 469, 'loh': 470, 'nunggu': 471, 'pede': 472, 'mo': 473, 'masuk': 474, 'tolong': 475, 'bersama': 476, 'begini': 477, 'tdk': 478, 'wkwkwk': 479, 'hp': 480, 'butuh': 481, 'to': 482, 'hujan': 483, 'melihat': 484, 'ikut': 485, 'kehilangan': 486, 'keadaan': 487, 'nungguin': 488, 'hilang': 489, 'beneran': 490, 'sini': 491, 'ngerti': 492, 'percayalah': 493, 'cerita': 494, 'sibuk': 495, 'dimana': 496, 'suatu': 497, 'walau': 498, 'mulut': 499, 'dipenuhi': 500, 'keputusasaan': 501, 'ingatlah': 502, 'mengadu': 503, 'jodoh': 504, 'tentang': 505, 'w': 506, 'selamat': 507, 'berbagai': 508, 'rezeki': 509, 'menghadapi': 510, 'dini': 511, 'reda': 512, 'menuju': 513, 'koe': 514, 'ak': 515, 'apaan': 516, 'semuanya': 517, 'tpi': 518, 'nda': 519, 'buru': 520, 'no': 521, 'baju': 522, 'kopi': 523, 'haha': 524, 'seseorang': 525, 'rindu': 526, 'jadinya': 527, 'akun': 528, 'pon': 529, 'la': 530, 'tengah': 531, 'astagfirullah': 532, 'beda': 533, 'mending': 534, 'cuman': 535, 'anaknya': 536, 'ngelakuin': 537, 'serta': 538, 'yaallah': 539, 'wa': 540, 'nyesek': 541, 'cowoknya': 542, 'blm': 543, 'siap': 544, 'dekat': 545, 'raya': 546, 'tetap': 547, 'x': 548, 'katanya': 549, 'au': 550, 'alasan': 551, 'campur': 552, 'why': 553, 'memiliki': 554, 'gasuka': 555, 'seharusnya': 556, 'daun': 557, 'jatuh': 558, 'melakukan': 559, 'kyk': 560, 'supaya': 561, 'mood': 562, 'menganggu': 563, 'sebenernya': 564, 'mama': 565, 'meninggal': 566, 'dg': 567, 'belom': 568, 'namanya': 569, 'kepadamu': 570, 'paket': 571, 'dateng': 572, 'diberi': 573, 'mendapat': 574, 'pujian': 575, 'gila': 576, 'menghantui': 577, 'nk': 578, 'dll': 579, 'tiada': 580, 'hormon': 581, 'terhadap': 582, 'namun': 583, 'besar': 584, 'sebabnya': 585, 'yakin': 586, 'sidang': 587, 'ngerjain': 588, 'jomblo': 589, 'sanggup': 590, 'bagaimana': 591, 'seneng': 592, 'dri': 593, 'stop': 594, 'ngomong': 595, 'tl': 596, 'pergi': 597, 'rasain': 598, 'even': 599, 'sejahtera': 600, 'fase': 601, 'apakah': 602, 'solat': 603, 'kantor': 604, 'situasi': 605, 'sehari': 606, 'aing': 607, 'setidaknya': 608, 'air': 609, 'berubah': 610, 'rindunya': 611, 'mencari': 612, 'o': 613, 'uang': 614, 'y': 615, 'cari': 616, 'para': 617, 'oke': 618, 'guys': 619, 'stalking': 620, 'gangguan': 621, 'mental': 622, 'denger': 623, 'kmrn': 624, 'roma': 625, 'gegana': 626, 'notif': 627, 'wisuda': 628, 'lihat': 629, 'gelas': 630, 'sendirian': 631, 'benar': 632, 'lakukan': 633, 'pakai': 634, 'bin': 635, 'dewasa': 636, 'cont': 637, 'dirumah': 638, 'askrl': 639, 'nonton': 640, 'lega': 641, 'bsa': 642, 'sndiri': 643, 'bunda': 644, 'pake': 645, 'huhu': 646, 'yah': 647, 'sementara': 648, 'gasi': 649, 'kami': 650, 'kecuali': 651, 'umur': 652, 'bentar': 653, 'enggak': 654, 'karuan': 655, 'utang': 656, 'dompet': 657, 'bahkan': 658, 'bertanya': 659, 'tkut': 660, 'harini': 661, 'elsa': 662, 'yh': 663, 'serasa': 664, 'lakuin': 665, 'minggat': 666, 'nanya': 667, 'kacau': 668, 'lekas': 669, 'karenanya': 670, 'kekasih': 671, 'happy': 672, 'takda': 673, 'problem': 674, 'senyuman': 675, 'lempar': 676, 'berjuta': 677, 'pendam': 678, 'nian': 679, 'pen': 680, 'ngeliat': 681, 'terkadang': 682, 'ben': 683, 'wong': 684, 'koyo': 685, 'ngene': 686, 'terbiasa': 687, 'swab': 688, 'hasilnya': 689, 'hasil': 690, 'thn': 691, 'korang': 692, 'please': 693, 'd': 694, 'krna': 695, 'kebahagiaan': 696, 'eh': 697, 'aduk': 698, 'bgtu': 699, 'ngeh': 700, 'berarti': 701, 'hm': 702, 'awal': 703, 'do': 704, 'know': 705, 'the': 706, 'case': 707, 'plus': 708, 'saling': 709, 'perihal': 710, 'takdir': 711, 'selembar': 712, 'atur': 713, 'kejadian': 714, 'tulus': 715, 'online': 716, 'iya': 717, 'acak': 718, 'covid': 719, 'so': 720, 'darimu': 721, 'tersebut': 722, 'km': 723, 'byk': 724, 'lgsg': 725, 'engga': 726, 'sdh': 727, 'keuangan': 728, 'lt': 729, 'berjuang': 730, 'bapak': 731, 'kah': 732, 'whatsapp': 733, 'alias': 734, 'sebuah': 735, 'menjelang': 736, 'drama': 737, 'tar': 738, 'dikit': 739, 'nothing': 740, 'n': 741, 'tk': 742, 'sgt': 743, 'mendengarkan': 744, 'gundamu': 745, 'rek': 746, 'kene': 747, 'sing': 748, 'trauma': 749, 'pabrik': 750, 'grgr': 751, 'presentasi': 752, 'aman': 753, 'mundur': 754, 'guru': 755, 'menyelesaikan': 756, 'janganlah': 757, 'have': 758, 'memang': 759, 'sial': 760, 'pms': 761, 'lebay': 762, 'adukan': 763, 'rabb': 764, 'bacalah': 765, \"qur'an\": 766, 'sejuk': 767, 'kurangi': 768, 'menyinyir': 769, 'bowochallenge': 770, 'iwartabowochallenge': 771, 'ngilang': 772, 'tubuh': 773, 'muda': 774, 'super': 775, 'sukses': 776, 'menyadarinya': 777, 'intinya': 778, 'ttp': 779, 'maksimal': 780, 'menit': 781, 'berlebih': 782, 'maut': 783, 'ricky': 784, 'kagak': 785, 'angkat': 786, 'nikung': 787, 'gebetan': 788, 'diajak': 789, 'malming': 790, 'bentuk': 791, 'parnonya': 792, 'lanjut': 793, 'berlanjutan': 794, 'aj': 795, 'hatinya': 796, 'pertama': 797, 'se': 798, 'acara': 799, 'buruk': 800, 'hadapi': 801, 'lepas': 802, 'nafas': 803, 'terakhir': 804, 'belakangan': 805, 'urusan': 806, 'be': 807, 'posisi': 808, 'conan': 809, 'edogawa': 810, 'masjid': 811, 'smua': 812, 'anj': 813, 'degdegan': 814, 'adem': 815, 'panas': 816, 'risau': 817, 'k': 818, 'kuberikan': 819, 'istri': 820, 'logika': 821, 'abu': 822, 'sabaran': 823, 'maha': 824, 'panjang': 825, 'nnt': 826, 'gada': 827, 'tegas': 828, 'membayangkan': 829, 'penyiksaannya': 830, 'mengiringi': 831, 'putus': 832, 'asa': 833, 'hingga': 834, 'cintaku': 835, 'inikah': 836, 'wajahmu': 837, 'berteman': 838, 'harinya': 839, 'dada': 840, 'td': 841, 'b': 842, 'lagu': 843, 'sebelah': 844, 'nyenyak': 845, 'kelas': 846, 'u': 847, 'bayar': 848, 'istirahat': 849, 'obat': 850, 'lelah': 851, '’': 852, 'nyokap': 853, 'adanya': 854, 'm': 855, 'loe': 856, 'bagai': 857, 'lambat': 858, 'kucing': 859, 'reply': 860, 'kondisi': 861, 'beribadah': 862, 'senin': 863, 'wkwk': 864, 'slalu': 865, 'smpe': 866, 'jahat': 867, 'gitar': 868, 'ayah': 869, 'ora': 870, 'ngurus': 871, 'meski': 872, 'tips': 873, 'buanglah': 874, 'berat': 875, 'dokter': 876, 'dingin': 877, 'ih': 878, 'jari': 879, 'help': 880, 'mandi': 881, 'gegara': 882, 'seketika': 883, 'gejala': 884, 'micin': 885, 'penyakit': 886, 'ilang': 887, 'yok': 888, 'suasana': 889, 'awalnya': 890, 'apalagi': 891, 'fokus': 892, 'duka': 893, 'sulit': 894, 'mendengar': 895, 'ikatan': 896, 'minyak': 897, 'sambil': 898, 'perut': 899, 'ali': 900, 'abi': 901, 'thalib': 902, 'serum': 903, 'gel': 904, 'penuaan': 905, 'glowing': 906, 'everyday': 907, 'mercury': 908, 'berizin': 909, 'bpom': 910, 'garagaramaresha': 911, 'alisyahidmihrab': 912, 'ful': 913, 'kl': 914, 'memberikan': 915, 'disaat': 916, 'kebanyakan': 917, 'menghilang': 918, 'mbok': 919, 'justru': 920, 'knapa': 921, 'dibuat': 922, 'catia': 923, 'sabtu': 924, 'on': 925, 'laprak': 926, 'po': 927, 'mode': 928, 'memasuki': 929, 'rawan': 930, 'blg': 931, 'sengaja': 932, 'untung': 933, 'sdah': 934, 'mreka': 935, 'gpp': 936, 'diterima': 937, 'dilepas': 938, 'bebas': 939, 'perginya': 940, 'cepat': 941, 'liatin': 942, 'kabur': 943, 'dilanda': 944, 'pembagian': 945, 'nambah': 946, 'my': 947, 'time': 948, 'is': 949, 'melanda': 950, 'berdetak': 951, 'alhamdulillah': 952, 'tandanya': 953, 'bertepi': 954, 'trus': 955, 'dipaksa': 956, 'terpaksa': 957, 'live': 958, 'njir': 959, 'misalnya': 960, 'moots': 961, 'jbjb': 962, 'nama': 963, 'ujan': 964, 'menemukan': 965, 'ijazah': 966, 'bagian': 967, 'menurut': 968, 'singkat': 969, 'sabarnya': 970, 'mencintainya': 971, 'raja': 972, 'tentram': 973, 'mengatasi': 974, 'melulu': 975, 'wudhu': 976, 'gelap': 977, 'sempit': 978, 'quran': 979, 'tepat': 980, 'abng': 981, 'ati': 982, 'dlu': 983, 'dipendem': 984, 'peka': 985, 'dong': 986, 'sekian': 987, 'berfikir': 988, 'blom': 989, 'dijual': 990, 'sepertinya': 991, 'masi': 992, 'grup': 993, 'sekeluarga': 994, 'pcr': 995, 'aq': 996, 'senyumku': 997, 'hilangkan': 998, 'sekuat': 999, 'pala': 1000, 'botak': 1001, 'dipublish': 1002, 'bnyk': 1003, 'hoseok': 1004, 'pup': 1005, 'alasannya': 1006, 'terimakasih': 1007, 'pulak': 1008, 'bukber': 1009, 'doi': 1010, 'tmn': 1011, 'bukannya': 1012, 'gapernah': 1013, 'lgi': 1014, 'bye': 1015, 'jisung': 1016, 'kang': 1017, 'yaaa': 1018, 'sahabat': 1019, 'belakang': 1020, 'benci': 1021, 'melindungi': 1022, 'tipe': 1023, 'ganti': 1024, 'pdhl': 1025, 'masalahnya': 1026, 'sok': 1027, 'tolol': 1028, 'angin': 1029, 'mengajarkan': 1030, 'berisi': 1031, 'memasing': 1032, 'mamah': 1033, 'dikerjain': 1034, 'kerjain': 1035, 'adik': 1036, 'sore': 1037, 'beliau': 1038, 'bepergian': 1039, 'isinya': 1040, 'nurani': 1041, 'esok': 1042, 'butuhkan': 1043, 'berkompromi': 1044, 'selain': 1045, 'shopee': 1046, 'pemikiran': 1047, 'jenazah': 1048, 'kelam': 1049, 'demi': 1050, 'kian': 1051, 'terutama': 1052, 'lewat': 1053, 'dapet': 1054, 'persatu': 1055, 'rata': 1056, 'dibawah': 1057, 'sehat': 1058, 'ma': 1059, 'usaha': 1060, 'lulus': 1061, 'meleyot': 1062, 'dichat': 1063, 'keinginan': 1064, 'lantas': 1065, 'kyknya': 1066, 'gamau': 1067, 'duh': 1068, 'pemasukan': 1069, 'kaki': 1070, 'basah': 1071, 'nyangkut': 1072, 'astaga': 1073, 'suami': 1074, 'idk': 1075, 'merah': 1076, 'btc': 1077, 'at': 1078, 'this': 1079, 'me': 1080, 'terfikir': 1081, 'kuasa': 1082, 'ye': 1083, 'kira': 1084, 'sejak': 1085, 'asyik': 1086, 'ndk': 1087, 'kerjo': 1088, 'soale': 1089, 'mboh': 1090, 'lapo': 1091, 'iku': 1092, 'pengalaman': 1093, 'menghitung': 1094, 'meskipun': 1095, 'telat': 1096, 'kejutan': 1097, 'dibenci': 1098, 'menyayangimu': 1099, 'yohanes': 1100, 'checkout': 1101, 'suaranya': 1102, 'deras': 1103, 'keknya': 1104, 'shani': 1105, 'dlm': 1106, 'doge': 1107, 'tb': 1108, 'dengerin': 1109, 'curhat': 1110, 'kebayang': 1111, \"i'm\": 1112, 'disuruh': 1113, 'ikutan': 1114, 'haduh': 1115, 'gajelas': 1116, 'menjemput': 1117, 't': 1118, 'dihantui': 1119, 'kedua': 1120, 'ikatancinta': 1121, 'ig': 1122, 'nomer': 1123, 'pls': 1124, 'kekuatan': 1125, 'jadwal': 1126, 'hutang': 1127, 'segera': 1128, 'lupakan': 1129, 'mari': 1130, 'tanya': 1131, 'boss': 1132, 'what': 1133, 'ngebut': 1134, 'sejam': 1135, 'menderita': 1136, 'gerd': 1137, 'kambuh': 1138, 'parian': 1139, 'pirus': 1140, 'palembanghebohquotes': 1141, 'belajar': 1142, 'tanggal': 1143, 'nomor': 1144, 'sensitif': 1145, 'hey': 1146, 'beban': 1147, 'siksa': 1148, 'santai': 1149, 'ampuni': 1150, 'tentu': 1151, 'diberikan': 1152, 'melebihi': 1153, 'there': 1154, 'tahap': 1155, 'gtu': 1156, 'gemas': 1157, 'surat': 1158, 'pengumuman': 1159, 'just': 1160, 'ever': 1161, 'disini': 1162, 'kasian': 1163, 'kdg': 1164, 'ketawa': 1165, 'msh': 1166, 'ngeluh': 1167, 'pokoknya': 1168, 'sesungguhnya': 1169, 'piket': 1170, 'dont': 1171, 'myself': 1172, 'seminggu': 1173, 'ruang': 1174, 'kutinggalkan': 1175, 'bagimu': 1176, 'gentar': 1177, 'penyebabnya': 1178, 'kunjung': 1179, 'call': 1180, 'tua': 1181, 'menanti': 1182, 'panic': 1183, 'attack': 1184, 'detik': 1185, 'duniawi': 1186, \"don't\": 1187, 'asu': 1188, 'sedangkan': 1189, 'indah': 1190, '–': 1191, 'album': 1192, 'duduk': 1193, 'kursi': 1194, 'kekhawatiran': 1195, 'kejelasan': 1196, 'teruntuk': 1197, 'semalaman': 1198, 'tida': 1199, 'tiba²': 1200, 'kecoa': 1201, 'deket': 1202, 'bareng': 1203, 'tertukar': 1204, 'berlaku': 1205, 'hmm': 1206, 'abad': 1207, 'ambil': 1208, 'cuek': 1209, 'e': 1210, 'lainnya': 1211, 'bngt': 1212, 'heran': 1213, 'ntar': 1214, 'h': 1215, 'sempro': 1216, 'mencoba': 1217, 'terhadapmu': 1218, 'dialog': 1219, 'diriku': 1220, 'tertidur': 1221, 'mengerti': 1222, 'semingguan': 1223, 'mengirim': 1224, 'titik': 1225, 'puncak': 1226, 'terbuka': 1227, 'kasus': 1228, 'bawa': 1229, 'dekatmu': 1230, 'jauh': 1231, 'biarkan': 1232, 'secukupnya': 1233, 'pasangan': 1234, 'resiko': 1235, 'menghina': 1236, 'muslim': 1237, 'c': 1238, 'berjalan': 1239, 'disela': 1240, 'diem': 1241, 'bet': 1242, 'gambar': 1243, 'kesel': 1244, 'rabu': 1245, 'mengoceh': 1246, 'harusnya': 1247, 'ujung': 1248, 'hospital': 1249, 'rm': 1250, 'kosong': 1251, 'bang': 1252, 'banding': 1253, 'ki': 1254, 'pantes': 1255, 'drtd': 1256, 'lumayan': 1257, 'menentu': 1258, 'ujian': 1259, 'lewati': 1260, 'sekolah': 1261, 'kudu': 1262, 'ujungnya': 1263, 'ijo': 1264, 'wes': 1265, 'kecik': 1266, 'flu': 1267, 'efek': 1268, 'ono': 1269, 'ra': 1270, 'wae': 1271, 'mimpi': 1272, 'terbangun': 1273, 'dimarahin': 1274, 'ibadah': 1275, 'tampak': 1276, 'kelewat': 1277, 'sungguh': 1278, 'bersinar': 1279, 'terang': 1280, 'okay': 1281, 'kontrol': 1282, 'army': 1283, 'ortu': 1284, 'bawaanya': 1285, 'ngik': 1286, 'merasakan': 1287, 'utk': 1288, 'nyatanya': 1289, 'bertahan': 1290, 'berantem': 1291, 'saudara': 1292, 'fabio': 1293, 'maju': 1294, 'adit': 1295, 'tadarusan': 1296, 'surau': 1297, 'diam': 1298, 'demam': 1299, 'mencintaimu': 1300, 'berkali': 1301, 'pendek': 1302, 'dibalik': 1303, 'caranya': 1304, 'betul': 1305, 'seller': 1306, 'berdoa': 1307, 'kemudian': 1308, 'krisis': 1309, 'berusaha': 1310, 'sarri': 1311, 'musim': 1312, 'tdr': 1313, 'gaenak': 1314, 'selasa': 1315, 'deadlinenya': 1316, 'tulis': 1317, 'bot': 1318, 'rt': 1319, 'dteng': 1320, 'kaga': 1321, 'mk': 1322, 'kelar': 1323, 'kenal': 1324, 'bilangin': 1325, 'gakpapa': 1326, 'its': 1327, 'max': 1328, 'dadakan': 1329, 'hahaha': 1330, 'kayanya': 1331, 'berkepanjangan': 1332, 'gagal': 1333, 'klrgo': 1334, 'ktek': 1335, 'nyombongi': 1336, 'kuliah': 1337, 'msih': 1338, 'dinamakan': 1339, 'bangkit': 1340, 'bahas': 1341, 'maap': 1342, 'padaku': 1343, 'napas': 1344, 'dinding': 1345, 'berlari': 1346, 'pkp': 1347, 'mcam': 1348, 'kecil': 1349, 'level': 1350, 'misuh': 1351, 'disitu': 1352, 'dicuekin': 1353, 'voting': 1354, 'best': 1355, 'ragu': 1356, 'dua': 1357, 'kawan': 1358, 'border': 1359, 'astaghfirullah': 1360, 'laper': 1361, 'bismillah': 1362, 'suruh': 1363, 'setengah': 1364, 'galaumu': 1365, 'nyari': 1366, 'kepo': 1367, 'pgn': 1368, 'hai': 1369, 'google': 1370, 'psikolog': 1371, 'virus': 1372, 'ular': 1373, 'ah': 1374, 'asmara': 1375, 'liku': 1376, 'watak': 1377, 'segini': 1378, 'ngantuk': 1379, 'mei': 1380, 'luka': 1381, 'ngontrol': 1382, 'melalui': 1383, 'ucapan': 1384, 'normal': 1385, 'curiga': 1386, 'menjalani': 1387, 'rambut': 1388, 'hahahaha': 1389, 'mengapa': 1390, 'ngilanginnya': 1391, 'kesulitan': 1392, 'bintang': 1393, 'fix': 1394, 'semalem': 1395, 'konseling': 1396, 'diinginkan': 1397, 'sesuai': 1398, 'ngapa': 1399, 'tatap': 1400, 'check': 1401, 'masuklah': 1402, 'dalamnya': 1403, 'menghadapinya': 1404, 'takuti': 1405, 'selagi': 1406, 'app': 1407, 'cepet': 1408, 'umum': 1409, 'ayo': 1410, 'berani': 1411, 'sembunyi': 1412, 'utangbenamkanjokowi': 1413, 'jaga': 1414, 'diatas': 1415, 'menjadikan': 1416, 'nugas': 1417, 'meminta': 1418, 'tanyarl': 1419, 'kuat': 1420, 'dipikirin': 1421, 'tanda': 1422, 'bergandengan': 1423, 'seiring': 1424, 'mengujiku': 1425, 'berdebar': 1426, 'duk': 1427, 'lho': 1428, 'laluku': 1429, 'nek': 1430, 'mulih': 1431, 'ridho': 1432, 'dream': 1433, 'box': 1434, 'bakalan': 1435, 'antara': 1436, 'kaka': 1437, 'dzikir': 1438, 'ngaji': 1439, 'bab': 1440, 'full': 1441, 'praktikum': 1442, 'offline': 1443, 'melupakanku': 1444, 'melupakanmu': 1445, 'nganter': 1446, 'cs': 1447, 'item': 1448, 'anjrit': 1449, 'paham': 1450, 'ngelive': 1451, 'misah': 1452, 'satunya': 1453, 'bs': 1454, 'miko': 1455, 'asli': 1456, 'hidayah': 1457, 'room': 1458, 'rejeki': 1459, 'site': 1460, 'setahun': 1461, 'vidio': 1462, 'nangisnya': 1463, 'presntasi': 1464, 'statin': 1465, 'going': 1466, 'pske': 1467, 'sekarsng': 1468, 'clear': 1469, 'latihan': 1470, 'produk': 1471, 'hahahah': 1472, 'mantab': 1473, 'nyantuy': 1474, 'dahal': 1475, 'did': 1476, 'dalem': 1477, 'seliweran': 1478, 'tonton': 1479, 'ditonton': 1480, 'sepele': 1481, 'wajar': 1482, 'berobat': 1483, 'obati': 1484, 'menabrak': 1485, 'culik': 1486, 'ha': 1487, 'nyulik': 1488, 'kn': 1489, 'bersuami': 1490, 'nyarikin': 1491, 'busui': 1492, 'adakah': 1493, 'retinol': 1494, 'menyusui': 1495, 'nee': 1496, 'skincarean': 1497, 'aging': 1498, 'asi': 1499, 'offernya': 1500, 'dijawab': 1501, 'berbalas': 1502, 'kandas': 1503, 'mencemaskan': 1504, 'ituuu': 1505, 'jujursih': 1506, 'capeeeee': 1507, 'bangett': 1508, 'plan': 1509, 'abcdefg': 1510, 'kedepannya': 1511, 'sejadi': 1512, 'diapakn': 1513, 'dsini': 1514, 'istrahat': 1515, 'turuti': 1516, 'permintaan': 1517, 'yaitu': 1518, 'dekdekan': 1519, 'pemilik': 1520, 'catalikepersonn': 1521, 'kinerja': 1522, 'seriusan': 1523, 'seumur': 1524, 'menginjak': 1525, 'running': 1526, 'out': 1527, 'concept': 1528, 'clip': 1529, 'njirlahh': 1530, 'kencang': 1531, 'tagih': 1532, 'pegawai': 1533, 'lising': 1534, 'catatannya': 1535, 'selipin': 1536, 'teramat': 1537, 'buriq': 1538, 'estetik': 1539, 'serapah': 1540, 'teething': 1541, 'kemain': 1542, 'fussy': 1543, 'vss': 1544, 'recording': 1545, 'seronok': 1546, 'minhyuk': 1547, 'alami': 1548, 'pembukaan': 1549, 'insta': 1550, 'joo': 1551, 'member': 1552, 'keje': 1553, 'hahahahaha': 1554, 'ikatancintaep': 1555, 'psikopat': 1556, 'seru': 1557, 'worry': 1558, 'nich': 1559, 'kenalan': 1560, 'follownya': 1561, 'aduhhhh': 1562, 'menyesal': 1563, '\\u200d': 1564, 'smk': 1565, 'status': 1566, 'relationship': 1567, 'membahagiakan': 1568, 'toh': 1569, 'pemakamanku': 1570, 'ibuk': 1571, 'dicariin': 1572, 'rindunyaaaa': 1573, 'dilingkupi': 1574, 'berikut': 1575, 'contoh': 1576, 'bijak': 1577, 'pudar': 1578, 'membara': 1579, 'berharga': 1580, 'pria': 1581, 'cintai': 1582, 'peperangan': 1583, 'tumbang': 1584, 'pengusaha': 1585, 'hancur': 1586, 'silahkan': 1587, 'tahajud': 1588, 'miskin': 1589, 'bersedekah': 1590, 'ayang': 1591, 'iko': 1592, 'ambo': 1593, 'yng': 1594, 'kemanomano': 1595, 'pai': 1596, 'siapo': 1597, 'kemano': 1598, 'ancur': 1599, 'rasonyo': 1600, 'kalanya': 1601, 'hectic': 1602, 'ngeri': 1603, 'notifikasi': 1604, 'overtingking': 1605, 'pokonya': 1606, 'buto': 1607, 'prediction': 1608, 'siak': 1609, \"seenggak'e\": 1610, 'ngabari': 1611, 'gae': 1612, 'wkwkkwkw': 1613, 'huh': 1614, 'spekulasi': 1615, 'co': 1616, 'purnama': 1617, 'keras': 1618, 'pc': 1619, 'rilis': 1620, 'huah': 1621, 'berandai': 1622, 'andai': 1623, 'menyikapi': 1624, 'persoalan': 1625, 'komoditas': 1626, 'laku': 1627, 'lunglai': 1628, 'jernih': 1629, 'dikantor': 1630, 'anosmia': 1631, 'antigen': 1632, 'mohon': 1633, 'doany': 1634, 'negatif': 1635, 'idul': 1636, 'fitri': 1637, 'menutupi': 1638, 'makna': 1639, 'berpuasa': 1640, 'ajah': 1641, 'pastu': 1642, 'somebody': 1643, 'advice': 1644, 'loss': 1645, 'perantauan': 1646, 'pengaruhmu': 1647, 'mas': 1648, 'baek': 1649, 'berpesan': 1650, 'lahir': 1651, 'digimanain': 1652, 'ttep': 1653, 'ganteng': 1654, 'baekhyun': 1655, 'boostexobrandrep': 1656, 'memalukan': 1657, 'terminum': 1658, 'marrybrown': 1659, 'sender': 1660, 'explain': 1661, 'tags': 1662, 'literally': 1663, 'brutal': 1664, 'kak': 1665, 'gramed': 1666, 'kebelet': 1667, 'bangat': 1668, 'patah': 1669, 'pdhal': 1670, 'ngk': 1671, 'virtual': 1672, 'gaada': 1673, 'real': 1674, 'life': 1675, 'membawa': 1676, 'dibahagiakan': 1677, 'bahagiakan': 1678, 'jijak': 1679, 'teruk': 1680, 'sikit': 1681, 'puiihh': 1682, 'bagoih': 1683, 'laa': 1684, 'sebentar': 1685, 'makber': 1686, 'vibesnya': 1687, 'cewe': 1688, 'mafo': 1689, 'aoakndrhtbgahs': 1690, 'lenyap': 1691, 'seterusnya': 1692, 'kekal': 1693, 'absolut': 1694, 'ato': 1695, 'om': 1696, 'ongky': 1697, 'natsir': 1698, 'tarawih': 1699, 'halangan': 1700, 'yaaaa': 1701, 'lambeosaurus': 1702, 'ghibah': 1703, 'nusuk': 1704, 'vinny': 1705, 'gaya': 1706, 'minimalis': 1707, 'pahamin': 1708, 'terima': 1709, 'fakta': 1710, 'selesein': 1711, 'gaperlu': 1712, 'urat': 1713, 'people': 1714, 'here': 1715, 'not': 1716, 'how': 1717, 'chill': 1718, 'kebab': 1719, 'piscok': 1720, 'avail': 1721, 'menu': 1722, 'adaaa': 1723, 'gemes': 1724, 'yatuhan': 1725, 'worst': 1726, 'petir': 1727, 'lampu': 1728, 'memandang': 1729, 'kim': 1730, 'jiwon': 1731, 'aktris': 1732, 'natalie': 1733, 'portman': 1734, 'serbaguna': 1735, 'perannya': 1736, 'karisma': 1737, 'tolonglah': 1738, 'boh': 1739, 'gik': 1740, 'giliran': 1741, 'akuu': 1742, 'tuhh': 1743, 'diomelin': 1744, 'wehhh': 1745, 'da': 1746, 'gaketemu': 1747, 'sekalinya': 1748, 'dana': 1749, 'error': 1750, 'ngirim': 1751, 'saldo': 1752, 'pemenang': 1753, 'papa': 1754, 'kutanya': 1755, 'jawabannya': 1756, 'mengejutkan': 1757, 'bisikan': 1758, 'berbuat': 1759, 'perbuatan': 1760, 'hadapin': 1761, 'takarannya': 1762, 'adil': 1763, 'setidak': 1764, 'jalani': 1765, 'hapi': 1766, 'jalaninya': 1767, 'nah': 1768, 'apain': 1769, 'isi': 1770, 'gondola': 1771, 'wahana': 1772, 'dk': 1773, 'belanje': 1774, 'berhentilah': 1775, 'mencemasan': 1776, 'buah': 1777, 'berpikir': 1778, 'biarin': 1779, 'dijagain': 1780, 'masak': 1781, 'sekujur': 1782, 'acakan': 1783, 'cepatlah': 1784, 'usai': 1785, 'tepi': 1786, 'tanah': 1787, 'perkuburan': 1788, 'selayang': 1789, 'frontliners': 1790, 'uruskan': 1791, 'lengkap': 1792, 'berppe': 1793, 'lebat': 1794, 'bertembung': 1795, 'kereta': 1796, 'diorang': 1797, 'kabut': 1798, 'reverse': 1799, 'laluan': 1800, 'bertumbuh': 1801, 'kuharapkan': 1802, 'menjaid': 1803, 'poto': 1804, 'ngobrol': 1805, 'dpn': 1806, 'rmh': 1807, 'motor': 1808, 'wkwkwkwkw': 1809, 'perempuannya': 1810, 'seumuran': 1811, 'sehatkah': 1812, 'jk': 1813, 'dipakai': 1814, 'cash': 1815, 'flow': 1816, 'saving': 1817, 'rasio': 1818, 'pertnda': 1819, 'kenceng': 1820, 'dibilang': 1821, 'enaknya': 1822, 'bertemu': 1823, 'mendekat': 1824, 'jauhkah': 1825, 'berpaling': 1826, 'oh': 1827, 'meninggalkan': 1828, 'ae': 1829, 'kelibihan': 1830, 'hiperhidrosis': 1831, 'keringat': 1832, 'apalg': 1833, 'beuh': 1834, 'banjir': 1835, 'tanganku': 1836, 'twt': 1837, 'deg²an': 1838, 'gelana': 1839, 'bayiku': 1840, 'lepastu': 1841, 'apoooooo': 1842, 'crypto': 1843, 'cuap': 1844, 'hold': 1845, 'yeah': 1846, 'pak': 1847, 'point': 1848, \"it's\": 1849, 'pien': 1850, 'depres': 1851, 'pasal': 1852, 'irl': 1853, 'ap': 1854, 'if': 1855, 'akn': 1856, 'smpi': 1857, 'break': 1858, 'ex': 1859, 'dh': 1860, 'ad': 1861, 'tnjk': 1862, 'becinta': 1863, 'xde': 1864, 'video': 1865, 'kebelakangan': 1866, 'haihh': 1867, 'onk': 1868, 'melbu': 1869, 'resign': 1870, 'keweden': 1871, 'kdu': 1872, 'yopo': 1873, 'bien': 1874, 'ng': 1875, 'wenak': 1876, 'monthly': 1877, 'report': 1878, 'terkendali': 1879, 'saatnya': 1880, 'gajian': 1881, 'cair': 1882, 'potongan': 1883, 'gaji': 1884, 'izin': 1885, 'gelisahlah': 1886, 'akhirat': 1887, 'kelak': 1888, 'utowo': 1889, 'auto': 1890, 'keliyengan': 1891, 'ladies': 1892, 'jempolnya': 1893, 'belanjaan': 1894, 'berapa': 1895, 'dicheckout': 1896, 'light': 1897, 'heart': 1898, 'now': 1899, 'teruskan': 1900, 'thanks': 1901, 'chingu': 1902, 'very': 1903, 'much': 1904, 'for': 1905, 'encouragement': 1906, 'wah': 1907, 'simpan': 1908, 'diiringi': 1909, 'emosional': 1910, 'dilatarbelakangi': 1911, 'insekuritas': 1912, 'meningkat': 1913, 'akibat': 1914, 'kalopun': 1915, 'ampe': 1916, 'segitunya': 1917, 'jyotisha': 1918, 'graha': 1919, 'sbg': 1920, 'dewata': 1921, 'spektrum': 1922, 'energi': 1923, 'semesta': 1924, 'saturnus': 1925, 'dikaitkan': 1926, 'blokade': 1927, 'hambatan': 1928, 'penundaan': 1929, 'kerap': 1930, 'menguasai': 1931, 'sistem': 1932, 'pembuangan': 1933, 'termasuk': 1934, 'gaboong': 1935, 'ngebayangin': 1936, 'elon': 1937, 'mgkn': 1938, 'endorse': 1939, 'annya': 1940, 'nyedot': 1941, 'sov': 1942, 'tesla': 1943, 'sumpa': 1944, 'dips': 1945, 'wajarin': 1946, 'iu': 1947, 'early': 1948, 'bird': 1949, 'janjian': 1950, 'tungguin': 1951, 'temennya': 1952, 'rasanyaa': 1953, 'malaikat': 1954, 'ngobatin': 1955, 'tryphobia': 1956, 'mlu': 1957, 'bolong': 1958, 'tewas': 1959, 'akal': 1960, 'akalan': 1961, 'mampus': 1962, 'kalinya': 1963, 'jadiin': 1964, 'kambing': 1965, 'hitam': 1966, 'post': 1967, 'konten': 1968, 'engagement': 1969, 'berputar': 1970, 'situ': 1971, 'alamak': 1972, 'niat': 1973, 'hhhh': 1974, 'bertaruh': 1975, 'ngechat': 1976, 'lulussss': 1977, 'kelasku': 1978, 'pendadaran': 1979, 'aga': 1980, 'telpon': 1981, 'tuk': 1982, 'kuhadapi': 1983, 'diwaktu': 1984, 'kesabaran': 1985, 'aamiin': 1986, 'free': 1987, 'ditunda': 1988, 'halo': 1989, 'bersahabatlah': 1990, 'klu': 1991, 'terngiang': 1992, 'ngiang': 1993, 'bentuknya': 1994, 'diusahakan': 1995, 'sblm': 1996, 'lunas': 1997, 'perhutangan': 1998, 'dijauhkan': 1999, 'takutmu': 2000, 'menamatkan': 2001, 'bnha': 2002, 's': 2003, 'saspek': 2004, 'sekeliling': 2005, 'jer': 2006, 'mulalah': 2007, 'soalanlah': 2008, 'phone': 2009, 'cam': 2010, 'kaver': 2011, 'acaner': 2012, 'ratenya': 2013, 'comment': 2014, 'poster': 2015, 'dirasain': 2016, 'hueee': 2017, 'ditakutin': 2018, 'kmn': 2019, 'sesaat': 2020, 'pekerjaanmu': 2021, 'menunda': 2022, 'pekerjaan': 2023, 'memupuk': 2024, 'malas': 2025, 'sembraut': 2026, 'motivasi': 2027, 'ceritaarmaini': 2028, 'kopid': 2029, 'terinfeksi': 2030, 'bbrp': 2031, 'vanila': 2032, 'blue': 2033, 'negeri': 2034, 'duit': 2035, 'ditabalkan': 2036, 'puteri': 2037, 'perfeksionis': 2038, 'dikiiittt': 2039, 'ied': 2040, 'mingguan': 2041, 'dp': 2042, 'transfer': 2043, 'orangnya': 2044, 'ketipu': 2045, 'aslinya': 2046, 'temenku': 2047, 'booking': 2048, 'kesana': 2049, 'bayarnya': 2050, 'dosenku': 2051, 'lapang': 2052, 'bimbingannya': 2053, 'dampak': 2054, 'or': 2055, 'terbebani': 2056, 'gaksiap': 2057, 'ngejalanin': 2058, 'media': 2059, 'memberitakan': 2060, 'ganas': 2061, 'tapii': 2062, 'qur’an': 2063, 'memberitahukan': 2064, 'ttg': 2065, 'dahsyat': 2066, 'kubur': 2067, 'kejam': 2068, 'neraka': 2069, 'alloh': 2070, 'dijamin': 2071, 'barang': 2072, 'kesanggupan': 2073, 'menyelesaikannya': 2074, 'segenap': 2075, 'kemampuan': 2076, 'always': 2077, 'tetiba': 2078, 'komunikasi': 2079, 'jdi': 2080, 'eliminasi': 2081, 'toma': 2082, 'inner': 2083, 'lagipula': 2084, 'ran': 2085, 'v': 2086, 'rentas': 2087, 'daerah': 2088, 'kecemasan': 2089, 'rendang': 2090, 'paru': 2091, 'kat': 2092, 'you': 2093, 'dikecewain': 2094, 'ngomongin': 2095, 'girl': 2096, 'deserve': 2097, 'better': 2098, 'then': 2099, 'tabahkan': 2100, 'perkara': 2101, 'dibutuhin': 2102, '“yahh': 2103, 'sedih”': 2104, 'asdfghjklzxccvbnm': 2105, 'keluhanku': 2106, 'ksi': 2107, 'kesehatan': 2108, 'drop': 2109, 'menghantuimu': 2110, 'tuhanlah': 2111, 'semangatdakwahramadhan': 2112, 'jshd': 2113, 'np': 2114, 'mess': 2115, 'with': 2116, 'dino': 2117, 'abc': 2118, 'kenapaaaa': 2119, 'detak': 2120, 'berbagi': 2121, 'secuil': 2122, 'sedihku': 2123, 'rahimku': 2124, 'sejujurnya': 2125, 'bantu': 2126, 'sahaja': 2127, 'malu': 2128, 'diperbodohkan': 2129, 'tenangkan': 2130, 'berbalik': 2131, 'kepadanya': 2132, 'nasihat': 2133, 'berkualitas': 2134, 'produksi': 2135, 'kortisol': 2136, 'shg': 2137, 'kemungkinan': 2138, 'menjd': 2139, 'linksurabaya': 2140, 'berita': 2141, 'rem': 2142, 'sinkron': 2143, 'tidurnya': 2144, 'selebihnya': 2145, 'terlelap': 2146, 'ngendaliinnya': 2147, 'libur': 2148, 'shift': 2149, 'desa': 2150, 'calon': 2151, 'bacain': 2152, 'indonesia': 2153, 'criminal': 2154, 'dibangkitkan': 2155, 'mengejar': 2156, 'waste': 2157, 'our': 2158, 'efforts': 2159, 'berpikirnya': 2160, 'cmn': 2161, 'bertindak': 2162, 'berdasarkan': 2163, '“hidup': 2164, 'berdua': 2165, 'yakinlah': 2166, 'melangkah': 2167, 'gelisah”': 2168, 'kasacima': 2169, 'iwan': 2170, 'fals': 2171, 'lantunan': 2172, 'musik': 2173, 'gerimis': 2174, 'menikmati': 2175, 'kukarang': 2176, 'dugaanku': 2177, 'bulat': 2178, 'buram': 2179, 'gadis': 2180, 'kuciptakan': 2181, 'sajak': 2182, 'aje': 2183, 'batin': 2184, 'rasanye': 2185, 'yailah': 2186, 'shinichi': 2187, 'kudo': 2188, 'dcsquote': 2189, 'sajadah': 2190, 'otomatis': 2191, 'segara': 2192, 'ngekos': 2193, 'berhubungan': 2194, 'sekedar': 2195, 'rumus': 2196, 'garis': 2197, 'mengejarmu': 2198, 'adilnya': 2199, 'gusti': 2200, 'maua': 2201, 'kakashi': 2202, 'yaampun': 2203, 'ling': 2204, 'lung': 2205, 'offshore': 2206, 'ngelewatin': 2207, 'berabad': 2208, 'nantinya': 2209, 'ngasih': 2210, 'wallet': 2211, 'sbm': 2212, 'jatohnya': 2213, 'pasrahnya': 2214, 'dikasi': 2215, 'jalannya': 2216, 'dimudahkan': 2217, 'tidorr': 2218, 'mengingat': 2219, 'kesempatan': 2220, 'menambah': 2221, 'amal': 2222, 'melayang': 2223, 'pikirku': 2224, 'gangerti': 2225, 'aaa': 2226, 'seringkali': 2227, 'sebagaimana': 2228, 'mendung': 2229, 'penuhi': 2230, 'kegelapan': 2231, 'nyatain': 2232, 'wkwkw': 2233, 'smp': 2234, 'keringetan': 2235, 'dagdigdug': 2236, 'britney': 2237, 'spears': 2238, 'apabila': 2239, 'tampil': 2240, 'publik': 2241, 'menggigiti': 2242, 'jarinya': 2243, 'terluka': 2244, 'gitudeh': 2245, '“hari': 2246, 'sejarah': 2247, 'ulang': 2248, 'pulomas': 2249, 'kenape': 2250, 'kadar': 2251, 'anugerah': 2252, 'disenangi': 2253, 'nutupin': 2254, 'alpa': 2255, 'pahit': 2256, 'bertamu': 2257, 'justeru': 2258, 'menyambutnya': 2259, 'sukacita': 2260, 'mend': 2261, 'absolute': 2262, 'berdaya': 2263, 'utarakan': 2264, 'batas': 2265, 'tèe': 2266, 'basuhlah': 2267, 'dengam': 2268, 'munajatlah': 2269, 'cintanya': 2270, 'letakkan': 2271, 'darinya': 2272, 'semaunya': 2273, 'dipercaya': 2274, 'berhati': 2275, 'barangkali': 2276, 'kesenangan': 2277, 'tersendiri': 2278, 'terkunci': 2279, 'gerak': 2280, 'berkecambuk': 2281, 'perdebatan': 2282, 'brisik': 2283, 'dihina': 2284, 'hinaan': 2285, 'tertuang': 2286, 'ayahku': 2287, 'wajahnya': 2288, 'memikul': 2289, 'derita': 2290, 'harapnya': 2291, 'ayam': 2292, 'bertelur': 2293, 'tidaklah': 2294, 'layak': 2295, 'rezeqi': 2296, 'digiring': 2297, 'rezeqinya': 2298, 'hng': 2299, 'sii': 2300, 'perjalanan': 2301, 'laju': 2302, 'lsg': 2303, 'dikatain': 2304, 'emas': 2305, 'rintihan': 2306, 'mengerjakan': 2307, 'cowok': 2308, 'taksir': 2309, 'ghosting': 2310, 'yesus': 2311, 'dibagian': 2312, 'menyanyikannya': 2313, 'melakukannya': 2314, 'tuai': 2315, 'melarang': 2316, 'nyimak': 2317, 'berjam': 2318, 'aplot': 2319, 'dirujak': 2320, 'random': 2321, 'fine': 2322, 'ofensif': 2323, 'pasrah': 2324, 'yaudah': 2325, 'anjeeeeeeeer': 2326, 'udaa': 2327, 'harian': 2328, 'travelling': 2329, 'kejar': 2330, 'target': 2331, 'kasih': 2332, 'dipindah': 2333, 'kuis': 2334, 'bermesraan': 2335, 'data': 2336, 'diposisi': 2337, 'bimbang': 2338, 'ngambil': 2339, 'ekspetasi': 2340, 'dijinjing': 2341, 'reason': 2342, 'asuhlah': 2343, 'batinmu': 2344, 'gugup': 2345, 'disisinya': 2346, 'refreshing': 2347, 'toner': 2348, 'official': 2349, 'store': 2350, 'punyaku': 2351, 'lara': 2352, 'cipta': 2353, 'gapaham': 2354, 'berdansa': 2355, 'mendambakan': 2356, 'kerajaan': 2357, 'swasta': 2358, 'mula': 2359, 'take': 2360, 'over': 2361, 'pesakit': 2362, 'least': 2363, 'medikal': 2364, 'kad': 2365, 'coverage': 2366, 'beza': 2367, 'perhatikan': 2368, 'br': 2369, 'daging': 2370, 'gym': 2371, 'extra': 2372, 'ditambah': 2373, 'mauu': 2374, 'cuddlee': 2375, 'zaman': 2376, 'begituan': 2377, 'bisalah': 2378, 'tpinya': 2379, 'sikluse': 2380, 'huhuuuuuu': 2381, 'pujuk': 2382, 'procold': 2383, 'sampingnya': 2384, 'balasane': 2385, 'dihargai': 2386, 'digawe': 2387, 'disepeleke': 2388, 'kuwi': 2389, 'kabeh': 2390, 'kepenak': 2391, 'rasane': 2392, 'sd': 2393, 'tidr': 2394, 'bisu': 2395, 'terpaku': 2396, 'lembaran': 2397, 'tersentak': 2398, 'denting': 2399, 'memanggilku': 2400, 'chatku': 2401, 'dibalas': 2402, 'blank': 2403, 'ketikanku': 2404, 'ba': 2405, 'benda': 2406, 'tulisannya': 2407, 'good': 2408, 'vibes': 2409, 'only': 2410, 'jdnya': 2411, 'kubeli': 2412, 'mek': 2413, 'sesekali': 2414, 'dst': 2415, 'kepake': 2416, 'sadgurl': 2417, 'mubadzir': 2418, 'sustainabul': 2419, 'napasii': 2420, 'berkah': 2421, 'nikmat': 2422, 'tumpah': 2423, 'ruah': 2424, 'ahli': 2425, 'peronda': 2426, 'menyaksikan': 2427, 'laila': 2428, 'pendosa': 2429, 'menemukannya': 2430, 'malamnya': 2431, 'bersaksi': 2432, 'dibasuh': 2433, 'benerbener': 2434, 'cabrera': 2435, 'tengok': 2436, 'melody': 2437, 'pelaku': 2438, 'berinisial': 2439, 'seo': 2440, 'eunkwang': 2441, 'bighit': 2442, 'emng': 2443, 'gapunya': 2444, 'doanya': 2445, 'setia': 2446, 'doakan': 2447, 'unik': 2448, 'tangis': 2449, 'tukeran': 2450, 'apasih': 2451, 'senengnya': 2452, 'purimons': 2453, 'mahal': 2454, 'momen': 2455, 'dibikin': 2456, 'engap': 2457, 'syutingnya': 2458, 'tayang': 2459, 'dimomen': 2460, 'disetiap': 2461, 'pertambahan': 2462, 'usia': 2463, 'organisasi': 2464, 'kampus': 2465, 'secapek': 2466, 'fisik': 2467, 'rapat': 2468, 'udahan': 2469, 'nyerah': 2470, 'haechan': 2471, 'nyetir': 2472, 'btw': 2473, 'makanya': 2474, 'kesedihan': 2475, 'bergerak': 2476, 'pintu': 2477, 'proses': 2478, 'hape': 2479, 'tokped': 2480, 'seperguruan': 2481, 'cek': 2482, 'banking': 2483, 'game': 2484, 'temui': 2485, 'gang': 2486, 'ribut': 2487, 'kedengeran': 2488, 'songong': 2489, 'kwkwkwkwkwk': 2490, 'ngangjat': 2491, 'telponnya': 2492, 'menangin': 2493, 'wkwkwkwkkwkwkwk': 2494, 'membutuhkan': 2495, 'tambah': 2496, 'memburuk': 2497, 'tahan': 2498, 'terganggu': 2499, 'ngde': 2500, 'kle': 2501, 'cak': 2502, 'sete': 2503, 'poles': 2504, 'dwg': 2505, 'broh': 2506, 'sis': 2507, 'doeloe': 2508, 'meriah': 2509, 'hangatnya': 2510, 'mushalla': 2511, 'kaum': 2512, 'toa': 2513, 'kuping': 2514, 'twit': 2515, 'sh': 2516, 'set': 2517, 'ggu': 2518, 'pack': 2519, 'ikan': 2520, 'ombak': 2521, 'lautan': 2522, 'rumi': 2523, 'mco': 2524, 'uti': 2525, 'apatah': 2526, 'kenit': 2527, 'nii': 2528, 'haihhh': 2529, 'laaa': 2530, 'itukah': 2531, 'dikirim': 2532, 'terharu': 2533, 'kesalahan': 2534, 'pojokmoveon': 2535, 'nguatin': 2536, 'fikiran': 2537, 'terbukti': 2538, 'engas': 2539, 'libido': 2540, 'ningkat': 2541, 'ngab': 2542, 'diamnya': 2543, 'bully': 2544, 'merenung': 2545, 'selihai': 2546, 'sehebat': 2547, 'seteliti': 2548, 'vincenzo': 2549, 'cassano': 2550, 'keberanian': 2551, 'ngbunuh': 2552, 'ihklas': 2553, 'berakhir': 2554, 'sepatas': 2555, 'kilat': 2556, 'scam': 2557, 'fositif': 2558, 'thinking': 2559, 'serahkan': 2560, 'percayakan': 2561, 'sembari': 2562, 'ikhtiar': 2563, 'mendapatkan': 2564, 'kepercayaan': 2565, 'berbelanja': 2566, 'mall': 2567, 'membaca': 2568, 'allahumma': 2569, 'innaka': 2570, \"'afuwwun\": 2571, 'tuhibbul': 2572, \"'afwa\": 2573, \"fa'fu'anni\": 2574, 'lirih': 2575, 'isu': 2576, 'sy': 2577, 'mou': 2578, 'cocok': 2579, 'karakter': 2580, 'bermain': 2581, 'mengtiki': 2582, 'takakan': 2583, 'serie': 2584, 'tdi': 2585, 'ngrsa': 2586, 'bawaan': 2587, 'gabut': 2588, 'kamis': 2589, 'kebawa': 2590, 'rl': 2591, 'maksudku': 2592, 'suasananya': 2593, 'topik': 2594, 'illness': 2595, 'tweetku': 2596, 'menganduy': 2597, 'opini': 2598, 'nanem': 2599, 'ingat': 2600, 'hloo': 2601, 'mutual': 2602, 'mlah': 2603, 'kliatan': 2604, 'kyak': 2605, 'tbh': 2606, 'ngrasa': 2607, 'hate': 2608, 'more': 2609, 'bhkan': 2610, 'kmaren': 2611, 'dmn': 2612, 'nyakitin': 2613, 'tuhkan': 2614, 'lalap': 2615, 'uts': 2616, 'anvek': 2617, 'speecheles': 2618, 'bat': 2619, 'terusan': 2620, 'kmren': 2621, 'hindari': 2622, 'makanan': 2623, 'kafein': 2624, 'soft': 2625, 'drink': 2626, 'menyebabkan': 2627, 'debaran': 2628, 'anjingku': 2629, 'isya': 2630, 'khusyuk²': 2631, 'batal': 2632, 'ngusir': 2633, 'line': 2634, 'dirundung': 2635, 'tenangin': 2636, 'penelitian': 2637, 'nyusun': 2638, 'rencana': 2639, 'kaan': 2640, 'penelitianku': 2641, 'bln': 2642, 'magang': 2643, 'milih': 2644, 'akustik': 2645, 'saran': 2646, 'jog': 2647, 'cort': 2648, 'yamaha': 2649, 'bajet': 2650, 'jt': 2651, 'serba': 2652, 'lesu': 2653, '“mengandalkan': 2654, 'sendiri”': 2655, 'jawaban': 2656, 'melupakan': 2657, 'amarah': 2658, 'ado': 2659, 'krno': 2660, 'merusak': 2661, 'struktur': 2662, 'guno': 2663, 'tiri': 2664, 'hri': 2665, 'ngaruh': 2666, 'numpang': 2667, 'edop': 2668, 'idak': 2669, 'prcma': 2670, 'kprgo': 2671, 'nepati': 2672, 'ucapannyo': 2673, 'gembira': 2674, 'suram': 2675, 'ceria': 2676, 'yaelah': 2677, 'war': 2678, 'kirim': 2679, 'bwt': 2680, 'dm': 2681, 'moncler': 2682, 'north': 2683, 'face': 2684, 'dadi': 2685, 'seng': 2686, 'nggagas': 2687, 'blas': 2688, 'zonk': 2689, 'mengandalkan': 2690, 'gunanya': 2691, 'hei': 2692, 'cobalah': 2693, \"menyerah''\": 2694, 'jewel': 2695, 'photobook': 2696, 'akutuh': 2697, 'yearbook': 2698, 'duuhh': 2699, 'urus': 2700, 'excelnya': 2701, 'kampret': 2702, 'nyusahin': 2703, 'tenan': 2704, 'su': 2705, 'word': 2706, 'beginian': 2707, 'bantuin': 2708, 'bosan': 2709, 'menengok': 2710, 'sedikitpun': 2711, 'memaafkanmu': 2712, 'menerimamu': 2713, 'rene': 2714, 'menghela': 2715, 'beratnya': 2716, 'meraih': 2717, 'melempar': 2718, '“fuck': 2719, 'off': 2720, 'umpatnya': 2721, 'mengundang': 2722, 'kamarnya': 2723, '“rene': 2724, 'what’s—“': 2725, 'terkejut': 2726, '“it’s': 2727, 'terjatuh': 2728, 'nahan': 2729, 'pura': 2730, 'ber': 2731, 'ditanya': 2732, 'tgk': 2733, 'kerajaanbebal': 2734, 'hoo': 2735, 'kaldunyaa': 2736, 'selaluka': 2737, 'warung': 2738, 'pojok': 2739, 'awkward': 2740, 'kemungkinanmi': 2741, 'iyya': 2742, 'ngidam': 2743, 'yoongi': 2744, 'tear': 2745, 'r': 2746, 'gelisuh': 2747, 'koin': 2748, 'dahh': 2749, 'dipantengin': 2750, 'tertinggi': 2751, 'gawe': 2752, 'yejin': 2753, 'hyunbin': 2754, 'tiktok': 2755, 'mrk': 2756, 'menang': 2757, 'actor': 2758, 'actress': 2759, 'fav': 2760, 'egk': 2761, 'msk': 2762, 'nominasi': 2763, 'baeksang': 2764, 'huhuhuhu': 2765, 'takpe': 2766, 'smangat': 2767, 'anjr': 2768, 'utuh': 2769, 'ritual': 2770, 'konsen': 2771, 'halloo': 2772, 'jutaan': 2773, 'cahaya': 2774, 'jauhnya': 2775, 'kejanggalan': 2776, 'nuansa': 2777, 'sastra': 2778, 'terpanggul': 2779, 'berwibawa': 2780, 'lihatlah': 2781, 'bekumpul': 2782, 'bersendawa': 2783, 'bawah': 2784, 'kejinya': 2785, 'surya': 2786, 'hangat': 2787, 'pelukmu': 2788, 'menghapus': 2789, 'dihatiku': 2790, 'mengalir': 2791, 'darah': 2792, 'dinadiku': 2793, 'fotoin': 2794, 'ditinggal': 2795, 'suaminya': 2796, 'ditenangin': 2797, 'suster': 2798, 'adek': 2799, 'restless': 2800, 'noleh': 2801, 'kanan': 2802, 'kiri': 2803, 'persiapkanlah': 2804, 'mengawal': 2805, 'penerus': 2806, 'bangsa': 2807, 'tujukan': 2808, 'solidaritas': 2809, 'siapkan': 2810, 'nyali': 2811, 'rasatakut': 2812, 'berdiri': 2813, 'tegak': 2814, 'busungkan': 2815, 'bakar': 2816, 'api': 2817, 'membaraa': 2818, 'ooo': 2819, 'takan': 2820, 'terlupakannn': 2821, 'energinya': 2822, 'usg': 2823, 'rontgen': 2824, 'ketahuan': 2825, 'gadichat': 2826, 'duluan': 2827, 'taro': 2828, 'mager': 2829, 'sakkit': 2830, 'jugaa': 2831, 'karma': 2832, 'haduuuhzzzzz': 2833, 'dilihat': 2834, 'seringnya': 2835, 'menyentuh': 2836, 'membunyikan': 2837, \"'jujur\": 2838, 'negara': 2839, \"listrik'\": 2840, \"baiklah'\": 2841, \"'anda\": 2842, \"'would\": 2843, 'it': 2844, \"'emang\": 2845, 'beres': 2846, 'bridge': 2847, 'of': 2848, 'spies': 2849, 'insight': 2850, 'waw': 2851, 'kenapasi': 2852, 'anehhh': 2853, 'kaku': 2854, 'menghasilkan': 2855, 'mengeluh': 2856, 'kelelahan': 2857, 'membesar': 2858, 'ampuuun': 2859, 'bersih': 2860, 'buru²': 2861, 'ngevote': 2862, 'onf': 2863, 'kamar': 2864, 'siarannya': 2865, 'reaction': 2866, 'first': 2867, 'win': 2868, 'saklar': 2869, 'izinkan': 2870, 'memetik': 2871, 'keluh': 2872, 'kesah': 2873, 'pules': 2874, 'mens': 2875, 'kasi': 2876, 'gelisahka': 2877, 'berhenti': 2878, 'morethanfriends': 2879, 'usa': 2880, 'cukuplah': 2881, 'berbahagia': 2882, 'menerimanya': 2883, 'eung': 2884, 'yu': 2885, 'youtube': 2886, 'gulana': 2887, 'benerrrrr': 2888, 'bermedsos': 2889, 'ria': 2890, 'sehatnya': 2891, 'sebesar': 2892, 'mengikatmu': 2893, 'memaksamu': 2894, 'any': 2895, 'drkbot': 2896, 'up': 2897, 'beresin': 2898, 'bnr': 2899, 'terhadapku': 2900, 'ketidakpastian': 2901, 'haih': 2902, 'btl': 2903, 'smpai': 2904, 'number': 2905, 'p': 2906, 'mendata': 2907, 'coys': 2908, 'ringan': 2909, 'penting': 2910, 'bernafas': 2911, 'beraturan': 2912, 'rintangannya': 2913, 'guyssss': 2914, 'rest': 2915, 'pdahal': 2916, 'sbenernya': 2917, 'adlah': 2918, 'dngn': 2919, 'brdoa': 2920, 'kpada': 2921, 'melupakannya': 2922, 'kupasgundah': 2923, 'waktunya': 2924, 'dilakukan': 2925, 'waltdisney': 2926, '“virus”': 2927, 'obatilah': 2928, '“makan': 2929, 'nabati': 2930, 'hati”': 2931, 'tawakkal': 2932, 'zikrullah': 2933, 'insya': 2934, 'sirna': 2935, 'by': 2936, 'hizboel': 2937, 'ibarat': 2938, 'seekor': 2939, 'wayahe': 2940, 'kulit': 2941, 'wis': 2942, 'and': 2943, 'napa': 2944, 'digigit': 2945, 'ripin': 2946, 'wasap': 2947, 'naudzubillaah': 2948, 'dikurangi': 2949, 'menapaki': 2950, 'batu': 2951, 'dipijaki': 2952, 'perlahan': 2953, 'resapi': 2954, 'libra': 2955, 'menjengkelkan': 2956, 'nafkah': 2957, 'kreatifitas': 2958, 'jalanin': 2959, 'tumbuh': 2960, 'fit': 2961, 'market': 2962, 'merona': 2963, 'psikologisnya': 2964, 'notetomyself': 2965, 'belajarcrypto': 2966, 'ky': 2967, 'bedongan': 2968, 'gerakan': 2969, 'kakinya': 2970, 'terlihat': 2971, 'bgdd': 2972, 'jatoh': 2973, 'lagii': 2974, 'disertai': 2975, 'pulih': 2976, 'berganti': 2977, 'senjamu': 2978, 'down': 2979, 'harap²': 2980, 'konsentrasi': 2981, 'pegel': 2982, 'linu': 2983, 'hipertensi': 2984, 'kekurangan': 2985, 'hidupsehat': 2986, 'ilangin': 2987, 'want': 2988, 'wehh': 2989, 'serabut': 2990, 'petanda': 2991, 'corona': 2992, 'berona': 2993, 'direnungi': 2994, 'kerana': 2995, 'terpantau': 2996, 'huft': 2997, 'oon': 2998, 'pantengin': 2999, 'chanel': 3000, 'trejo': 3001, 'yt': 3002, 'tmap': 3003, '“ini': 3004, 'mengeluarkan': 3005, 'menemani': 3006, 'menghempas': 3007, 'dihati': 3008, 'terkhianati': 3009, 'wangi': 3010, 'joget': 3011, 'jali': 3012, 'tukin': 3013, 'vibrator': 3014, 'dirancang': 3015, 'histeria': 3016, 'sex': 3017, 'sebadan': 3018, 'asem': 3019, 'dihadapkan': 3020, 'mangkek': 3021, 'haram': 3022, 'keluarkan': 3023, 'bajingan': 3024, 'kenapeee': 3025, 'penyakitnya': 3026, 'lari': 3027, 'siih': 3028, 'gemini': 3029, 'pengeluaran': 3030, 'income': 3031, 'bagaimanapun': 3032, 'dimalam': 3033, 'pinter': 3034, 'ekspektasi': 3035, 'sil': 3036, 'paginya': 3037, 'happened': 3038, 'terlindungi': 3039, 'mindfullness': 3040, 'dann': 3041, 'pribadi': 3042, 'yak': 3043, 'dasar': 3044, 'keterlaluan': 3045, 'beralasan': 3046, 'padahalkan': 3047, 'milikku': 3048, 'bubar': 3049, 'semua\\u200d': 3050, 'classroom': 3051, 'matkul': 3052, 'dosen': 3053, 'ngezoom': 3054, 'sosialisasi': 3055, 'garang': 3056, 'huhuhu': 3057, 'mysj': 3058, 'confirmation': 3059, 'az': 3060, 'jab': 3061, 'syukurr': 3062, 'menerus': 3063, 'katamutiara': 3064, 'sekalipun': 3065, 'kematian': 3066, 'kamarmu': 3067, 'tangi': 3068, 'gasik': 3069, 'atine': 3070, 'ngono': 3071, 'aljabar': 3072, 'done': 3073, 'yeay': 3074, 'kekhawatiranku': 3075, 'sks': 3076, 'menurutku': 3077, 'nkkkk': 3078, 'kwn': 3079, 'group': 3080, 'popit': 3081, 'trade': 3082, 'pips': 3083, 'should': 3084, 'again': 3085, 'xciduk': 3086, 'xstress': 3087, 'tgok': 3088, 'chart': 3089, 'cover': 3090, 'lost': 3091, 'xdtg': 3092, 'sweetheart': 3093, 'sayangi': 3094, 'jempolmu': 3095, '“damai': 3096, 'jarimu': 3097, 'memberkati': 3098, 'imanmu': 3099, 'dipertanyakan': 3100, 'mamang': 3101, 'servis': 3102, 'mlihat': 3103, 'hikd': 3104, 'kerasa': 3105, 'kemaren': 3106, 'teriak': 3107, 'marhaban': 3108, 'kue': 3109, 'mudik': 3110, 'pulkam': 3111, 'mengalami': 3112, 'keterasingan': 3113, 'sosial': 3114, 'jumlah': 3115, 'berkurang': 3116, 'ngecuit': 3117, 'lol': 3118, 'menjamin': 3119, 'rezekimu': 3120, 'dibangunin': 3121, 'judulnya': 3122, 'larut': 3123, 'semacam': 3124, 'jenuh': 3125, 'kalut': 3126, 'ibutuh': 3127, 'plong': 3128, 'teh': 3129, 'gapuguh': 3130, 'terlarang': 3131, 'sesak': 3132, 'asmaku': 3133, 'kumat': 3134, 'berkepanjanggan': 3135, 'nggambekkan': 3136, 'segalanya': 3137, 'berlebihhan': 3138, 'nekat': 3139, 'kewanen': 3140, 'cerpen': 3141, 'kenalkan': 3142, 'katamu': 3143, 'pukul': 3144, 'sepuluh': 3145, 'menurutmu': 3146, 'mencintaiku': 3147, 'sepenuh': 3148, 'wasiatkan': 3149, 'berutang': 3150, 'kehinaan': 3151, 'kesengsaraan': 3152, 'umar': 3153, 'abdul': 3154, 'aziz': 3155, 'ngingetin': 3156, 'misal': 3157, 'psikologis': 3158, 'profesional': 3159, 'mahasiswa': 3160, 'psikologi': 3161, 'dezka': 3162, 'maiky': 3163, 'ngeong': 3164, 'melahirkan': 3165, 'gatega': 3166, 'liatnya': 3167, 'dirinya': 3168, 'begitupun': 3169, 'sebaliknya': 3170, 'rossa': 3171, '“takkan': 3172, 'kupercaya': 3173, 'cintamu”': 3174, 'dirasa': 3175, 'jikalau': 3176, 'geli': 3177, 'ketaatan': 3178, 'kedudukan': 3179, 'derajat': 3180, 'hadapan': 3181, 'seoalah': 3182, 'buntu': 3183, 'hawatir': 3184, 'disitulah': 3185, 'rasakan': 3186, 'luarbiasa': 3187, 'allahuakbar': 3188, 'kupikir': 3189, 'pertolongan': 3190, 'nolong': 3191, 'dilakuin': 3192, 'syahdu': 3193, 'berlagu': 3194, 'mengiring': 3195, 'taman': 3196, 'menagih': 3197, 'janji': 3198, 'dicipta': 3199, 'pencipta': 3200, 'kutaruh': 3201, 'sepucuk': 3202, 'selusin': 3203, 'kala': 3204, 'tertutup': 3205, 'kama': 3206, 'berminggu²': 3207, 'minggu': 3208, 'kendaraan': 3209, 'psti': 3210, 'mabok': 3211, 'macemnya': 3212, 'prioritas': 3213, 'gakusah': 3214, 'bor': 3215, 'etdah': 3216, 'buset': 3217, 'olivia': 3218, 'tiga': 3219, 'puan': 3220, \"'apa\": 3221, 'pikirnya': 3222, 'kegini': 3223, 'gemeteran': 3224, 'pujituhan': 3225, 'niatan': 3226, 'ngelukain': 3227, 'amat': 3228, 'siihh': 3229, 'hebattt': 3230, 'hebatt': 3231, 'skrng': 3232, 'tekanan': 3233, 'reaksi': 3234, 'pasif': 3235, 'menimbulkan': 3236, 'ngeladenin': 3237, 'diupdate': 3238, 'thread': 3239, 'email': 3240, 'slip': 3241, 'gakunjung': 3242, 'idup': 3243, 'bales': 3244, 'sloew': 3245, 'respon': 3246, 'artinya': 3247, 'disamperin': 3248, 'diangkut': 3249, 'cafe': 3250, 'yahh': 3251, 'nongkrong': 3252, 'rame': 3253, 'sekaligus': 3254, 'reuni': 3255, 'kecilan': 3256, 'jga': 3257, 'relate': 3258, 'seluas': 3259, 'luasnya': 3260, 'muara': 3261, 'merehatkan': 3262, 'ternyamanmu': 3263, 'penatmu': 3264, 'terbaiknya': 3265, 'read': 3266, 'ngatasin': 3267, 'pertanyaannya': 3268, 'nilainya': 3269, 'jelek': 3270, 'insecure': 3271, 'apa²nya': 3272, 'dibanding': 3273, 'gede': 3274, 'ambek': 3275, 'egois': 3276, 'pdh': 3277, 'ekstra': 3278, 'shoot': 3279, 'ekspresso': 3280, 'kor': 3281, 'law': 3282, 'school': 3283, 'sol': 3284, 'eps': 3285, 'plagiatin': 3286, 'mamanya': 3287, 'maunya': 3288, 'peraduan': 3289, 'disudahi': 3290, 'lamunan': 3291, 'pelukan': 3292, 'ptn': 3293, 'yokk': 3294, 'pbu': 3295, 'ugm': 3296, 'ngunci': 3297, 'barusan': 3298, 'tertua': 3299, 'sewaktu': 3300, 'kuingini': 3301, 'terik': 3302, 'kesepian': 3303, 'pohon': 3304, 'kamboja': 3305, 'petilasan': 3306, 'gagah': 3307, 'menengadah': 3308, 'bertinta': 3309, 'menari': 3310, 'dulunya': 3311, 'dsbg': 3312, 'sekadarnya': 3313, 'menggariskan': 3314, 'hidupmu': 3315, 'bisanya': 3316, 'wp': 3317, 'ngatasinnya': 3318, 'sepanjang': 3319, 'nge': 3320, 'pola': 3321, 'parno': 3322, 'menenangkannya': 3323, 'membujuknya': 3324, 'solusi': 3325, 'takutkan': 3326, 'sahur': 3327, 'sebelumnya': 3328, 'pejamin': 3329, 'terlukaa': 3330, 'melemah': 3331, 'gatenang': 3332, 'mencegah': 3333, 'prnah': 3334, 'kpikiran': 3335, 'bangsat': 3336, 'bund': 3337, 'kebelakang': 3338, 'terbantah': 3339, 'menghamba': 3340, 'sperti': 3341, 'kehampaan': 3342, 'nyata': 3343, 'debar': 3344, 'abbydzar': 3345, 'mellow': 3346, 'monangesss': 3347, 'didengerin': 3348, 'candu': 3349, 'semenjak': 3350, 'pegangan': 3351, 'feeling': 3352, 'iyaa': 3353, '“sedikit': 3354, 'rindunya”': 3355, 'sch': 3356, 'kecanduan': 3357, 'typo': 3358, 'sorang': 3359, 'fikir': 3360, 'cuba': 3361, 'disampaikan': 3362, 'septrian': 3363, 'fess': 3364, 'sempat': 3365, 'lemas': 3366, 'tertebas': 3367, 'membekas': 3368, 'terhempas': 3369, 'remas': 3370, 'kemas': 3371, 'kertas': 3372, 'tebas': 3373, 'ocehan': 3374, 'pedas': 3375, 'bergegas': 3376, 'berkemas': 3377, 'terbebas': 3378, 'terlepas': 3379, 'menetas': 3380, 'cerdas': 3381, 'sebutir': 3382, 'beras': 3383, 'byann': 3384, 'kayaknya': 3385, 'anxiety': 3386, 'useless': 3387, 'pameran': 3388, 'betapa': 3389, 'ketimbang': 3390, 'cuekin': 3391, 'dicoba': 3392, 'zona': 3393, 'anxious': 3394, 'kea': 3395, 'akdhsksks': 3396, 'kedengkian': 3397, 'menggebu': 3398, 'gebu': 3399, 'dihembuskan': 3400, 'nyampe': 3401, 'omongan': 3402, 'bapakku': 3403, 'teringat': 3404, '“lanang': 3405, 'jaran': 3406, 'kekang': 3407, 'kui': 3408, 'cerewet': 3409, 'mlayu': 3410, 'umbar': 3411, 'tekne': 3412, 'ngko': 3413, 'wayah': 3414, 'nyengut': 3415, 'dewe': 3416, 'rasah': 3417, 'digoleki': 3418, 'morki': 3419, 'melek': 3420, 'sgni': 3421, 'ujiannya': 3422, 'gus': 3423, 'baha': 3424, 'ngecheck': 3425, 'ktownu': 3426, 'million': 3427, 'duarrrrr': 3428, 'pre': 3429, 'order': 3430, 'sejuta': 3431, 'iklan': 3432, 'rokok': 3433, 'creepy': 3434, 'kecot': 3435, 'pecah': 3436, 'mengalahkan': 3437, 'jarum': 3438, 'mengusir': 3439, 'cecak': 3440, 'pucat': 3441, 'bohlam': 3442, 'kuning': 3443, 'temaram': 3444, 'tirai': 3445, 'kusam': 3446, 'tertiup': 3447, 'separuh': 3448, 'burung': 3449, 'cabak': 3450, 'sarang': 3451, 'sisa': 3452, 'disembunyikan': 3453, 'cancer': 3454, 'dimasukkan': 3455, 'membikin': 3456, 'menyerah': 3457, 'ambang': 3458, 'author': 3459, 'ngepost': 3460, 'reread': 3461, 'cringe': 3462, 'pembaca': 3463, 'wb': 3464, 'hhhhh': 3465, 'bulannya': 3466, 'bersamaan': 3467, 'offense': 3468, 'scene': 3469, 'kritis': 3470, 'janggal': 3471, 'prnh': 3472, 'jagain': 3473, 'icu': 3474, 'gantian': 3475, 'mandipun': 3476, 'jgnkan': 3477, 'tetangga': 3478, 'nyalon': 3479, 'mamyo': 3480, 'selang': 3481, 'seling': 3482, 'amamimamimami': 3483, 'sensitiv': 3484, 'kaget': 3485, 'meledak': 3486, 'sasaran': 3487, 'perkuliahaan': 3488, 'slesai': 3489, 'didusta': 3490, 'insan': 3491, 'idaman': 3492, 'dimilik': 3493, 'diimpikan': 3494, 'mengalah': 3495, '“besok': 3496, 'kerja”': 3497, 'lambung': 3498, 'nafsu': 3499, 'berlibahan': 3500, 'wey': 3501, 'open': 3502, 'plis': 3503, 'persepsi': 3504, 'pendapat': 3505, 'wkw': 3506, 'admin': 3507, 'dki': 3508, 'rumor': 3509, 'menyebar': 3510, 'rombakan': 3511, 'trigger': 3512, 'merena': 3513, 'ketahan': 3514, 'nyangka': 3515, 'ldr': 3516, 'ondehh': 3517, 'pelan': 3518, 'bicara': 3519, 'rada': 3520, 'pertnyaan': 3521, 'template': 3522, 'keluhkan': 3523, 'aduu': 3524, 'ntr': 3525, 'jwb': 3526, 'banyakin': 3527, 'yukk': 3528, 'maksiat': 3529, 'non': 3530, 'jarang': 3531, 'kalahkan': 3532, 'desakan': 3533, 'pantesan': 3534, 'mampet': 3535, 'selangkah': 3536, 'kehancuran': 3537, 'اللهم': 3538, 'اجعلني': 3539, 'مخرجا': 3540, 'وأرزقني': 3541, 'من': 3542, 'حيث': 3543, 'لا': 3544, 'يحتسب': 3545, 'bgst': 3546, 'min': 3547, 'can': 3548, 'modol': 3549, 'ieu': 3550, 'kumaha': 3551, 'huftt': 3552, 'tuntas': 3553, 'introvert': 3554, 'diinfokan': 3555, 'keberangkatan': 3556, 'jm': 3557, 'yallah': 3558, 'berilah': 3559, 'kebahagian': 3560, 'kecukupan': 3561, 'ngemil': 3562, 'ok': 3563, 'merindukan': 3564, 'peluk': 3565, 'hangatmu': 3566, 'kedewasaanku': 3567, 'beli': 3568, 'tuy': 3569, 'uangnya': 3570, 'dialokasikan': 3571, 'tutuy': 3572, 'orderan': 3573, 'pemesan': 3574, 'konfirmasi': 3575, 'orderannya': 3576, 'nota': 3577, 'teliti': 3578, 'restonya': 3579, 'embun': 3580, 'baginya': 3581, 'ditungguinya': 3582, 'semula': 3583, 'selepas': 3584, 'jeda': 3585, 'menguras': 3586, 'mengganjal': 3587, 'rendah': 3588, 'diliat': 3589, 'sinting': 3590, 'mks': 3591, 'hyunjin': 3592, 'maksa': 3593, 'jyp': 3594, 'fans': 3595, 'may': 3596, 'th': 3597, 'are': 3598, 'still': 3599, 'days': 3600, 'left': 3601, 'hh': 3602, 'shalawat': 3603, 'istighfar': 3604, 'masyaallah': 3605, 'ngedenger': 3606, 'cemasnya': 3607, 'uhh': 3608, 'mmhhh': 3609, 'ahh': 3610, 'dismayed': 3611, 'mumet': 3612, 'atuhlah': 3613, 'dipimdahin': 3614, 'unit': 3615, 'restive': 3616, 'sejatimu': 3617, 'misteri': 3618, 'relax': 3619, 'menunjang': 3620, 'esokmu': 3621, 'ngana': 3622, 'nie': 3623, 'ty': 3624, 'taeil': 3625, 'genjrengan': 3626, 'hehe': 3627, 'nikah': 3628, 'bro': 3629, 'bungsu': 3630, 'nyewa': 3631, 'pembantu': 3632, 'dinas': 3633, 'nenek': 3634, 'mertua': 3635, 'bantal': 3636, 'dipeluk': 3637, 'kejer': 3638, 'mercun': 3639, 'naga': 3640, 'keadaannya': 3641, 'dikira': 3642, 'dipikir': 3643, 'muntah': 3644, 'almost': 3645, 'tertera': 3646, 'disana': 3647, 'mixtape': 3648, 'perlakuan': 3649, 'fasik': 3650, 'peduli': 3651, 'bermaksiat': 3652, 'kpd': 3653, 'kukirim': 3654, 'ninggalin': 3655, 'bolak': 3656, 'simple': 3657, 'little': 3658, 'things': 3659, 'belikan': 3660, 'bobby': 3661, 'ngenal': 3662, 'tremor': 3663, 'cache': 3664, 'bersihkan': 3665, 'apsih': 3666, 'jatohin': 3667, 'bedanya': 3668, 'dicemasin': 3669, 'pfp': 3670, 'pantat': 3671, 'patrick': 3672, 'hidupku': 3673, 'nada': 3674, 'nyuruh': 3675, 'ortuku': 3676, 'pernahkah': 3677, '‘paranoid’': 3678, 'terlintas': 3679, 'benak': 3680, 'mendengarnya': 3681, 'pernyataan': 3682, 'merupakan': 3683, 'anggapan': 3684, 'beredar': 3685, 'masyarakat': 3686, 'mengenai': 3687, 'paranoid': 3688, 'taurus': 3689, 'berkecil': 3690, 'jangtaek': 3691, 'kalem': 3692, 'lapakjp': 3693, 'oren': 3694, 'pengirimannya': 3695, 'ngatur': 3696, 'umat': 3697, 'umatnya': 3698, 'ketuker': 3699, 'meratapi': 3700, 'kisah': 3701, 'fiktif': 3702, 'kenyataan': 3703, 'upayakan': 3704, 'petunjuk': 3705, 'berlindung': 3706, 'pelindung': 3707, 'demikian': 3708, 'bersesih': 3709, 'ntah': 3710, 'brp': 3711, 'terjun': 3712, 'kelamaan': 3713, 'sujud': 3714, 'berjuanag': 3715, 'anexty': 3716, 'disorder': 3717, 'nga': 3718, 'kampuh': 3719, 'diruma': 3720, 'asrama': 3721, 'iyuh': 3722, 'ngalihin': 3723, 'terkonvert': 3724, 'mengunjungi': 3725, \"iliya'\": 3726, 'berkata': 3727, 'komandan': 3728, 'perangnya': 3729, 'mengingkari': 3730, 'keadaanmu': 3731, 'selanjutnya': 3732, 'ibnu': 3733, 'wft': 3734, 'ngelu': 3735, 'karyawan': 3736, 'diperlakukan': 3737, 'seenaknya': 3738, 'perusahaan': 3739, 'dibasmi': 3740, 'menenangkan': 3741, 'menceritakan': 3742, 'siapapun': 3743, 'kunci': 3744, 'bilangnya': 3745, 'aktifitas': 3746, 'raut': 3747, 'mixed': 3748, 'feelings': 3749, 'dominasi': 3750, 'juve': 3751, 'terhenti': 3752, 'juara': 3753, 'inter': 3754, 'milan': 3755, 'liga': 3756, 'champion': 3757, 'ngedrakor': 3758, 'film': 3759, 'fun': 3760, 'menolak': 3761, 'gaboleh': 3762, 'bimbingan': 3763, 'berbulan': 3764, 'prof': 3765, 'baikkkk': 3766, 'overthink': 3767, 'mimin': 3768, 'sebulan': 3769, 'coy': 3770, 'maksudx': 3771, 'menghayal': 3772}\n",
      "3773\n"
     ]
    }
   ],
   "source": [
    "tokenizer.fit_on_texts(train_corpus)\n",
    "total_words = len(tokenizer.word_index) + 1\n",
    "\n",
    "print(tokenizer.word_index)\n",
    "print(total_words)"
   ]
  },
  {
   "cell_type": "code",
   "execution_count": 19,
   "id": "25833509",
   "metadata": {},
   "outputs": [],
   "source": [
    "test_sequences = []\n",
    "for line in test_corpus:\n",
    "    token_list = tokenizer.texts_to_sequences([line])[0]\n",
    "    test_sequences.append(token_list)\n",
    "    \n",
    "train_input_sequences = []\n",
    "for line in train_corpus:\n",
    "    token_list = tokenizer.texts_to_sequences([line])[0]\n",
    "    train_input_sequences.append(token_list)"
   ]
  },
  {
   "cell_type": "markdown",
   "id": "48567f71",
   "metadata": {},
   "source": [
    "### Hasil Tokenizing"
   ]
  },
  {
   "cell_type": "code",
   "execution_count": 20,
   "id": "4ff9c15e",
   "metadata": {},
   "outputs": [
    {
     "name": "stdout",
     "output_type": "stream",
     "text": [
      "[229, 13, 52, 179, 62, 2, 68]\n",
      "[2, 94, 112, 262, 150, 271, 1064, 559, 162, 583, 1, 242, 162]\n"
     ]
    }
   ],
   "source": [
    "print(train_input_sequences[1])\n",
    "print(test_sequences[1])"
   ]
  },
  {
   "cell_type": "markdown",
   "id": "557d4081",
   "metadata": {},
   "source": [
    "### Bagi Test Set dan Train Set"
   ]
  },
  {
   "cell_type": "code",
   "execution_count": 21,
   "id": "16b8b8e6",
   "metadata": {},
   "outputs": [],
   "source": [
    "max_length = max([len(x) for x in train_input_sequences])\n",
    "# padding sequences \n",
    "max_sequence_len = max([len(x) for x in train_input_sequences])\n",
    "train_input_sequences = np.array(pad_sequences(train_input_sequences, maxlen=max_sequence_len, padding='pre'))\n",
    "\n",
    "# create predictors and label\n",
    "X_train = train_input_sequences\n",
    "y_train = np.array(train['label'])"
   ]
  },
  {
   "cell_type": "code",
   "execution_count": 22,
   "id": "aae5f5b1",
   "metadata": {},
   "outputs": [
    {
     "name": "stdout",
     "output_type": "stream",
     "text": [
      "58\n",
      "900\n",
      "900\n"
     ]
    }
   ],
   "source": [
    "print(len(X_train[0]))\n",
    "print(len(X_train))\n",
    "print(len(y_train))"
   ]
  },
  {
   "cell_type": "code",
   "execution_count": 23,
   "id": "d38dc4d5",
   "metadata": {},
   "outputs": [
    {
     "name": "stdout",
     "output_type": "stream",
     "text": [
      "58\n",
      "100\n",
      "100\n"
     ]
    }
   ],
   "source": [
    "# padding sequences \n",
    "max_sequence_len = max([len(x) for x in train_input_sequences])\n",
    "test_sequences = np.array(pad_sequences(test_sequences, maxlen=max_sequence_len, padding='pre'))\n",
    "\n",
    "# create predictors and label\n",
    "X_test = test_sequences\n",
    "y_test = np.array(test['label'])\n",
    "print(len(X_test[0]))\n",
    "print(len(X_test))\n",
    "print(len(y_test))"
   ]
  },
  {
   "cell_type": "code",
   "execution_count": 24,
   "id": "45d729f6",
   "metadata": {},
   "outputs": [],
   "source": [
    "from tensorflow.keras.models import Sequential\n",
    "from tensorflow.keras.optimizers import Adam\n",
    "from tensorflow import keras\n",
    "from tensorflow.keras import layers\n",
    "from tensorflow.keras.layers import LSTM"
   ]
  },
  {
   "cell_type": "code",
   "execution_count": 25,
   "id": "2edf41c8",
   "metadata": {},
   "outputs": [
    {
     "data": {
      "text/plain": [
       "58"
      ]
     },
     "execution_count": 25,
     "metadata": {},
     "output_type": "execute_result"
    }
   ],
   "source": [
    "max_length"
   ]
  },
  {
   "cell_type": "code",
   "execution_count": 27,
   "id": "b7f4c4d9",
   "metadata": {},
   "outputs": [
    {
     "name": "stdout",
     "output_type": "stream",
     "text": [
      "Model: \"sequential\"\n",
      "_________________________________________________________________\n",
      "Layer (type)                 Output Shape              Param #   \n",
      "=================================================================\n",
      "embedding (Embedding)        (None, 58, 32)            128000    \n",
      "_________________________________________________________________\n",
      "lstm (LSTM)                  (None, 58)                21112     \n",
      "_________________________________________________________________\n",
      "dense (Dense)                (None, 30)                1770      \n",
      "_________________________________________________________________\n",
      "dense_1 (Dense)              (None, 24)                744       \n",
      "_________________________________________________________________\n",
      "dense_2 (Dense)              (None, 1)                 25        \n",
      "=================================================================\n",
      "Total params: 151,651\n",
      "Trainable params: 151,651\n",
      "Non-trainable params: 0\n",
      "_________________________________________________________________\n",
      "None\n"
     ]
    }
   ],
   "source": [
    "embedding_vector_length = 32\n",
    "\n",
    "model = Sequential()\n",
    "model.add(Embedding(vocab_size, embedding_vector_length, input_length=max_length))\n",
    "model.add(LSTM(58))\n",
    "model.add(Dense(30, activation='relu'))\n",
    "model.add(Dense(24, activation='sigmoid'))\n",
    "model.add(Dense(1, activation='sigmoid'))\n",
    "model.compile(loss='binary_crossentropy', optimizer='adam', metrics=['accuracy'])\n",
    "print(model.summary())"
   ]
  },
  {
   "cell_type": "code",
   "execution_count": 31,
   "id": "dd4aa4a9",
   "metadata": {},
   "outputs": [
    {
     "name": "stdout",
     "output_type": "stream",
     "text": [
      "Epoch 1/50\n",
      "18/18 [==============================] - 21s 54ms/step - loss: 0.9904 - accuracy: 0.4165 - val_loss: 0.7826 - val_accuracy: 0.3200\n"
     ]
    },
    {
     "name": "stderr",
     "output_type": "stream",
     "text": [
      "WARNING:absl:Found untraced functions such as lstm_cell_layer_call_and_return_conditional_losses, lstm_cell_layer_call_fn, lstm_cell_layer_call_fn, lstm_cell_layer_call_and_return_conditional_losses, lstm_cell_layer_call_and_return_conditional_losses while saving (showing 5 of 5). These functions will not be directly callable after loading.\n",
      "WARNING:absl:Found untraced functions such as lstm_cell_layer_call_and_return_conditional_losses, lstm_cell_layer_call_fn, lstm_cell_layer_call_fn, lstm_cell_layer_call_and_return_conditional_losses, lstm_cell_layer_call_and_return_conditional_losses while saving (showing 5 of 5). These functions will not be directly callable after loading.\n"
     ]
    },
    {
     "name": "stdout",
     "output_type": "stream",
     "text": [
      "INFO:tensorflow:Assets written to: model-001.model\\assets\n"
     ]
    },
    {
     "name": "stderr",
     "output_type": "stream",
     "text": [
      "INFO:tensorflow:Assets written to: model-001.model\\assets\n"
     ]
    },
    {
     "name": "stdout",
     "output_type": "stream",
     "text": [
      "Epoch 2/50\n",
      "18/18 [==============================] - 0s 14ms/step - loss: 0.6946 - accuracy: 0.5356 - val_loss: 0.6352 - val_accuracy: 0.6800\n"
     ]
    },
    {
     "name": "stderr",
     "output_type": "stream",
     "text": [
      "WARNING:absl:Found untraced functions such as lstm_cell_layer_call_and_return_conditional_losses, lstm_cell_layer_call_fn, lstm_cell_layer_call_fn, lstm_cell_layer_call_and_return_conditional_losses, lstm_cell_layer_call_and_return_conditional_losses while saving (showing 5 of 5). These functions will not be directly callable after loading.\n",
      "WARNING:absl:Found untraced functions such as lstm_cell_layer_call_and_return_conditional_losses, lstm_cell_layer_call_fn, lstm_cell_layer_call_fn, lstm_cell_layer_call_and_return_conditional_losses, lstm_cell_layer_call_and_return_conditional_losses while saving (showing 5 of 5). These functions will not be directly callable after loading.\n"
     ]
    },
    {
     "name": "stdout",
     "output_type": "stream",
     "text": [
      "INFO:tensorflow:Assets written to: model-002.model\\assets\n"
     ]
    },
    {
     "name": "stderr",
     "output_type": "stream",
     "text": [
      "INFO:tensorflow:Assets written to: model-002.model\\assets\n"
     ]
    },
    {
     "name": "stdout",
     "output_type": "stream",
     "text": [
      "Epoch 3/50\n",
      "18/18 [==============================] - 0s 14ms/step - loss: 0.6856 - accuracy: 0.5711 - val_loss: 0.6575 - val_accuracy: 0.6800\n",
      "Epoch 4/50\n",
      "18/18 [==============================] - 0s 14ms/step - loss: 0.6792 - accuracy: 0.5821 - val_loss: 0.6431 - val_accuracy: 0.6800\n",
      "Epoch 5/50\n",
      "18/18 [==============================] - 0s 14ms/step - loss: 0.6750 - accuracy: 0.5890 - val_loss: 0.6486 - val_accuracy: 0.6800\n",
      "Epoch 6/50\n",
      "18/18 [==============================] - 0s 14ms/step - loss: 0.6696 - accuracy: 0.5945 - val_loss: 0.6469 - val_accuracy: 0.6800\n",
      "Epoch 7/50\n",
      "18/18 [==============================] - 0s 14ms/step - loss: 0.6656 - accuracy: 0.5840 - val_loss: 0.6474 - val_accuracy: 0.6800\n",
      "Epoch 8/50\n",
      "18/18 [==============================] - 0s 14ms/step - loss: 0.6490 - accuracy: 0.5923 - val_loss: 0.6545 - val_accuracy: 0.6800\n",
      "Epoch 9/50\n",
      "18/18 [==============================] - 0s 14ms/step - loss: 0.6022 - accuracy: 0.7539 - val_loss: 0.5985 - val_accuracy: 0.6800\n",
      "Epoch 10/50\n",
      "18/18 [==============================] - 0s 14ms/step - loss: 0.4696 - accuracy: 0.8674 - val_loss: 0.6532 - val_accuracy: 0.6500\n",
      "Epoch 11/50\n",
      "18/18 [==============================] - 0s 14ms/step - loss: 0.3175 - accuracy: 0.9061 - val_loss: 0.7546 - val_accuracy: 0.6400\n",
      "Epoch 12/50\n",
      "18/18 [==============================] - 0s 14ms/step - loss: 0.2350 - accuracy: 0.9268 - val_loss: 0.8501 - val_accuracy: 0.5700\n",
      "Epoch 13/50\n",
      "18/18 [==============================] - 0s 14ms/step - loss: 0.1922 - accuracy: 0.9409 - val_loss: 0.8006 - val_accuracy: 0.6300\n",
      "Epoch 14/50\n",
      "18/18 [==============================] - 0s 14ms/step - loss: 0.1491 - accuracy: 0.9583 - val_loss: 0.6728 - val_accuracy: 0.6800\n",
      "Epoch 15/50\n",
      "18/18 [==============================] - 0s 14ms/step - loss: 0.1583 - accuracy: 0.9538 - val_loss: 0.7698 - val_accuracy: 0.6500\n",
      "Epoch 16/50\n",
      "18/18 [==============================] - 0s 14ms/step - loss: 0.1239 - accuracy: 0.9697 - val_loss: 0.9598 - val_accuracy: 0.6100\n",
      "Epoch 17/50\n",
      "18/18 [==============================] - 0s 14ms/step - loss: 0.1250 - accuracy: 0.9654 - val_loss: 0.8597 - val_accuracy: 0.6600\n",
      "Epoch 18/50\n",
      "18/18 [==============================] - 0s 14ms/step - loss: 0.1206 - accuracy: 0.9613 - val_loss: 1.0586 - val_accuracy: 0.6100\n",
      "Epoch 19/50\n",
      "18/18 [==============================] - 0s 14ms/step - loss: 0.1101 - accuracy: 0.9603 - val_loss: 0.8277 - val_accuracy: 0.6900\n"
     ]
    },
    {
     "name": "stderr",
     "output_type": "stream",
     "text": [
      "WARNING:absl:Found untraced functions such as lstm_cell_layer_call_and_return_conditional_losses, lstm_cell_layer_call_fn, lstm_cell_layer_call_fn, lstm_cell_layer_call_and_return_conditional_losses, lstm_cell_layer_call_and_return_conditional_losses while saving (showing 5 of 5). These functions will not be directly callable after loading.\n",
      "WARNING:absl:Found untraced functions such as lstm_cell_layer_call_and_return_conditional_losses, lstm_cell_layer_call_fn, lstm_cell_layer_call_fn, lstm_cell_layer_call_and_return_conditional_losses, lstm_cell_layer_call_and_return_conditional_losses while saving (showing 5 of 5). These functions will not be directly callable after loading.\n"
     ]
    },
    {
     "name": "stdout",
     "output_type": "stream",
     "text": [
      "INFO:tensorflow:Assets written to: model-019.model\\assets\n"
     ]
    },
    {
     "name": "stderr",
     "output_type": "stream",
     "text": [
      "INFO:tensorflow:Assets written to: model-019.model\\assets\n"
     ]
    },
    {
     "name": "stdout",
     "output_type": "stream",
     "text": [
      "Epoch 20/50\n",
      "18/18 [==============================] - 0s 14ms/step - loss: 0.1359 - accuracy: 0.9555 - val_loss: 0.8533 - val_accuracy: 0.6700\n",
      "Epoch 21/50\n",
      "18/18 [==============================] - 0s 15ms/step - loss: 0.1255 - accuracy: 0.9567 - val_loss: 1.0203 - val_accuracy: 0.6000\n",
      "Epoch 22/50\n",
      "18/18 [==============================] - 0s 15ms/step - loss: 0.1087 - accuracy: 0.9648 - val_loss: 1.2535 - val_accuracy: 0.5900\n",
      "Epoch 23/50\n",
      "18/18 [==============================] - 0s 15ms/step - loss: 0.1140 - accuracy: 0.9584 - val_loss: 0.9479 - val_accuracy: 0.6300\n",
      "Epoch 24/50\n",
      "18/18 [==============================] - 0s 14ms/step - loss: 0.1076 - accuracy: 0.9627 - val_loss: 1.0108 - val_accuracy: 0.6300\n",
      "Epoch 25/50\n",
      "18/18 [==============================] - 0s 14ms/step - loss: 0.0946 - accuracy: 0.9728 - val_loss: 1.0507 - val_accuracy: 0.6400\n",
      "Epoch 26/50\n",
      "18/18 [==============================] - 0s 14ms/step - loss: 0.0963 - accuracy: 0.9694 - val_loss: 0.9593 - val_accuracy: 0.6200\n",
      "Epoch 27/50\n",
      "18/18 [==============================] - 0s 14ms/step - loss: 0.0922 - accuracy: 0.9712 - val_loss: 0.9982 - val_accuracy: 0.6500\n",
      "Epoch 28/50\n",
      "18/18 [==============================] - 0s 14ms/step - loss: 0.1028 - accuracy: 0.9596 - val_loss: 0.9365 - val_accuracy: 0.6400\n",
      "Epoch 29/50\n",
      "18/18 [==============================] - 0s 14ms/step - loss: 0.0988 - accuracy: 0.9658 - val_loss: 1.0529 - val_accuracy: 0.6400\n",
      "Epoch 30/50\n",
      "18/18 [==============================] - 0s 14ms/step - loss: 0.0968 - accuracy: 0.9654 - val_loss: 1.2119 - val_accuracy: 0.6200\n",
      "Epoch 31/50\n",
      "18/18 [==============================] - 0s 14ms/step - loss: 0.0881 - accuracy: 0.9689 - val_loss: 0.8796 - val_accuracy: 0.6600\n",
      "Epoch 32/50\n",
      "18/18 [==============================] - 0s 15ms/step - loss: 0.1002 - accuracy: 0.9676 - val_loss: 0.9987 - val_accuracy: 0.6300\n",
      "Epoch 33/50\n",
      "18/18 [==============================] - 0s 14ms/step - loss: 0.0826 - accuracy: 0.9717 - val_loss: 1.0401 - val_accuracy: 0.6300\n",
      "Epoch 34/50\n",
      "18/18 [==============================] - 0s 14ms/step - loss: 0.0897 - accuracy: 0.9686 - val_loss: 0.9718 - val_accuracy: 0.6500\n",
      "Epoch 35/50\n",
      "18/18 [==============================] - 0s 14ms/step - loss: 0.0877 - accuracy: 0.9678 - val_loss: 0.9299 - val_accuracy: 0.6700\n",
      "Epoch 36/50\n",
      "18/18 [==============================] - 0s 14ms/step - loss: 0.0766 - accuracy: 0.9749 - val_loss: 1.1467 - val_accuracy: 0.6100\n",
      "Epoch 37/50\n",
      "18/18 [==============================] - 0s 14ms/step - loss: 0.0770 - accuracy: 0.9722 - val_loss: 1.1665 - val_accuracy: 0.6000\n",
      "Epoch 38/50\n",
      "18/18 [==============================] - 0s 14ms/step - loss: 0.0765 - accuracy: 0.9709 - val_loss: 1.1517 - val_accuracy: 0.6100\n",
      "Epoch 39/50\n",
      "18/18 [==============================] - 0s 15ms/step - loss: 0.0774 - accuracy: 0.9715 - val_loss: 1.1626 - val_accuracy: 0.6100\n",
      "Epoch 40/50\n",
      "18/18 [==============================] - 0s 14ms/step - loss: 0.0721 - accuracy: 0.9794 - val_loss: 1.1739 - val_accuracy: 0.6300\n",
      "Epoch 41/50\n",
      "18/18 [==============================] - 0s 14ms/step - loss: 0.0804 - accuracy: 0.9686 - val_loss: 1.1218 - val_accuracy: 0.6100\n",
      "Epoch 42/50\n",
      "18/18 [==============================] - 0s 14ms/step - loss: 0.0755 - accuracy: 0.9680 - val_loss: 0.9392 - val_accuracy: 0.6800\n",
      "Epoch 43/50\n",
      "18/18 [==============================] - 0s 14ms/step - loss: 0.0843 - accuracy: 0.9704 - val_loss: 1.2405 - val_accuracy: 0.6300\n",
      "Epoch 44/50\n",
      "18/18 [==============================] - 0s 14ms/step - loss: 0.0871 - accuracy: 0.9628 - val_loss: 1.2001 - val_accuracy: 0.6300\n",
      "Epoch 45/50\n",
      "18/18 [==============================] - 0s 14ms/step - loss: 0.0958 - accuracy: 0.9535 - val_loss: 1.0614 - val_accuracy: 0.6400\n",
      "Epoch 46/50\n",
      "18/18 [==============================] - 0s 14ms/step - loss: 0.0631 - accuracy: 0.9769 - val_loss: 1.0223 - val_accuracy: 0.6700\n",
      "Epoch 47/50\n",
      "18/18 [==============================] - 0s 14ms/step - loss: 0.0738 - accuracy: 0.9725 - val_loss: 1.1975 - val_accuracy: 0.6200\n",
      "Epoch 48/50\n",
      "18/18 [==============================] - 0s 14ms/step - loss: 0.0698 - accuracy: 0.9707 - val_loss: 1.0864 - val_accuracy: 0.6500\n",
      "Epoch 49/50\n",
      "18/18 [==============================] - 0s 14ms/step - loss: 0.0699 - accuracy: 0.9747 - val_loss: 1.0719 - val_accuracy: 0.6500\n",
      "Epoch 50/50\n",
      "18/18 [==============================] - 0s 14ms/step - loss: 0.0887 - accuracy: 0.9630 - val_loss: 1.1303 - val_accuracy: 0.6200\n"
     ]
    }
   ],
   "source": [
    "from keras.callbacks import ModelCheckpoint\n",
    "\n",
    "cp_callback = tf.keras.callbacks.ModelCheckpoint(save_weights_only=True,\n",
    "                                                 verbose=1)\n",
    "\n",
    "history = model.fit(X_train, y_train, validation_data=(X_test, y_test), epochs=50, batch_size=50,callbacks=[cp_callback])"
   ]
  },
  {
   "cell_type": "code",
   "execution_count": 33,
   "id": "02012d2a",
   "metadata": {},
   "outputs": [
    {
     "data": {
      "image/png": "[encoded data removed]",
      "text/plain": [
       "<Figure size 432x288 with 1 Axes>"
      ]
     },
     "metadata": {
      "needs_background": "light"
     },
     "output_type": "display_data"
    },
    {
     "data": {
      "image/png": "[encoded data removed]",
      "text/plain": [
       "<Figure size 432x288 with 1 Axes>"
      ]
     },
     "metadata": {
      "needs_background": "light"
     },
     "output_type": "display_data"
    }
   ],
   "source": [
    "import matplotlib.pyplot as plt\n",
    "\n",
    "def plot_graphs(history, string):\n",
    "    plt.plot(history.history[string])\n",
    "    plt.plot(history.history['val_'+string])\n",
    "    plt.xlabel(\"Epochs\")\n",
    "    plt.ylabel(string)\n",
    "    plt.legend([string, 'val_'+string])\n",
    "    plt.show()\n",
    "\n",
    "plot_graphs(history, 'accuracy')\n",
    "plot_graphs(history, 'loss')"
   ]
  },
  {
   "cell_type": "markdown",
   "id": "de64f5b1",
   "metadata": {},
   "source": [
    "## Model 2"
   ]
  },
  {
   "cell_type": "code",
   "execution_count": 44,
   "id": "a0a8119d",
   "metadata": {},
   "outputs": [
    {
     "name": "stdout",
     "output_type": "stream",
     "text": [
      "Model: \"sequential_7\"\n",
      "_________________________________________________________________\n",
      "Layer (type)                 Output Shape              Param #   \n",
      "=================================================================\n",
      "embedding_7 (Embedding)      (None, 58, 100)           400000    \n",
      "_________________________________________________________________\n",
      "bidirectional_6 (Bidirection (None, 106)               65296     \n",
      "_________________________________________________________________\n",
      "dense_33 (Dense)             (None, 24)                2568      \n",
      "_________________________________________________________________\n",
      "dense_34 (Dense)             (None, 24)                600       \n",
      "_________________________________________________________________\n",
      "dense_35 (Dense)             (None, 24)                600       \n",
      "_________________________________________________________________\n",
      "dropout_6 (Dropout)          (None, 24)                0         \n",
      "_________________________________________________________________\n",
      "dense_36 (Dense)             (None, 24)                600       \n",
      "_________________________________________________________________\n",
      "dense_37 (Dense)             (None, 1)                 25        \n",
      "=================================================================\n",
      "Total params: 469,689\n",
      "Trainable params: 469,689\n",
      "Non-trainable params: 0\n",
      "_________________________________________________________________\n"
     ]
    }
   ],
   "source": [
    "embedding_vector_length = 100\n",
    "model = tf.keras.Sequential([\n",
    "    tf.keras.layers.Embedding(vocab_size, embedding_vector_length, input_length=max_length),\n",
    "    tf.keras.layers.Bidirectional(tf.keras.layers.LSTM(53)),\n",
    "    #53 karena max words nya ada 53\n",
    "    tf.keras.layers.Dense(24, activation='relu'),\n",
    "    tf.keras.layers.Dense(24, activation='relu'),\n",
    "    tf.keras.layers.Dense(24, activation='sigmoid'),\n",
    "    tf.keras.layers.Dropout(0.25),\n",
    "    tf.keras.layers.Dense(24, activation='sigmoid'),\n",
    "    tf.keras.layers.Dense(1, activation='sigmoid')\n",
    "])\n",
    "model.summary()\n",
    "\n",
    "\n",
    "model.compile(loss='binary_crossentropy', optimizer='adam', metrics=['accuracy'])"
   ]
  },
  {
   "cell_type": "code",
   "execution_count": 48,
   "id": "0fef20eb",
   "metadata": {},
   "outputs": [
    {
     "name": "stdout",
     "output_type": "stream",
     "text": [
      "Epoch 1/50\n",
      "18/18 [==============================] - 0s 27ms/step - loss: 0.0683 - accuracy: 0.9700 - val_loss: 0.8836 - val_accuracy: 0.7100\n",
      "\n",
      "Epoch 00001: saving model to training_1\\cp.ckpt\n",
      "Epoch 2/50\n",
      "18/18 [==============================] - 0s 25ms/step - loss: 0.0693 - accuracy: 0.9656 - val_loss: 0.8419 - val_accuracy: 0.7400\n",
      "\n",
      "Epoch 00002: saving model to training_1\\cp.ckpt\n",
      "Epoch 3/50\n",
      "18/18 [==============================] - 0s 26ms/step - loss: 0.0720 - accuracy: 0.9711 - val_loss: 0.8473 - val_accuracy: 0.7300\n",
      "\n",
      "Epoch 00003: saving model to training_1\\cp.ckpt\n",
      "Epoch 4/50\n",
      "18/18 [==============================] - 0s 25ms/step - loss: 0.0693 - accuracy: 0.9644 - val_loss: 0.8707 - val_accuracy: 0.7300\n",
      "\n",
      "Epoch 00004: saving model to training_1\\cp.ckpt\n",
      "Epoch 5/50\n",
      "18/18 [==============================] - 0s 25ms/step - loss: 0.0681 - accuracy: 0.9667 - val_loss: 0.7407 - val_accuracy: 0.7600\n",
      "\n",
      "Epoch 00005: saving model to training_1\\cp.ckpt\n",
      "Epoch 6/50\n",
      "18/18 [==============================] - 0s 26ms/step - loss: 0.0662 - accuracy: 0.9744 - val_loss: 0.8713 - val_accuracy: 0.7300\n",
      "\n",
      "Epoch 00006: saving model to training_1\\cp.ckpt\n",
      "Epoch 7/50\n",
      "18/18 [==============================] - 0s 24ms/step - loss: 0.0669 - accuracy: 0.9678 - val_loss: 0.7676 - val_accuracy: 0.7400\n",
      "\n",
      "Epoch 00007: saving model to training_1\\cp.ckpt\n",
      "Epoch 8/50\n",
      "18/18 [==============================] - 0s 24ms/step - loss: 0.0663 - accuracy: 0.9711 - val_loss: 0.8488 - val_accuracy: 0.7400\n",
      "\n",
      "Epoch 00008: saving model to training_1\\cp.ckpt\n",
      "Epoch 9/50\n",
      "18/18 [==============================] - 0s 25ms/step - loss: 0.0684 - accuracy: 0.9689 - val_loss: 0.9203 - val_accuracy: 0.7200\n",
      "\n",
      "Epoch 00009: saving model to training_1\\cp.ckpt\n",
      "Epoch 10/50\n",
      "18/18 [==============================] - 0s 24ms/step - loss: 0.0693 - accuracy: 0.9656 - val_loss: 0.8490 - val_accuracy: 0.7400\n",
      "\n",
      "Epoch 00010: saving model to training_1\\cp.ckpt\n",
      "Epoch 11/50\n",
      "18/18 [==============================] - 0s 24ms/step - loss: 0.0669 - accuracy: 0.9711 - val_loss: 0.8173 - val_accuracy: 0.7500\n",
      "\n",
      "Epoch 00011: saving model to training_1\\cp.ckpt\n",
      "Epoch 12/50\n",
      "18/18 [==============================] - 0s 25ms/step - loss: 0.0690 - accuracy: 0.9656 - val_loss: 0.8460 - val_accuracy: 0.7500\n",
      "\n",
      "Epoch 00012: saving model to training_1\\cp.ckpt\n",
      "Epoch 13/50\n",
      "18/18 [==============================] - 0s 25ms/step - loss: 0.0683 - accuracy: 0.9700 - val_loss: 0.8631 - val_accuracy: 0.7500\n",
      "\n",
      "Epoch 00013: saving model to training_1\\cp.ckpt\n",
      "Epoch 14/50\n",
      "18/18 [==============================] - 0s 25ms/step - loss: 0.0699 - accuracy: 0.9656 - val_loss: 0.7678 - val_accuracy: 0.7200\n",
      "\n",
      "Epoch 00014: saving model to training_1\\cp.ckpt\n",
      "Epoch 15/50\n",
      "18/18 [==============================] - 0s 26ms/step - loss: 0.0700 - accuracy: 0.9633 - val_loss: 0.7568 - val_accuracy: 0.7400\n",
      "\n",
      "Epoch 00015: saving model to training_1\\cp.ckpt\n",
      "Epoch 16/50\n",
      "18/18 [==============================] - 0s 25ms/step - loss: 0.0665 - accuracy: 0.9678 - val_loss: 0.9046 - val_accuracy: 0.7600\n",
      "\n",
      "Epoch 00016: saving model to training_1\\cp.ckpt\n",
      "Epoch 17/50\n",
      "18/18 [==============================] - 0s 25ms/step - loss: 0.0696 - accuracy: 0.9689 - val_loss: 0.6974 - val_accuracy: 0.7800\n",
      "\n",
      "Epoch 00017: saving model to training_1\\cp.ckpt\n",
      "Epoch 18/50\n",
      "18/18 [==============================] - 0s 24ms/step - loss: 0.0754 - accuracy: 0.9644 - val_loss: 0.8248 - val_accuracy: 0.7600\n",
      "\n",
      "Epoch 00018: saving model to training_1\\cp.ckpt\n",
      "Epoch 19/50\n",
      "18/18 [==============================] - 0s 25ms/step - loss: 0.0628 - accuracy: 0.9689 - val_loss: 0.8822 - val_accuracy: 0.7400\n",
      "\n",
      "Epoch 00019: saving model to training_1\\cp.ckpt\n",
      "Epoch 20/50\n",
      "18/18 [==============================] - 0s 24ms/step - loss: 0.0627 - accuracy: 0.9678 - val_loss: 0.8779 - val_accuracy: 0.7600\n",
      "\n",
      "Epoch 00020: saving model to training_1\\cp.ckpt\n",
      "Epoch 21/50\n",
      "18/18 [==============================] - 0s 25ms/step - loss: 0.0674 - accuracy: 0.9667 - val_loss: 0.8193 - val_accuracy: 0.7500\n",
      "\n",
      "Epoch 00021: saving model to training_1\\cp.ckpt\n",
      "Epoch 22/50\n",
      "18/18 [==============================] - 0s 24ms/step - loss: 0.0652 - accuracy: 0.9678 - val_loss: 0.8907 - val_accuracy: 0.7600\n",
      "\n",
      "Epoch 00022: saving model to training_1\\cp.ckpt\n",
      "Epoch 23/50\n",
      "18/18 [==============================] - 0s 26ms/step - loss: 0.0617 - accuracy: 0.9711 - val_loss: 0.8757 - val_accuracy: 0.7600\n",
      "\n",
      "Epoch 00023: saving model to training_1\\cp.ckpt\n",
      "Epoch 24/50\n",
      "18/18 [==============================] - 0s 26ms/step - loss: 0.0651 - accuracy: 0.9700 - val_loss: 0.9021 - val_accuracy: 0.7400\n",
      "\n",
      "Epoch 00024: saving model to training_1\\cp.ckpt\n",
      "Epoch 25/50\n",
      "18/18 [==============================] - 0s 25ms/step - loss: 0.0575 - accuracy: 0.9744 - val_loss: 0.9250 - val_accuracy: 0.7500\n",
      "\n",
      "Epoch 00025: saving model to training_1\\cp.ckpt\n",
      "Epoch 26/50\n",
      "18/18 [==============================] - 0s 25ms/step - loss: 0.0637 - accuracy: 0.9689 - val_loss: 0.9083 - val_accuracy: 0.7600\n",
      "\n",
      "Epoch 00026: saving model to training_1\\cp.ckpt\n",
      "Epoch 27/50\n",
      "18/18 [==============================] - 0s 24ms/step - loss: 0.0652 - accuracy: 0.9667 - val_loss: 0.9143 - val_accuracy: 0.7700\n",
      "\n",
      "Epoch 00027: saving model to training_1\\cp.ckpt\n",
      "Epoch 28/50\n",
      "18/18 [==============================] - 0s 26ms/step - loss: 0.0669 - accuracy: 0.9667 - val_loss: 0.8520 - val_accuracy: 0.7700\n",
      "\n",
      "Epoch 00028: saving model to training_1\\cp.ckpt\n",
      "Epoch 29/50\n",
      "18/18 [==============================] - 0s 27ms/step - loss: 0.0641 - accuracy: 0.9678 - val_loss: 0.9658 - val_accuracy: 0.7200\n",
      "\n",
      "Epoch 00029: saving model to training_1\\cp.ckpt\n",
      "Epoch 30/50\n",
      "18/18 [==============================] - 0s 26ms/step - loss: 0.0638 - accuracy: 0.9656 - val_loss: 0.8587 - val_accuracy: 0.7600\n",
      "\n",
      "Epoch 00030: saving model to training_1\\cp.ckpt\n",
      "Epoch 31/50\n",
      "18/18 [==============================] - 0s 25ms/step - loss: 0.0648 - accuracy: 0.9678 - val_loss: 0.8210 - val_accuracy: 0.7600\n",
      "\n",
      "Epoch 00031: saving model to training_1\\cp.ckpt\n",
      "Epoch 32/50\n",
      "18/18 [==============================] - 0s 25ms/step - loss: 0.0686 - accuracy: 0.9644 - val_loss: 0.8900 - val_accuracy: 0.7500\n",
      "\n",
      "Epoch 00032: saving model to training_1\\cp.ckpt\n",
      "Epoch 33/50\n",
      "18/18 [==============================] - 0s 25ms/step - loss: 0.0648 - accuracy: 0.9678 - val_loss: 0.8803 - val_accuracy: 0.7400\n",
      "\n",
      "Epoch 00033: saving model to training_1\\cp.ckpt\n",
      "Epoch 34/50\n",
      "18/18 [==============================] - 0s 25ms/step - loss: 0.0626 - accuracy: 0.9689 - val_loss: 0.9020 - val_accuracy: 0.7500\n",
      "\n",
      "Epoch 00034: saving model to training_1\\cp.ckpt\n",
      "Epoch 35/50\n",
      "18/18 [==============================] - 0s 24ms/step - loss: 0.0657 - accuracy: 0.9656 - val_loss: 0.9170 - val_accuracy: 0.7400\n",
      "\n",
      "Epoch 00035: saving model to training_1\\cp.ckpt\n",
      "Epoch 36/50\n",
      "18/18 [==============================] - 0s 24ms/step - loss: 0.0591 - accuracy: 0.9722 - val_loss: 0.9608 - val_accuracy: 0.7500\n",
      "\n",
      "Epoch 00036: saving model to training_1\\cp.ckpt\n",
      "Epoch 37/50\n",
      "18/18 [==============================] - 0s 24ms/step - loss: 0.0631 - accuracy: 0.9689 - val_loss: 0.9432 - val_accuracy: 0.7400\n",
      "\n",
      "Epoch 00037: saving model to training_1\\cp.ckpt\n",
      "Epoch 38/50\n",
      "18/18 [==============================] - 0s 25ms/step - loss: 0.0625 - accuracy: 0.9700 - val_loss: 0.9338 - val_accuracy: 0.7600\n",
      "\n",
      "Epoch 00038: saving model to training_1\\cp.ckpt\n",
      "Epoch 39/50\n",
      "18/18 [==============================] - 0s 25ms/step - loss: 0.0613 - accuracy: 0.9711 - val_loss: 0.8714 - val_accuracy: 0.7500\n",
      "\n",
      "Epoch 00039: saving model to training_1\\cp.ckpt\n",
      "Epoch 40/50\n",
      "18/18 [==============================] - 0s 24ms/step - loss: 0.0623 - accuracy: 0.9689 - val_loss: 0.9425 - val_accuracy: 0.7500\n",
      "\n",
      "Epoch 00040: saving model to training_1\\cp.ckpt\n",
      "Epoch 41/50\n",
      "18/18 [==============================] - 0s 25ms/step - loss: 0.0598 - accuracy: 0.9678 - val_loss: 0.8868 - val_accuracy: 0.7400\n",
      "\n",
      "Epoch 00041: saving model to training_1\\cp.ckpt\n",
      "Epoch 42/50\n",
      "18/18 [==============================] - 0s 25ms/step - loss: 0.0632 - accuracy: 0.9656 - val_loss: 0.9178 - val_accuracy: 0.7500\n",
      "\n",
      "Epoch 00042: saving model to training_1\\cp.ckpt\n",
      "Epoch 43/50\n",
      "18/18 [==============================] - 0s 25ms/step - loss: 0.0613 - accuracy: 0.9667 - val_loss: 0.9488 - val_accuracy: 0.7600\n",
      "\n",
      "Epoch 00043: saving model to training_1\\cp.ckpt\n"
     ]
    },
    {
     "name": "stdout",
     "output_type": "stream",
     "text": [
      "Epoch 44/50\n",
      "18/18 [==============================] - 0s 24ms/step - loss: 0.0634 - accuracy: 0.9644 - val_loss: 0.9388 - val_accuracy: 0.7600\n",
      "\n",
      "Epoch 00044: saving model to training_1\\cp.ckpt\n",
      "Epoch 45/50\n",
      "18/18 [==============================] - 0s 24ms/step - loss: 0.0599 - accuracy: 0.9689 - val_loss: 0.9054 - val_accuracy: 0.7600\n",
      "\n",
      "Epoch 00045: saving model to training_1\\cp.ckpt\n",
      "Epoch 46/50\n",
      "18/18 [==============================] - 0s 24ms/step - loss: 0.0585 - accuracy: 0.9722 - val_loss: 0.8725 - val_accuracy: 0.7600\n",
      "\n",
      "Epoch 00046: saving model to training_1\\cp.ckpt\n",
      "Epoch 47/50\n",
      "18/18 [==============================] - 0s 25ms/step - loss: 0.0624 - accuracy: 0.9678 - val_loss: 0.9674 - val_accuracy: 0.7600\n",
      "\n",
      "Epoch 00047: saving model to training_1\\cp.ckpt\n",
      "Epoch 48/50\n",
      "18/18 [==============================] - 0s 24ms/step - loss: 0.0624 - accuracy: 0.9656 - val_loss: 0.8098 - val_accuracy: 0.7800\n",
      "\n",
      "Epoch 00048: saving model to training_1\\cp.ckpt\n",
      "Epoch 49/50\n",
      "18/18 [==============================] - 0s 25ms/step - loss: 0.0603 - accuracy: 0.9711 - val_loss: 0.8662 - val_accuracy: 0.7600\n",
      "\n",
      "Epoch 00049: saving model to training_1\\cp.ckpt\n",
      "Epoch 50/50\n",
      "18/18 [==============================] - 0s 25ms/step - loss: 0.0583 - accuracy: 0.9711 - val_loss: 0.9439 - val_accuracy: 0.7600\n",
      "\n",
      "Epoch 00050: saving model to training_1\\cp.ckpt\n"
     ]
    }
   ],
   "source": [
    "from keras.callbacks import ModelCheckpoint\n",
    "\n",
    "checkpoint_path = \"training_1_weights/cp.ckpt\"\n",
    "checkpoint_dir = os.path.dirname(checkpoint_path)\n",
    "\n",
    "cp_callback = tf.keras.callbacks.ModelCheckpoint(filepath=checkpoint_path,\n",
    "                                                 save_weights_only=True,\n",
    "                                                 verbose=1)\n",
    "\n",
    "history = model.fit(X_train, y_train, validation_data=(X_test, y_test), epochs=50, batch_size=50,callbacks=[cp_callback])"
   ]
  },
  {
   "cell_type": "code",
   "execution_count": 45,
   "id": "4665737f",
   "metadata": {},
   "outputs": [
    {
     "data": {
      "image/png": "[encoded data removed]",
      "text/plain": [
       "<Figure size 432x288 with 1 Axes>"
      ]
     },
     "metadata": {
      "needs_background": "light"
     },
     "output_type": "display_data"
    },
    {
     "data": {
      "image/png": "[encoded data removed]",
      "text/plain": [
       "<Figure size 432x288 with 1 Axes>"
      ]
     },
     "metadata": {
      "needs_background": "light"
     },
     "output_type": "display_data"
    }
   ],
   "source": [
    "import matplotlib.pyplot as plt\n",
    "\n",
    "def plot_graphs(history, string):\n",
    "    plt.plot(history.history[string])\n",
    "    plt.plot(history.history['val_'+string])\n",
    "    plt.xlabel(\"Epochs\")\n",
    "    plt.ylabel(string)\n",
    "    plt.legend([string, 'val_'+string])\n",
    "    plt.show()\n",
    "\n",
    "plot_graphs(history, 'accuracy')\n",
    "plot_graphs(history, 'loss')"
   ]
  },
  {
   "cell_type": "code",
   "execution_count": null,
   "id": "8159694a",
   "metadata": {},
   "outputs": [],
   "source": []
  }
 ],
 "metadata": {
  "kernelspec": {
   "display_name": "Python 3",
   "language": "python",
   "name": "python3"
  },
  "language_info": {
   "codemirror_mode": {
    "name": "ipython",
    "version": 3
   },
   "file_extension": ".py",
   "mimetype": "text/x-python",
   "name": "python",
   "nbconvert_exporter": "python",
   "pygments_lexer": "ipython3",
   "version": "3.8.8"
  }
 },
 "nbformat": 4,
 "nbformat_minor": 5
}
